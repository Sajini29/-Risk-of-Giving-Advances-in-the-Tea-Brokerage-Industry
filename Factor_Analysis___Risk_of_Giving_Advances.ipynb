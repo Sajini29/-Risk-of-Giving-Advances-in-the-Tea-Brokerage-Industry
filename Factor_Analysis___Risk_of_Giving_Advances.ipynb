{
  "nbformat": 4,
  "nbformat_minor": 0,
  "metadata": {
    "colab": {
      "provenance": [],
      "authorship_tag": "ABX9TyN8K3bt1LFC0tzdk86lLY0X",
      "include_colab_link": true
    },
    "kernelspec": {
      "name": "python3",
      "display_name": "Python 3"
    },
    "language_info": {
      "name": "python"
    }
  },
  "cells": [
    {
      "cell_type": "markdown",
      "metadata": {
        "id": "view-in-github",
        "colab_type": "text"
      },
      "source": [
        "<a href=\"https://colab.research.google.com/github/Sajini29/-Risk-of-Giving-Advances-in-the-Tea-Brokerage-Industry/blob/main/Factor_Analysis___Risk_of_Giving_Advances.ipynb\" target=\"_parent\"><img src=\"https://colab.research.google.com/assets/colab-badge.svg\" alt=\"Open In Colab\"/></a>"
      ]
    },
    {
      "cell_type": "markdown",
      "source": [
        " In here factor Analysis was performed to create the risk indicator."
      ],
      "metadata": {
        "id": "lplnU0hohp6j"
      }
    },
    {
      "cell_type": "code",
      "execution_count": 2,
      "metadata": {
        "colab": {
          "base_uri": "https://localhost:8080/"
        },
        "id": "qAkzUrF9yISd",
        "outputId": "073f0388-4093-4d62-dc59-606c9af43753"
      },
      "outputs": [
        {
          "output_type": "stream",
          "name": "stdout",
          "text": [
            "Mounted at /content/drive\n"
          ]
        }
      ],
      "source": [
        "# mount drive\n",
        "from google.colab import drive\n",
        "drive.mount('/content/drive')"
      ]
    },
    {
      "cell_type": "code",
      "source": [
        "!ls \"/content/drive/MyDrive/Asia Siyaka\""
      ],
      "metadata": {
        "colab": {
          "base_uri": "https://localhost:8080/"
        },
        "id": "Q8KqNbVDyLtL",
        "outputId": "44d8cc72-9e1f-4ccf-a134-88756011bb23"
      },
      "execution_count": 1,
      "outputs": [
        {
          "output_type": "stream",
          "name": "stdout",
          "text": [
            "ls: cannot access '/content/drive/MyDrive/Asia Siyaka': No such file or directory\n"
          ]
        }
      ]
    },
    {
      "cell_type": "code",
      "source": [
        "import pandas as pd\n",
        "import numpy as np"
      ],
      "metadata": {
        "id": "X6t7I6gVyLzV"
      },
      "execution_count": 3,
      "outputs": []
    },
    {
      "cell_type": "code",
      "source": [
        "csv_file1 = \"/content/drive/MyDrive/Asia Siyaka/Final_02_Preprossed.csv\"\n",
        "\n",
        "df = pd.read_csv(csv_file1)"
      ],
      "metadata": {
        "id": "DGEYVYrUyMm7"
      },
      "execution_count": 4,
      "outputs": []
    },
    {
      "cell_type": "code",
      "source": [
        "df.head()"
      ],
      "metadata": {
        "colab": {
          "base_uri": "https://localhost:8080/",
          "height": 313
        },
        "id": "fCAASOEJyOUb",
        "outputId": "12d8e844-28fa-49c5-d177-b5459f9c7c3a"
      },
      "execution_count": 5,
      "outputs": [
        {
          "output_type": "execute_result",
          "data": {
            "text/plain": [
              "    TCode  Average    Stock   StockValue  70%StockValue    Proceeds  \\\n",
              "0  BF0111   405.56  21681.0   8792943.00     6155060.10  1024871.67   \n",
              "1  BF0111   431.21  24823.0  10703823.61     7492676.53  1845832.24   \n",
              "2  BF0111   453.22  22461.0  10179786.44     7125850.51  3240724.52   \n",
              "3  BF0111   433.62  20386.0   8839714.59     6187800.21  1272360.23   \n",
              "4  BF0111   422.17  14782.0   6240460.96     4368322.67  3263006.68   \n",
              "\n",
              "   AdvanceBalance  IsOverAdvance  AdvanceInterest  OverAdvanceInterest  \\\n",
              "0            0.00              0             0.00                  0.0   \n",
              "1            0.00              0             0.00                  0.0   \n",
              "2       547607.19              0           285.06                  0.0   \n",
              "3            0.00              0             0.00                  0.0   \n",
              "4            0.00              0             0.00                  0.0   \n",
              "\n",
              "   OverAdvanceAmount TransferDate               FactoryName Elevation  \n",
              "0                0.0   2019-01-03  Pilimatalawa Tea Factory       Low  \n",
              "1                0.0   2019-01-10  Pilimatalawa Tea Factory       Low  \n",
              "2                0.0   2019-01-17  Pilimatalawa Tea Factory       Low  \n",
              "3                0.0   2019-01-24  Pilimatalawa Tea Factory       Low  \n",
              "4                0.0   2019-01-31  Pilimatalawa Tea Factory       Low  "
            ],
            "text/html": [
              "\n",
              "  <div id=\"df-07f27c1c-edd1-4648-8730-b741566e9684\" class=\"colab-df-container\">\n",
              "    <div>\n",
              "<style scoped>\n",
              "    .dataframe tbody tr th:only-of-type {\n",
              "        vertical-align: middle;\n",
              "    }\n",
              "\n",
              "    .dataframe tbody tr th {\n",
              "        vertical-align: top;\n",
              "    }\n",
              "\n",
              "    .dataframe thead th {\n",
              "        text-align: right;\n",
              "    }\n",
              "</style>\n",
              "<table border=\"1\" class=\"dataframe\">\n",
              "  <thead>\n",
              "    <tr style=\"text-align: right;\">\n",
              "      <th></th>\n",
              "      <th>TCode</th>\n",
              "      <th>Average</th>\n",
              "      <th>Stock</th>\n",
              "      <th>StockValue</th>\n",
              "      <th>70%StockValue</th>\n",
              "      <th>Proceeds</th>\n",
              "      <th>AdvanceBalance</th>\n",
              "      <th>IsOverAdvance</th>\n",
              "      <th>AdvanceInterest</th>\n",
              "      <th>OverAdvanceInterest</th>\n",
              "      <th>OverAdvanceAmount</th>\n",
              "      <th>TransferDate</th>\n",
              "      <th>FactoryName</th>\n",
              "      <th>Elevation</th>\n",
              "    </tr>\n",
              "  </thead>\n",
              "  <tbody>\n",
              "    <tr>\n",
              "      <th>0</th>\n",
              "      <td>BF0111</td>\n",
              "      <td>405.56</td>\n",
              "      <td>21681.0</td>\n",
              "      <td>8792943.00</td>\n",
              "      <td>6155060.10</td>\n",
              "      <td>1024871.67</td>\n",
              "      <td>0.00</td>\n",
              "      <td>0</td>\n",
              "      <td>0.00</td>\n",
              "      <td>0.0</td>\n",
              "      <td>0.0</td>\n",
              "      <td>2019-01-03</td>\n",
              "      <td>Pilimatalawa Tea Factory</td>\n",
              "      <td>Low</td>\n",
              "    </tr>\n",
              "    <tr>\n",
              "      <th>1</th>\n",
              "      <td>BF0111</td>\n",
              "      <td>431.21</td>\n",
              "      <td>24823.0</td>\n",
              "      <td>10703823.61</td>\n",
              "      <td>7492676.53</td>\n",
              "      <td>1845832.24</td>\n",
              "      <td>0.00</td>\n",
              "      <td>0</td>\n",
              "      <td>0.00</td>\n",
              "      <td>0.0</td>\n",
              "      <td>0.0</td>\n",
              "      <td>2019-01-10</td>\n",
              "      <td>Pilimatalawa Tea Factory</td>\n",
              "      <td>Low</td>\n",
              "    </tr>\n",
              "    <tr>\n",
              "      <th>2</th>\n",
              "      <td>BF0111</td>\n",
              "      <td>453.22</td>\n",
              "      <td>22461.0</td>\n",
              "      <td>10179786.44</td>\n",
              "      <td>7125850.51</td>\n",
              "      <td>3240724.52</td>\n",
              "      <td>547607.19</td>\n",
              "      <td>0</td>\n",
              "      <td>285.06</td>\n",
              "      <td>0.0</td>\n",
              "      <td>0.0</td>\n",
              "      <td>2019-01-17</td>\n",
              "      <td>Pilimatalawa Tea Factory</td>\n",
              "      <td>Low</td>\n",
              "    </tr>\n",
              "    <tr>\n",
              "      <th>3</th>\n",
              "      <td>BF0111</td>\n",
              "      <td>433.62</td>\n",
              "      <td>20386.0</td>\n",
              "      <td>8839714.59</td>\n",
              "      <td>6187800.21</td>\n",
              "      <td>1272360.23</td>\n",
              "      <td>0.00</td>\n",
              "      <td>0</td>\n",
              "      <td>0.00</td>\n",
              "      <td>0.0</td>\n",
              "      <td>0.0</td>\n",
              "      <td>2019-01-24</td>\n",
              "      <td>Pilimatalawa Tea Factory</td>\n",
              "      <td>Low</td>\n",
              "    </tr>\n",
              "    <tr>\n",
              "      <th>4</th>\n",
              "      <td>BF0111</td>\n",
              "      <td>422.17</td>\n",
              "      <td>14782.0</td>\n",
              "      <td>6240460.96</td>\n",
              "      <td>4368322.67</td>\n",
              "      <td>3263006.68</td>\n",
              "      <td>0.00</td>\n",
              "      <td>0</td>\n",
              "      <td>0.00</td>\n",
              "      <td>0.0</td>\n",
              "      <td>0.0</td>\n",
              "      <td>2019-01-31</td>\n",
              "      <td>Pilimatalawa Tea Factory</td>\n",
              "      <td>Low</td>\n",
              "    </tr>\n",
              "  </tbody>\n",
              "</table>\n",
              "</div>\n",
              "    <div class=\"colab-df-buttons\">\n",
              "\n",
              "  <div class=\"colab-df-container\">\n",
              "    <button class=\"colab-df-convert\" onclick=\"convertToInteractive('df-07f27c1c-edd1-4648-8730-b741566e9684')\"\n",
              "            title=\"Convert this dataframe to an interactive table.\"\n",
              "            style=\"display:none;\">\n",
              "\n",
              "  <svg xmlns=\"http://www.w3.org/2000/svg\" height=\"24px\" viewBox=\"0 -960 960 960\">\n",
              "    <path d=\"M120-120v-720h720v720H120Zm60-500h600v-160H180v160Zm220 220h160v-160H400v160Zm0 220h160v-160H400v160ZM180-400h160v-160H180v160Zm440 0h160v-160H620v160ZM180-180h160v-160H180v160Zm440 0h160v-160H620v160Z\"/>\n",
              "  </svg>\n",
              "    </button>\n",
              "\n",
              "  <style>\n",
              "    .colab-df-container {\n",
              "      display:flex;\n",
              "      gap: 12px;\n",
              "    }\n",
              "\n",
              "    .colab-df-convert {\n",
              "      background-color: #E8F0FE;\n",
              "      border: none;\n",
              "      border-radius: 50%;\n",
              "      cursor: pointer;\n",
              "      display: none;\n",
              "      fill: #1967D2;\n",
              "      height: 32px;\n",
              "      padding: 0 0 0 0;\n",
              "      width: 32px;\n",
              "    }\n",
              "\n",
              "    .colab-df-convert:hover {\n",
              "      background-color: #E2EBFA;\n",
              "      box-shadow: 0px 1px 2px rgba(60, 64, 67, 0.3), 0px 1px 3px 1px rgba(60, 64, 67, 0.15);\n",
              "      fill: #174EA6;\n",
              "    }\n",
              "\n",
              "    .colab-df-buttons div {\n",
              "      margin-bottom: 4px;\n",
              "    }\n",
              "\n",
              "    [theme=dark] .colab-df-convert {\n",
              "      background-color: #3B4455;\n",
              "      fill: #D2E3FC;\n",
              "    }\n",
              "\n",
              "    [theme=dark] .colab-df-convert:hover {\n",
              "      background-color: #434B5C;\n",
              "      box-shadow: 0px 1px 3px 1px rgba(0, 0, 0, 0.15);\n",
              "      filter: drop-shadow(0px 1px 2px rgba(0, 0, 0, 0.3));\n",
              "      fill: #FFFFFF;\n",
              "    }\n",
              "  </style>\n",
              "\n",
              "    <script>\n",
              "      const buttonEl =\n",
              "        document.querySelector('#df-07f27c1c-edd1-4648-8730-b741566e9684 button.colab-df-convert');\n",
              "      buttonEl.style.display =\n",
              "        google.colab.kernel.accessAllowed ? 'block' : 'none';\n",
              "\n",
              "      async function convertToInteractive(key) {\n",
              "        const element = document.querySelector('#df-07f27c1c-edd1-4648-8730-b741566e9684');\n",
              "        const dataTable =\n",
              "          await google.colab.kernel.invokeFunction('convertToInteractive',\n",
              "                                                    [key], {});\n",
              "        if (!dataTable) return;\n",
              "\n",
              "        const docLinkHtml = 'Like what you see? Visit the ' +\n",
              "          '<a target=\"_blank\" href=https://colab.research.google.com/notebooks/data_table.ipynb>data table notebook</a>'\n",
              "          + ' to learn more about interactive tables.';\n",
              "        element.innerHTML = '';\n",
              "        dataTable['output_type'] = 'display_data';\n",
              "        await google.colab.output.renderOutput(dataTable, element);\n",
              "        const docLink = document.createElement('div');\n",
              "        docLink.innerHTML = docLinkHtml;\n",
              "        element.appendChild(docLink);\n",
              "      }\n",
              "    </script>\n",
              "  </div>\n",
              "\n",
              "\n",
              "<div id=\"df-a0819f50-ca1b-4c46-a63f-ac444c90c8b4\">\n",
              "  <button class=\"colab-df-quickchart\" onclick=\"quickchart('df-a0819f50-ca1b-4c46-a63f-ac444c90c8b4')\"\n",
              "            title=\"Suggest charts\"\n",
              "            style=\"display:none;\">\n",
              "\n",
              "<svg xmlns=\"http://www.w3.org/2000/svg\" height=\"24px\"viewBox=\"0 0 24 24\"\n",
              "     width=\"24px\">\n",
              "    <g>\n",
              "        <path d=\"M19 3H5c-1.1 0-2 .9-2 2v14c0 1.1.9 2 2 2h14c1.1 0 2-.9 2-2V5c0-1.1-.9-2-2-2zM9 17H7v-7h2v7zm4 0h-2V7h2v10zm4 0h-2v-4h2v4z\"/>\n",
              "    </g>\n",
              "</svg>\n",
              "  </button>\n",
              "\n",
              "<style>\n",
              "  .colab-df-quickchart {\n",
              "      --bg-color: #E8F0FE;\n",
              "      --fill-color: #1967D2;\n",
              "      --hover-bg-color: #E2EBFA;\n",
              "      --hover-fill-color: #174EA6;\n",
              "      --disabled-fill-color: #AAA;\n",
              "      --disabled-bg-color: #DDD;\n",
              "  }\n",
              "\n",
              "  [theme=dark] .colab-df-quickchart {\n",
              "      --bg-color: #3B4455;\n",
              "      --fill-color: #D2E3FC;\n",
              "      --hover-bg-color: #434B5C;\n",
              "      --hover-fill-color: #FFFFFF;\n",
              "      --disabled-bg-color: #3B4455;\n",
              "      --disabled-fill-color: #666;\n",
              "  }\n",
              "\n",
              "  .colab-df-quickchart {\n",
              "    background-color: var(--bg-color);\n",
              "    border: none;\n",
              "    border-radius: 50%;\n",
              "    cursor: pointer;\n",
              "    display: none;\n",
              "    fill: var(--fill-color);\n",
              "    height: 32px;\n",
              "    padding: 0;\n",
              "    width: 32px;\n",
              "  }\n",
              "\n",
              "  .colab-df-quickchart:hover {\n",
              "    background-color: var(--hover-bg-color);\n",
              "    box-shadow: 0 1px 2px rgba(60, 64, 67, 0.3), 0 1px 3px 1px rgba(60, 64, 67, 0.15);\n",
              "    fill: var(--button-hover-fill-color);\n",
              "  }\n",
              "\n",
              "  .colab-df-quickchart-complete:disabled,\n",
              "  .colab-df-quickchart-complete:disabled:hover {\n",
              "    background-color: var(--disabled-bg-color);\n",
              "    fill: var(--disabled-fill-color);\n",
              "    box-shadow: none;\n",
              "  }\n",
              "\n",
              "  .colab-df-spinner {\n",
              "    border: 2px solid var(--fill-color);\n",
              "    border-color: transparent;\n",
              "    border-bottom-color: var(--fill-color);\n",
              "    animation:\n",
              "      spin 1s steps(1) infinite;\n",
              "  }\n",
              "\n",
              "  @keyframes spin {\n",
              "    0% {\n",
              "      border-color: transparent;\n",
              "      border-bottom-color: var(--fill-color);\n",
              "      border-left-color: var(--fill-color);\n",
              "    }\n",
              "    20% {\n",
              "      border-color: transparent;\n",
              "      border-left-color: var(--fill-color);\n",
              "      border-top-color: var(--fill-color);\n",
              "    }\n",
              "    30% {\n",
              "      border-color: transparent;\n",
              "      border-left-color: var(--fill-color);\n",
              "      border-top-color: var(--fill-color);\n",
              "      border-right-color: var(--fill-color);\n",
              "    }\n",
              "    40% {\n",
              "      border-color: transparent;\n",
              "      border-right-color: var(--fill-color);\n",
              "      border-top-color: var(--fill-color);\n",
              "    }\n",
              "    60% {\n",
              "      border-color: transparent;\n",
              "      border-right-color: var(--fill-color);\n",
              "    }\n",
              "    80% {\n",
              "      border-color: transparent;\n",
              "      border-right-color: var(--fill-color);\n",
              "      border-bottom-color: var(--fill-color);\n",
              "    }\n",
              "    90% {\n",
              "      border-color: transparent;\n",
              "      border-bottom-color: var(--fill-color);\n",
              "    }\n",
              "  }\n",
              "</style>\n",
              "\n",
              "  <script>\n",
              "    async function quickchart(key) {\n",
              "      const quickchartButtonEl =\n",
              "        document.querySelector('#' + key + ' button');\n",
              "      quickchartButtonEl.disabled = true;  // To prevent multiple clicks.\n",
              "      quickchartButtonEl.classList.add('colab-df-spinner');\n",
              "      try {\n",
              "        const charts = await google.colab.kernel.invokeFunction(\n",
              "            'suggestCharts', [key], {});\n",
              "      } catch (error) {\n",
              "        console.error('Error during call to suggestCharts:', error);\n",
              "      }\n",
              "      quickchartButtonEl.classList.remove('colab-df-spinner');\n",
              "      quickchartButtonEl.classList.add('colab-df-quickchart-complete');\n",
              "    }\n",
              "    (() => {\n",
              "      let quickchartButtonEl =\n",
              "        document.querySelector('#df-a0819f50-ca1b-4c46-a63f-ac444c90c8b4 button');\n",
              "      quickchartButtonEl.style.display =\n",
              "        google.colab.kernel.accessAllowed ? 'block' : 'none';\n",
              "    })();\n",
              "  </script>\n",
              "</div>\n",
              "\n",
              "    </div>\n",
              "  </div>\n"
            ],
            "application/vnd.google.colaboratory.intrinsic+json": {
              "type": "dataframe",
              "variable_name": "df",
              "summary": "{\n  \"name\": \"df\",\n  \"rows\": 33518,\n  \"fields\": [\n    {\n      \"column\": \"TCode\",\n      \"properties\": {\n        \"dtype\": \"category\",\n        \"num_unique_values\": 107,\n        \"samples\": [\n          \"MF1504\",\n          \"MF0024\",\n          \"BF0188\"\n        ],\n        \"semantic_type\": \"\",\n        \"description\": \"\"\n      }\n    },\n    {\n      \"column\": \"Average\",\n      \"properties\": {\n        \"dtype\": \"number\",\n        \"std\": 458.0202140671197,\n        \"min\": 0.0,\n        \"max\": 3200.0,\n        \"num_unique_values\": 14087,\n        \"samples\": [\n          914.05,\n          623.72,\n          648.82\n        ],\n        \"semantic_type\": \"\",\n        \"description\": \"\"\n      }\n    },\n    {\n      \"column\": \"Stock\",\n      \"properties\": {\n        \"dtype\": \"number\",\n        \"std\": 36005.47653582628,\n        \"min\": -45.0,\n        \"max\": 199357.0,\n        \"num_unique_values\": 13456,\n        \"samples\": [\n          22094.0,\n          31837.0,\n          47641.0\n        ],\n        \"semantic_type\": \"\",\n        \"description\": \"\"\n      }\n    },\n    {\n      \"column\": \"StockValue\",\n      \"properties\": {\n        \"dtype\": \"number\",\n        \"std\": 29266988.73461818,\n        \"min\": -3000.0,\n        \"max\": 252622402.5,\n        \"num_unique_values\": 15963,\n        \"samples\": [\n          13889075.84,\n          29412836.43,\n          8713568.5\n        ],\n        \"semantic_type\": \"\",\n        \"description\": \"\"\n      }\n    },\n    {\n      \"column\": \"70%StockValue\",\n      \"properties\": {\n        \"dtype\": \"number\",\n        \"std\": 20486892.114418842,\n        \"min\": -2100.0,\n        \"max\": 176835681.7,\n        \"num_unique_values\": 15963,\n        \"samples\": [\n          9722353.09,\n          20588985.5,\n          6099497.95\n        ],\n        \"semantic_type\": \"\",\n        \"description\": \"\"\n      }\n    },\n    {\n      \"column\": \"Proceeds\",\n      \"properties\": {\n        \"dtype\": \"number\",\n        \"std\": 9777507.807250924,\n        \"min\": -51550.76,\n        \"max\": 77163942.38,\n        \"num_unique_values\": 15088,\n        \"samples\": [\n          6263714.67,\n          4659296.26,\n          3304944.12\n        ],\n        \"semantic_type\": \"\",\n        \"description\": \"\"\n      }\n    },\n    {\n      \"column\": \"AdvanceBalance\",\n      \"properties\": {\n        \"dtype\": \"number\",\n        \"std\": 22991915.092515662,\n        \"min\": -4000000.0,\n        \"max\": 298271959.7,\n        \"num_unique_values\": 5627,\n        \"samples\": [\n          21547593.69,\n          35071992.88,\n          4176958.35\n        ],\n        \"semantic_type\": \"\",\n        \"description\": \"\"\n      }\n    },\n    {\n      \"column\": \"IsOverAdvance\",\n      \"properties\": {\n        \"dtype\": \"number\",\n        \"std\": 0,\n        \"min\": 0,\n        \"max\": 1,\n        \"num_unique_values\": 2,\n        \"samples\": [\n          1,\n          0\n        ],\n        \"semantic_type\": \"\",\n        \"description\": \"\"\n      }\n    },\n    {\n      \"column\": \"AdvanceInterest\",\n      \"properties\": {\n        \"dtype\": \"number\",\n        \"std\": 15469.820096468166,\n        \"min\": 0.0,\n        \"max\": 245155.03,\n        \"num_unique_values\": 5703,\n        \"samples\": [\n          184.92,\n          2043.97\n        ],\n        \"semantic_type\": \"\",\n        \"description\": \"\"\n      }\n    },\n    {\n      \"column\": \"OverAdvanceInterest\",\n      \"properties\": {\n        \"dtype\": \"number\",\n        \"std\": 1632.386755321912,\n        \"min\": 0.0,\n        \"max\": 30591.98,\n        \"num_unique_values\": 3712,\n        \"samples\": [\n          7823.78,\n          3857.26\n        ],\n        \"semantic_type\": \"\",\n        \"description\": \"\"\n      }\n    },\n    {\n      \"column\": \"OverAdvanceAmount\",\n      \"properties\": {\n        \"dtype\": \"number\",\n        \"std\": 11952654.692981862,\n        \"min\": 0.0,\n        \"max\": 223321483.8,\n        \"num_unique_values\": 3724,\n        \"samples\": [\n          36507534.58,\n          675906.57\n        ],\n        \"semantic_type\": \"\",\n        \"description\": \"\"\n      }\n    },\n    {\n      \"column\": \"TransferDate\",\n      \"properties\": {\n        \"dtype\": \"object\",\n        \"num_unique_values\": 265,\n        \"samples\": [\n          \"2022-06-09\",\n          \"2021-03-18\"\n        ],\n        \"semantic_type\": \"\",\n        \"description\": \"\"\n      }\n    },\n    {\n      \"column\": \"FactoryName\",\n      \"properties\": {\n        \"dtype\": \"category\",\n        \"num_unique_values\": 153,\n        \"samples\": [\n          \"Thalgampola Tea Factory\",\n          \"Lumbini Tea Factory\"\n        ],\n        \"semantic_type\": \"\",\n        \"description\": \"\"\n      }\n    },\n    {\n      \"column\": \"Elevation\",\n      \"properties\": {\n        \"dtype\": \"category\",\n        \"num_unique_values\": 5,\n        \"samples\": [\n          \"Western Medium\",\n          \"Western High\"\n        ],\n        \"semantic_type\": \"\",\n        \"description\": \"\"\n      }\n    }\n  ]\n}"
            }
          },
          "metadata": {},
          "execution_count": 5
        }
      ]
    },
    {
      "cell_type": "code",
      "source": [
        "df.shape"
      ],
      "metadata": {
        "colab": {
          "base_uri": "https://localhost:8080/"
        },
        "id": "BdAXWK13yOpr",
        "outputId": "dc391e40-83cf-45cd-cdf8-03f57b6acb00"
      },
      "execution_count": 6,
      "outputs": [
        {
          "output_type": "execute_result",
          "data": {
            "text/plain": [
              "(33518, 14)"
            ]
          },
          "metadata": {},
          "execution_count": 6
        }
      ]
    },
    {
      "cell_type": "code",
      "source": [
        "df.info()"
      ],
      "metadata": {
        "colab": {
          "base_uri": "https://localhost:8080/"
        },
        "id": "BJb89C31yO1k",
        "outputId": "8752f668-9389-473f-f18e-aa79e56fe9da"
      },
      "execution_count": 7,
      "outputs": [
        {
          "output_type": "stream",
          "name": "stdout",
          "text": [
            "<class 'pandas.core.frame.DataFrame'>\n",
            "RangeIndex: 33518 entries, 0 to 33517\n",
            "Data columns (total 14 columns):\n",
            " #   Column               Non-Null Count  Dtype  \n",
            "---  ------               --------------  -----  \n",
            " 0   TCode                33518 non-null  object \n",
            " 1   Average              33518 non-null  float64\n",
            " 2   Stock                33518 non-null  float64\n",
            " 3   StockValue           33518 non-null  float64\n",
            " 4   70%StockValue        33518 non-null  float64\n",
            " 5   Proceeds             33518 non-null  float64\n",
            " 6   AdvanceBalance       33518 non-null  float64\n",
            " 7   IsOverAdvance        33518 non-null  int64  \n",
            " 8   AdvanceInterest      33518 non-null  float64\n",
            " 9   OverAdvanceInterest  33518 non-null  float64\n",
            " 10  OverAdvanceAmount    33518 non-null  float64\n",
            " 11  TransferDate         33518 non-null  object \n",
            " 12  FactoryName          33518 non-null  object \n",
            " 13  Elevation            33518 non-null  object \n",
            "dtypes: float64(9), int64(1), object(4)\n",
            "memory usage: 3.6+ MB\n"
          ]
        }
      ]
    },
    {
      "cell_type": "code",
      "source": [
        "unique_tcode_count = df['TCode'].nunique()\n",
        "\n",
        "print(f\"Unique TCode Count: {unique_tcode_count}\")"
      ],
      "metadata": {
        "colab": {
          "base_uri": "https://localhost:8080/"
        },
        "id": "tTb7glvHXNIp",
        "outputId": "15922eff-f2dd-4944-8b92-702d083863a5"
      },
      "execution_count": 8,
      "outputs": [
        {
          "output_type": "stream",
          "name": "stdout",
          "text": [
            "Unique TCode Count: 107\n"
          ]
        }
      ]
    },
    {
      "cell_type": "code",
      "source": [],
      "metadata": {
        "id": "4EpfSw1DXNZL"
      },
      "execution_count": null,
      "outputs": []
    },
    {
      "cell_type": "markdown",
      "source": [
        "creating a copy of dataframe and dropping the TCOde , TransferDate , FactoryName  and Elevation from the copy"
      ],
      "metadata": {
        "id": "Sv4QZyLA0exa"
      }
    },
    {
      "cell_type": "code",
      "source": [
        "df_copy = df.copy()\n",
        "\n",
        "# Drop the object-type variables for factor analysis\n",
        "df_factor_analysis = df.drop(['TCode', 'TransferDate' , 'FactoryName' , 'Elevation'], axis=1)"
      ],
      "metadata": {
        "id": "KMOCTJRUyPIu"
      },
      "execution_count": 9,
      "outputs": []
    },
    {
      "cell_type": "code",
      "source": [
        "df_factor_analysis.head()"
      ],
      "metadata": {
        "colab": {
          "base_uri": "https://localhost:8080/",
          "height": 206
        },
        "id": "meFQGgmZyTZL",
        "outputId": "2d475bc8-af43-4d42-f054-7fa4257d24d2"
      },
      "execution_count": 10,
      "outputs": [
        {
          "output_type": "execute_result",
          "data": {
            "text/plain": [
              "   Average    Stock   StockValue  70%StockValue    Proceeds  AdvanceBalance  \\\n",
              "0   405.56  21681.0   8792943.00     6155060.10  1024871.67            0.00   \n",
              "1   431.21  24823.0  10703823.61     7492676.53  1845832.24            0.00   \n",
              "2   453.22  22461.0  10179786.44     7125850.51  3240724.52       547607.19   \n",
              "3   433.62  20386.0   8839714.59     6187800.21  1272360.23            0.00   \n",
              "4   422.17  14782.0   6240460.96     4368322.67  3263006.68            0.00   \n",
              "\n",
              "   IsOverAdvance  AdvanceInterest  OverAdvanceInterest  OverAdvanceAmount  \n",
              "0              0             0.00                  0.0                0.0  \n",
              "1              0             0.00                  0.0                0.0  \n",
              "2              0           285.06                  0.0                0.0  \n",
              "3              0             0.00                  0.0                0.0  \n",
              "4              0             0.00                  0.0                0.0  "
            ],
            "text/html": [
              "\n",
              "  <div id=\"df-28645737-9f03-4876-be71-e10a0c065ec8\" class=\"colab-df-container\">\n",
              "    <div>\n",
              "<style scoped>\n",
              "    .dataframe tbody tr th:only-of-type {\n",
              "        vertical-align: middle;\n",
              "    }\n",
              "\n",
              "    .dataframe tbody tr th {\n",
              "        vertical-align: top;\n",
              "    }\n",
              "\n",
              "    .dataframe thead th {\n",
              "        text-align: right;\n",
              "    }\n",
              "</style>\n",
              "<table border=\"1\" class=\"dataframe\">\n",
              "  <thead>\n",
              "    <tr style=\"text-align: right;\">\n",
              "      <th></th>\n",
              "      <th>Average</th>\n",
              "      <th>Stock</th>\n",
              "      <th>StockValue</th>\n",
              "      <th>70%StockValue</th>\n",
              "      <th>Proceeds</th>\n",
              "      <th>AdvanceBalance</th>\n",
              "      <th>IsOverAdvance</th>\n",
              "      <th>AdvanceInterest</th>\n",
              "      <th>OverAdvanceInterest</th>\n",
              "      <th>OverAdvanceAmount</th>\n",
              "    </tr>\n",
              "  </thead>\n",
              "  <tbody>\n",
              "    <tr>\n",
              "      <th>0</th>\n",
              "      <td>405.56</td>\n",
              "      <td>21681.0</td>\n",
              "      <td>8792943.00</td>\n",
              "      <td>6155060.10</td>\n",
              "      <td>1024871.67</td>\n",
              "      <td>0.00</td>\n",
              "      <td>0</td>\n",
              "      <td>0.00</td>\n",
              "      <td>0.0</td>\n",
              "      <td>0.0</td>\n",
              "    </tr>\n",
              "    <tr>\n",
              "      <th>1</th>\n",
              "      <td>431.21</td>\n",
              "      <td>24823.0</td>\n",
              "      <td>10703823.61</td>\n",
              "      <td>7492676.53</td>\n",
              "      <td>1845832.24</td>\n",
              "      <td>0.00</td>\n",
              "      <td>0</td>\n",
              "      <td>0.00</td>\n",
              "      <td>0.0</td>\n",
              "      <td>0.0</td>\n",
              "    </tr>\n",
              "    <tr>\n",
              "      <th>2</th>\n",
              "      <td>453.22</td>\n",
              "      <td>22461.0</td>\n",
              "      <td>10179786.44</td>\n",
              "      <td>7125850.51</td>\n",
              "      <td>3240724.52</td>\n",
              "      <td>547607.19</td>\n",
              "      <td>0</td>\n",
              "      <td>285.06</td>\n",
              "      <td>0.0</td>\n",
              "      <td>0.0</td>\n",
              "    </tr>\n",
              "    <tr>\n",
              "      <th>3</th>\n",
              "      <td>433.62</td>\n",
              "      <td>20386.0</td>\n",
              "      <td>8839714.59</td>\n",
              "      <td>6187800.21</td>\n",
              "      <td>1272360.23</td>\n",
              "      <td>0.00</td>\n",
              "      <td>0</td>\n",
              "      <td>0.00</td>\n",
              "      <td>0.0</td>\n",
              "      <td>0.0</td>\n",
              "    </tr>\n",
              "    <tr>\n",
              "      <th>4</th>\n",
              "      <td>422.17</td>\n",
              "      <td>14782.0</td>\n",
              "      <td>6240460.96</td>\n",
              "      <td>4368322.67</td>\n",
              "      <td>3263006.68</td>\n",
              "      <td>0.00</td>\n",
              "      <td>0</td>\n",
              "      <td>0.00</td>\n",
              "      <td>0.0</td>\n",
              "      <td>0.0</td>\n",
              "    </tr>\n",
              "  </tbody>\n",
              "</table>\n",
              "</div>\n",
              "    <div class=\"colab-df-buttons\">\n",
              "\n",
              "  <div class=\"colab-df-container\">\n",
              "    <button class=\"colab-df-convert\" onclick=\"convertToInteractive('df-28645737-9f03-4876-be71-e10a0c065ec8')\"\n",
              "            title=\"Convert this dataframe to an interactive table.\"\n",
              "            style=\"display:none;\">\n",
              "\n",
              "  <svg xmlns=\"http://www.w3.org/2000/svg\" height=\"24px\" viewBox=\"0 -960 960 960\">\n",
              "    <path d=\"M120-120v-720h720v720H120Zm60-500h600v-160H180v160Zm220 220h160v-160H400v160Zm0 220h160v-160H400v160ZM180-400h160v-160H180v160Zm440 0h160v-160H620v160ZM180-180h160v-160H180v160Zm440 0h160v-160H620v160Z\"/>\n",
              "  </svg>\n",
              "    </button>\n",
              "\n",
              "  <style>\n",
              "    .colab-df-container {\n",
              "      display:flex;\n",
              "      gap: 12px;\n",
              "    }\n",
              "\n",
              "    .colab-df-convert {\n",
              "      background-color: #E8F0FE;\n",
              "      border: none;\n",
              "      border-radius: 50%;\n",
              "      cursor: pointer;\n",
              "      display: none;\n",
              "      fill: #1967D2;\n",
              "      height: 32px;\n",
              "      padding: 0 0 0 0;\n",
              "      width: 32px;\n",
              "    }\n",
              "\n",
              "    .colab-df-convert:hover {\n",
              "      background-color: #E2EBFA;\n",
              "      box-shadow: 0px 1px 2px rgba(60, 64, 67, 0.3), 0px 1px 3px 1px rgba(60, 64, 67, 0.15);\n",
              "      fill: #174EA6;\n",
              "    }\n",
              "\n",
              "    .colab-df-buttons div {\n",
              "      margin-bottom: 4px;\n",
              "    }\n",
              "\n",
              "    [theme=dark] .colab-df-convert {\n",
              "      background-color: #3B4455;\n",
              "      fill: #D2E3FC;\n",
              "    }\n",
              "\n",
              "    [theme=dark] .colab-df-convert:hover {\n",
              "      background-color: #434B5C;\n",
              "      box-shadow: 0px 1px 3px 1px rgba(0, 0, 0, 0.15);\n",
              "      filter: drop-shadow(0px 1px 2px rgba(0, 0, 0, 0.3));\n",
              "      fill: #FFFFFF;\n",
              "    }\n",
              "  </style>\n",
              "\n",
              "    <script>\n",
              "      const buttonEl =\n",
              "        document.querySelector('#df-28645737-9f03-4876-be71-e10a0c065ec8 button.colab-df-convert');\n",
              "      buttonEl.style.display =\n",
              "        google.colab.kernel.accessAllowed ? 'block' : 'none';\n",
              "\n",
              "      async function convertToInteractive(key) {\n",
              "        const element = document.querySelector('#df-28645737-9f03-4876-be71-e10a0c065ec8');\n",
              "        const dataTable =\n",
              "          await google.colab.kernel.invokeFunction('convertToInteractive',\n",
              "                                                    [key], {});\n",
              "        if (!dataTable) return;\n",
              "\n",
              "        const docLinkHtml = 'Like what you see? Visit the ' +\n",
              "          '<a target=\"_blank\" href=https://colab.research.google.com/notebooks/data_table.ipynb>data table notebook</a>'\n",
              "          + ' to learn more about interactive tables.';\n",
              "        element.innerHTML = '';\n",
              "        dataTable['output_type'] = 'display_data';\n",
              "        await google.colab.output.renderOutput(dataTable, element);\n",
              "        const docLink = document.createElement('div');\n",
              "        docLink.innerHTML = docLinkHtml;\n",
              "        element.appendChild(docLink);\n",
              "      }\n",
              "    </script>\n",
              "  </div>\n",
              "\n",
              "\n",
              "<div id=\"df-79fc1cff-7b4c-4c28-b33d-feda8522a513\">\n",
              "  <button class=\"colab-df-quickchart\" onclick=\"quickchart('df-79fc1cff-7b4c-4c28-b33d-feda8522a513')\"\n",
              "            title=\"Suggest charts\"\n",
              "            style=\"display:none;\">\n",
              "\n",
              "<svg xmlns=\"http://www.w3.org/2000/svg\" height=\"24px\"viewBox=\"0 0 24 24\"\n",
              "     width=\"24px\">\n",
              "    <g>\n",
              "        <path d=\"M19 3H5c-1.1 0-2 .9-2 2v14c0 1.1.9 2 2 2h14c1.1 0 2-.9 2-2V5c0-1.1-.9-2-2-2zM9 17H7v-7h2v7zm4 0h-2V7h2v10zm4 0h-2v-4h2v4z\"/>\n",
              "    </g>\n",
              "</svg>\n",
              "  </button>\n",
              "\n",
              "<style>\n",
              "  .colab-df-quickchart {\n",
              "      --bg-color: #E8F0FE;\n",
              "      --fill-color: #1967D2;\n",
              "      --hover-bg-color: #E2EBFA;\n",
              "      --hover-fill-color: #174EA6;\n",
              "      --disabled-fill-color: #AAA;\n",
              "      --disabled-bg-color: #DDD;\n",
              "  }\n",
              "\n",
              "  [theme=dark] .colab-df-quickchart {\n",
              "      --bg-color: #3B4455;\n",
              "      --fill-color: #D2E3FC;\n",
              "      --hover-bg-color: #434B5C;\n",
              "      --hover-fill-color: #FFFFFF;\n",
              "      --disabled-bg-color: #3B4455;\n",
              "      --disabled-fill-color: #666;\n",
              "  }\n",
              "\n",
              "  .colab-df-quickchart {\n",
              "    background-color: var(--bg-color);\n",
              "    border: none;\n",
              "    border-radius: 50%;\n",
              "    cursor: pointer;\n",
              "    display: none;\n",
              "    fill: var(--fill-color);\n",
              "    height: 32px;\n",
              "    padding: 0;\n",
              "    width: 32px;\n",
              "  }\n",
              "\n",
              "  .colab-df-quickchart:hover {\n",
              "    background-color: var(--hover-bg-color);\n",
              "    box-shadow: 0 1px 2px rgba(60, 64, 67, 0.3), 0 1px 3px 1px rgba(60, 64, 67, 0.15);\n",
              "    fill: var(--button-hover-fill-color);\n",
              "  }\n",
              "\n",
              "  .colab-df-quickchart-complete:disabled,\n",
              "  .colab-df-quickchart-complete:disabled:hover {\n",
              "    background-color: var(--disabled-bg-color);\n",
              "    fill: var(--disabled-fill-color);\n",
              "    box-shadow: none;\n",
              "  }\n",
              "\n",
              "  .colab-df-spinner {\n",
              "    border: 2px solid var(--fill-color);\n",
              "    border-color: transparent;\n",
              "    border-bottom-color: var(--fill-color);\n",
              "    animation:\n",
              "      spin 1s steps(1) infinite;\n",
              "  }\n",
              "\n",
              "  @keyframes spin {\n",
              "    0% {\n",
              "      border-color: transparent;\n",
              "      border-bottom-color: var(--fill-color);\n",
              "      border-left-color: var(--fill-color);\n",
              "    }\n",
              "    20% {\n",
              "      border-color: transparent;\n",
              "      border-left-color: var(--fill-color);\n",
              "      border-top-color: var(--fill-color);\n",
              "    }\n",
              "    30% {\n",
              "      border-color: transparent;\n",
              "      border-left-color: var(--fill-color);\n",
              "      border-top-color: var(--fill-color);\n",
              "      border-right-color: var(--fill-color);\n",
              "    }\n",
              "    40% {\n",
              "      border-color: transparent;\n",
              "      border-right-color: var(--fill-color);\n",
              "      border-top-color: var(--fill-color);\n",
              "    }\n",
              "    60% {\n",
              "      border-color: transparent;\n",
              "      border-right-color: var(--fill-color);\n",
              "    }\n",
              "    80% {\n",
              "      border-color: transparent;\n",
              "      border-right-color: var(--fill-color);\n",
              "      border-bottom-color: var(--fill-color);\n",
              "    }\n",
              "    90% {\n",
              "      border-color: transparent;\n",
              "      border-bottom-color: var(--fill-color);\n",
              "    }\n",
              "  }\n",
              "</style>\n",
              "\n",
              "  <script>\n",
              "    async function quickchart(key) {\n",
              "      const quickchartButtonEl =\n",
              "        document.querySelector('#' + key + ' button');\n",
              "      quickchartButtonEl.disabled = true;  // To prevent multiple clicks.\n",
              "      quickchartButtonEl.classList.add('colab-df-spinner');\n",
              "      try {\n",
              "        const charts = await google.colab.kernel.invokeFunction(\n",
              "            'suggestCharts', [key], {});\n",
              "      } catch (error) {\n",
              "        console.error('Error during call to suggestCharts:', error);\n",
              "      }\n",
              "      quickchartButtonEl.classList.remove('colab-df-spinner');\n",
              "      quickchartButtonEl.classList.add('colab-df-quickchart-complete');\n",
              "    }\n",
              "    (() => {\n",
              "      let quickchartButtonEl =\n",
              "        document.querySelector('#df-79fc1cff-7b4c-4c28-b33d-feda8522a513 button');\n",
              "      quickchartButtonEl.style.display =\n",
              "        google.colab.kernel.accessAllowed ? 'block' : 'none';\n",
              "    })();\n",
              "  </script>\n",
              "</div>\n",
              "\n",
              "    </div>\n",
              "  </div>\n"
            ],
            "application/vnd.google.colaboratory.intrinsic+json": {
              "type": "dataframe",
              "variable_name": "df_factor_analysis",
              "summary": "{\n  \"name\": \"df_factor_analysis\",\n  \"rows\": 33518,\n  \"fields\": [\n    {\n      \"column\": \"Average\",\n      \"properties\": {\n        \"dtype\": \"number\",\n        \"std\": 458.0202140671197,\n        \"min\": 0.0,\n        \"max\": 3200.0,\n        \"num_unique_values\": 14087,\n        \"samples\": [\n          914.05,\n          623.72,\n          648.82\n        ],\n        \"semantic_type\": \"\",\n        \"description\": \"\"\n      }\n    },\n    {\n      \"column\": \"Stock\",\n      \"properties\": {\n        \"dtype\": \"number\",\n        \"std\": 36005.47653582628,\n        \"min\": -45.0,\n        \"max\": 199357.0,\n        \"num_unique_values\": 13456,\n        \"samples\": [\n          22094.0,\n          31837.0,\n          47641.0\n        ],\n        \"semantic_type\": \"\",\n        \"description\": \"\"\n      }\n    },\n    {\n      \"column\": \"StockValue\",\n      \"properties\": {\n        \"dtype\": \"number\",\n        \"std\": 29266988.73461818,\n        \"min\": -3000.0,\n        \"max\": 252622402.5,\n        \"num_unique_values\": 15963,\n        \"samples\": [\n          13889075.84,\n          29412836.43,\n          8713568.5\n        ],\n        \"semantic_type\": \"\",\n        \"description\": \"\"\n      }\n    },\n    {\n      \"column\": \"70%StockValue\",\n      \"properties\": {\n        \"dtype\": \"number\",\n        \"std\": 20486892.114418842,\n        \"min\": -2100.0,\n        \"max\": 176835681.7,\n        \"num_unique_values\": 15963,\n        \"samples\": [\n          9722353.09,\n          20588985.5,\n          6099497.95\n        ],\n        \"semantic_type\": \"\",\n        \"description\": \"\"\n      }\n    },\n    {\n      \"column\": \"Proceeds\",\n      \"properties\": {\n        \"dtype\": \"number\",\n        \"std\": 9777507.807250924,\n        \"min\": -51550.76,\n        \"max\": 77163942.38,\n        \"num_unique_values\": 15088,\n        \"samples\": [\n          6263714.67,\n          4659296.26,\n          3304944.12\n        ],\n        \"semantic_type\": \"\",\n        \"description\": \"\"\n      }\n    },\n    {\n      \"column\": \"AdvanceBalance\",\n      \"properties\": {\n        \"dtype\": \"number\",\n        \"std\": 22991915.092515662,\n        \"min\": -4000000.0,\n        \"max\": 298271959.7,\n        \"num_unique_values\": 5627,\n        \"samples\": [\n          21547593.69,\n          35071992.88,\n          4176958.35\n        ],\n        \"semantic_type\": \"\",\n        \"description\": \"\"\n      }\n    },\n    {\n      \"column\": \"IsOverAdvance\",\n      \"properties\": {\n        \"dtype\": \"number\",\n        \"std\": 0,\n        \"min\": 0,\n        \"max\": 1,\n        \"num_unique_values\": 2,\n        \"samples\": [\n          1,\n          0\n        ],\n        \"semantic_type\": \"\",\n        \"description\": \"\"\n      }\n    },\n    {\n      \"column\": \"AdvanceInterest\",\n      \"properties\": {\n        \"dtype\": \"number\",\n        \"std\": 15469.820096468166,\n        \"min\": 0.0,\n        \"max\": 245155.03,\n        \"num_unique_values\": 5703,\n        \"samples\": [\n          184.92,\n          2043.97\n        ],\n        \"semantic_type\": \"\",\n        \"description\": \"\"\n      }\n    },\n    {\n      \"column\": \"OverAdvanceInterest\",\n      \"properties\": {\n        \"dtype\": \"number\",\n        \"std\": 1632.386755321912,\n        \"min\": 0.0,\n        \"max\": 30591.98,\n        \"num_unique_values\": 3712,\n        \"samples\": [\n          7823.78,\n          3857.26\n        ],\n        \"semantic_type\": \"\",\n        \"description\": \"\"\n      }\n    },\n    {\n      \"column\": \"OverAdvanceAmount\",\n      \"properties\": {\n        \"dtype\": \"number\",\n        \"std\": 11952654.692981862,\n        \"min\": 0.0,\n        \"max\": 223321483.8,\n        \"num_unique_values\": 3724,\n        \"samples\": [\n          36507534.58,\n          675906.57\n        ],\n        \"semantic_type\": \"\",\n        \"description\": \"\"\n      }\n    }\n  ]\n}"
            }
          },
          "metadata": {},
          "execution_count": 10
        }
      ]
    },
    {
      "cell_type": "code",
      "source": [
        "df_factor_analysis.info()"
      ],
      "metadata": {
        "id": "xTNqrzTr1F9l",
        "colab": {
          "base_uri": "https://localhost:8080/"
        },
        "outputId": "584bf5d4-6f95-488b-8bba-b60feceb6a15"
      },
      "execution_count": 11,
      "outputs": [
        {
          "output_type": "stream",
          "name": "stdout",
          "text": [
            "<class 'pandas.core.frame.DataFrame'>\n",
            "RangeIndex: 33518 entries, 0 to 33517\n",
            "Data columns (total 10 columns):\n",
            " #   Column               Non-Null Count  Dtype  \n",
            "---  ------               --------------  -----  \n",
            " 0   Average              33518 non-null  float64\n",
            " 1   Stock                33518 non-null  float64\n",
            " 2   StockValue           33518 non-null  float64\n",
            " 3   70%StockValue        33518 non-null  float64\n",
            " 4   Proceeds             33518 non-null  float64\n",
            " 5   AdvanceBalance       33518 non-null  float64\n",
            " 6   IsOverAdvance        33518 non-null  int64  \n",
            " 7   AdvanceInterest      33518 non-null  float64\n",
            " 8   OverAdvanceInterest  33518 non-null  float64\n",
            " 9   OverAdvanceAmount    33518 non-null  float64\n",
            "dtypes: float64(9), int64(1)\n",
            "memory usage: 2.6 MB\n"
          ]
        }
      ]
    },
    {
      "cell_type": "code",
      "source": [],
      "metadata": {
        "id": "DFkbaRRuF_j3"
      },
      "execution_count": null,
      "outputs": []
    },
    {
      "cell_type": "markdown",
      "source": [
        "Factor Anlaysis"
      ],
      "metadata": {
        "id": "7RuGsgPh1cAb"
      }
    },
    {
      "cell_type": "code",
      "source": [
        "correlation_matrix = df_factor_analysis.corr()"
      ],
      "metadata": {
        "id": "X10lay-J1GOU"
      },
      "execution_count": 12,
      "outputs": []
    },
    {
      "cell_type": "code",
      "source": [
        "correlation_matrix"
      ],
      "metadata": {
        "colab": {
          "base_uri": "https://localhost:8080/",
          "height": 383
        },
        "id": "IzGy3H1j1GVx",
        "outputId": "91686cfe-cfbd-4620-eacb-943fe2adda11"
      },
      "execution_count": 13,
      "outputs": [
        {
          "output_type": "execute_result",
          "data": {
            "text/plain": [
              "                      Average     Stock  StockValue  70%StockValue  Proceeds  \\\n",
              "Average              1.000000  0.080707    0.409880       0.409880  0.402812   \n",
              "Stock                0.080707  1.000000    0.834349       0.834349  0.639529   \n",
              "StockValue           0.409880  0.834349    1.000000       1.000000  0.774150   \n",
              "70%StockValue        0.409880  0.834349    1.000000       1.000000  0.774150   \n",
              "Proceeds             0.402812  0.639529    0.774150       0.774150  1.000000   \n",
              "AdvanceBalance       0.204502  0.094028    0.246184       0.246184  0.147997   \n",
              "IsOverAdvance        0.086121 -0.103926   -0.054798      -0.054798 -0.104501   \n",
              "AdvanceInterest      0.238070  0.090049    0.269944       0.269944  0.171296   \n",
              "OverAdvanceInterest  0.098159  0.004239    0.071546       0.071546  0.020658   \n",
              "OverAdvanceAmount    0.097883  0.004543    0.071600       0.071600  0.020695   \n",
              "\n",
              "                     AdvanceBalance  IsOverAdvance  AdvanceInterest  \\\n",
              "Average                    0.204502       0.086121         0.238070   \n",
              "Stock                      0.094028      -0.103926         0.090049   \n",
              "StockValue                 0.246184      -0.054798         0.269944   \n",
              "70%StockValue              0.246184      -0.054798         0.269944   \n",
              "Proceeds                   0.147997      -0.104501         0.171296   \n",
              "AdvanceBalance             1.000000       0.628556         0.968203   \n",
              "IsOverAdvance              0.628556       1.000000         0.551920   \n",
              "AdvanceInterest            0.968203       0.551920         1.000000   \n",
              "OverAdvanceInterest        0.837071       0.596457         0.785401   \n",
              "OverAdvanceAmount          0.838288       0.598798         0.785183   \n",
              "\n",
              "                     OverAdvanceInterest  OverAdvanceAmount  \n",
              "Average                         0.098159           0.097883  \n",
              "Stock                           0.004239           0.004543  \n",
              "StockValue                      0.071546           0.071600  \n",
              "70%StockValue                   0.071546           0.071600  \n",
              "Proceeds                        0.020658           0.020695  \n",
              "AdvanceBalance                  0.837071           0.838288  \n",
              "IsOverAdvance                   0.596457           0.598798  \n",
              "AdvanceInterest                 0.785401           0.785183  \n",
              "OverAdvanceInterest             1.000000           0.999631  \n",
              "OverAdvanceAmount               0.999631           1.000000  "
            ],
            "text/html": [
              "\n",
              "  <div id=\"df-5f4d44a0-51b0-420d-9eb6-7998ccd7b72f\" class=\"colab-df-container\">\n",
              "    <div>\n",
              "<style scoped>\n",
              "    .dataframe tbody tr th:only-of-type {\n",
              "        vertical-align: middle;\n",
              "    }\n",
              "\n",
              "    .dataframe tbody tr th {\n",
              "        vertical-align: top;\n",
              "    }\n",
              "\n",
              "    .dataframe thead th {\n",
              "        text-align: right;\n",
              "    }\n",
              "</style>\n",
              "<table border=\"1\" class=\"dataframe\">\n",
              "  <thead>\n",
              "    <tr style=\"text-align: right;\">\n",
              "      <th></th>\n",
              "      <th>Average</th>\n",
              "      <th>Stock</th>\n",
              "      <th>StockValue</th>\n",
              "      <th>70%StockValue</th>\n",
              "      <th>Proceeds</th>\n",
              "      <th>AdvanceBalance</th>\n",
              "      <th>IsOverAdvance</th>\n",
              "      <th>AdvanceInterest</th>\n",
              "      <th>OverAdvanceInterest</th>\n",
              "      <th>OverAdvanceAmount</th>\n",
              "    </tr>\n",
              "  </thead>\n",
              "  <tbody>\n",
              "    <tr>\n",
              "      <th>Average</th>\n",
              "      <td>1.000000</td>\n",
              "      <td>0.080707</td>\n",
              "      <td>0.409880</td>\n",
              "      <td>0.409880</td>\n",
              "      <td>0.402812</td>\n",
              "      <td>0.204502</td>\n",
              "      <td>0.086121</td>\n",
              "      <td>0.238070</td>\n",
              "      <td>0.098159</td>\n",
              "      <td>0.097883</td>\n",
              "    </tr>\n",
              "    <tr>\n",
              "      <th>Stock</th>\n",
              "      <td>0.080707</td>\n",
              "      <td>1.000000</td>\n",
              "      <td>0.834349</td>\n",
              "      <td>0.834349</td>\n",
              "      <td>0.639529</td>\n",
              "      <td>0.094028</td>\n",
              "      <td>-0.103926</td>\n",
              "      <td>0.090049</td>\n",
              "      <td>0.004239</td>\n",
              "      <td>0.004543</td>\n",
              "    </tr>\n",
              "    <tr>\n",
              "      <th>StockValue</th>\n",
              "      <td>0.409880</td>\n",
              "      <td>0.834349</td>\n",
              "      <td>1.000000</td>\n",
              "      <td>1.000000</td>\n",
              "      <td>0.774150</td>\n",
              "      <td>0.246184</td>\n",
              "      <td>-0.054798</td>\n",
              "      <td>0.269944</td>\n",
              "      <td>0.071546</td>\n",
              "      <td>0.071600</td>\n",
              "    </tr>\n",
              "    <tr>\n",
              "      <th>70%StockValue</th>\n",
              "      <td>0.409880</td>\n",
              "      <td>0.834349</td>\n",
              "      <td>1.000000</td>\n",
              "      <td>1.000000</td>\n",
              "      <td>0.774150</td>\n",
              "      <td>0.246184</td>\n",
              "      <td>-0.054798</td>\n",
              "      <td>0.269944</td>\n",
              "      <td>0.071546</td>\n",
              "      <td>0.071600</td>\n",
              "    </tr>\n",
              "    <tr>\n",
              "      <th>Proceeds</th>\n",
              "      <td>0.402812</td>\n",
              "      <td>0.639529</td>\n",
              "      <td>0.774150</td>\n",
              "      <td>0.774150</td>\n",
              "      <td>1.000000</td>\n",
              "      <td>0.147997</td>\n",
              "      <td>-0.104501</td>\n",
              "      <td>0.171296</td>\n",
              "      <td>0.020658</td>\n",
              "      <td>0.020695</td>\n",
              "    </tr>\n",
              "    <tr>\n",
              "      <th>AdvanceBalance</th>\n",
              "      <td>0.204502</td>\n",
              "      <td>0.094028</td>\n",
              "      <td>0.246184</td>\n",
              "      <td>0.246184</td>\n",
              "      <td>0.147997</td>\n",
              "      <td>1.000000</td>\n",
              "      <td>0.628556</td>\n",
              "      <td>0.968203</td>\n",
              "      <td>0.837071</td>\n",
              "      <td>0.838288</td>\n",
              "    </tr>\n",
              "    <tr>\n",
              "      <th>IsOverAdvance</th>\n",
              "      <td>0.086121</td>\n",
              "      <td>-0.103926</td>\n",
              "      <td>-0.054798</td>\n",
              "      <td>-0.054798</td>\n",
              "      <td>-0.104501</td>\n",
              "      <td>0.628556</td>\n",
              "      <td>1.000000</td>\n",
              "      <td>0.551920</td>\n",
              "      <td>0.596457</td>\n",
              "      <td>0.598798</td>\n",
              "    </tr>\n",
              "    <tr>\n",
              "      <th>AdvanceInterest</th>\n",
              "      <td>0.238070</td>\n",
              "      <td>0.090049</td>\n",
              "      <td>0.269944</td>\n",
              "      <td>0.269944</td>\n",
              "      <td>0.171296</td>\n",
              "      <td>0.968203</td>\n",
              "      <td>0.551920</td>\n",
              "      <td>1.000000</td>\n",
              "      <td>0.785401</td>\n",
              "      <td>0.785183</td>\n",
              "    </tr>\n",
              "    <tr>\n",
              "      <th>OverAdvanceInterest</th>\n",
              "      <td>0.098159</td>\n",
              "      <td>0.004239</td>\n",
              "      <td>0.071546</td>\n",
              "      <td>0.071546</td>\n",
              "      <td>0.020658</td>\n",
              "      <td>0.837071</td>\n",
              "      <td>0.596457</td>\n",
              "      <td>0.785401</td>\n",
              "      <td>1.000000</td>\n",
              "      <td>0.999631</td>\n",
              "    </tr>\n",
              "    <tr>\n",
              "      <th>OverAdvanceAmount</th>\n",
              "      <td>0.097883</td>\n",
              "      <td>0.004543</td>\n",
              "      <td>0.071600</td>\n",
              "      <td>0.071600</td>\n",
              "      <td>0.020695</td>\n",
              "      <td>0.838288</td>\n",
              "      <td>0.598798</td>\n",
              "      <td>0.785183</td>\n",
              "      <td>0.999631</td>\n",
              "      <td>1.000000</td>\n",
              "    </tr>\n",
              "  </tbody>\n",
              "</table>\n",
              "</div>\n",
              "    <div class=\"colab-df-buttons\">\n",
              "\n",
              "  <div class=\"colab-df-container\">\n",
              "    <button class=\"colab-df-convert\" onclick=\"convertToInteractive('df-5f4d44a0-51b0-420d-9eb6-7998ccd7b72f')\"\n",
              "            title=\"Convert this dataframe to an interactive table.\"\n",
              "            style=\"display:none;\">\n",
              "\n",
              "  <svg xmlns=\"http://www.w3.org/2000/svg\" height=\"24px\" viewBox=\"0 -960 960 960\">\n",
              "    <path d=\"M120-120v-720h720v720H120Zm60-500h600v-160H180v160Zm220 220h160v-160H400v160Zm0 220h160v-160H400v160ZM180-400h160v-160H180v160Zm440 0h160v-160H620v160ZM180-180h160v-160H180v160Zm440 0h160v-160H620v160Z\"/>\n",
              "  </svg>\n",
              "    </button>\n",
              "\n",
              "  <style>\n",
              "    .colab-df-container {\n",
              "      display:flex;\n",
              "      gap: 12px;\n",
              "    }\n",
              "\n",
              "    .colab-df-convert {\n",
              "      background-color: #E8F0FE;\n",
              "      border: none;\n",
              "      border-radius: 50%;\n",
              "      cursor: pointer;\n",
              "      display: none;\n",
              "      fill: #1967D2;\n",
              "      height: 32px;\n",
              "      padding: 0 0 0 0;\n",
              "      width: 32px;\n",
              "    }\n",
              "\n",
              "    .colab-df-convert:hover {\n",
              "      background-color: #E2EBFA;\n",
              "      box-shadow: 0px 1px 2px rgba(60, 64, 67, 0.3), 0px 1px 3px 1px rgba(60, 64, 67, 0.15);\n",
              "      fill: #174EA6;\n",
              "    }\n",
              "\n",
              "    .colab-df-buttons div {\n",
              "      margin-bottom: 4px;\n",
              "    }\n",
              "\n",
              "    [theme=dark] .colab-df-convert {\n",
              "      background-color: #3B4455;\n",
              "      fill: #D2E3FC;\n",
              "    }\n",
              "\n",
              "    [theme=dark] .colab-df-convert:hover {\n",
              "      background-color: #434B5C;\n",
              "      box-shadow: 0px 1px 3px 1px rgba(0, 0, 0, 0.15);\n",
              "      filter: drop-shadow(0px 1px 2px rgba(0, 0, 0, 0.3));\n",
              "      fill: #FFFFFF;\n",
              "    }\n",
              "  </style>\n",
              "\n",
              "    <script>\n",
              "      const buttonEl =\n",
              "        document.querySelector('#df-5f4d44a0-51b0-420d-9eb6-7998ccd7b72f button.colab-df-convert');\n",
              "      buttonEl.style.display =\n",
              "        google.colab.kernel.accessAllowed ? 'block' : 'none';\n",
              "\n",
              "      async function convertToInteractive(key) {\n",
              "        const element = document.querySelector('#df-5f4d44a0-51b0-420d-9eb6-7998ccd7b72f');\n",
              "        const dataTable =\n",
              "          await google.colab.kernel.invokeFunction('convertToInteractive',\n",
              "                                                    [key], {});\n",
              "        if (!dataTable) return;\n",
              "\n",
              "        const docLinkHtml = 'Like what you see? Visit the ' +\n",
              "          '<a target=\"_blank\" href=https://colab.research.google.com/notebooks/data_table.ipynb>data table notebook</a>'\n",
              "          + ' to learn more about interactive tables.';\n",
              "        element.innerHTML = '';\n",
              "        dataTable['output_type'] = 'display_data';\n",
              "        await google.colab.output.renderOutput(dataTable, element);\n",
              "        const docLink = document.createElement('div');\n",
              "        docLink.innerHTML = docLinkHtml;\n",
              "        element.appendChild(docLink);\n",
              "      }\n",
              "    </script>\n",
              "  </div>\n",
              "\n",
              "\n",
              "<div id=\"df-f8d96188-c0d8-4fdb-8ce2-195564f7f57e\">\n",
              "  <button class=\"colab-df-quickchart\" onclick=\"quickchart('df-f8d96188-c0d8-4fdb-8ce2-195564f7f57e')\"\n",
              "            title=\"Suggest charts\"\n",
              "            style=\"display:none;\">\n",
              "\n",
              "<svg xmlns=\"http://www.w3.org/2000/svg\" height=\"24px\"viewBox=\"0 0 24 24\"\n",
              "     width=\"24px\">\n",
              "    <g>\n",
              "        <path d=\"M19 3H5c-1.1 0-2 .9-2 2v14c0 1.1.9 2 2 2h14c1.1 0 2-.9 2-2V5c0-1.1-.9-2-2-2zM9 17H7v-7h2v7zm4 0h-2V7h2v10zm4 0h-2v-4h2v4z\"/>\n",
              "    </g>\n",
              "</svg>\n",
              "  </button>\n",
              "\n",
              "<style>\n",
              "  .colab-df-quickchart {\n",
              "      --bg-color: #E8F0FE;\n",
              "      --fill-color: #1967D2;\n",
              "      --hover-bg-color: #E2EBFA;\n",
              "      --hover-fill-color: #174EA6;\n",
              "      --disabled-fill-color: #AAA;\n",
              "      --disabled-bg-color: #DDD;\n",
              "  }\n",
              "\n",
              "  [theme=dark] .colab-df-quickchart {\n",
              "      --bg-color: #3B4455;\n",
              "      --fill-color: #D2E3FC;\n",
              "      --hover-bg-color: #434B5C;\n",
              "      --hover-fill-color: #FFFFFF;\n",
              "      --disabled-bg-color: #3B4455;\n",
              "      --disabled-fill-color: #666;\n",
              "  }\n",
              "\n",
              "  .colab-df-quickchart {\n",
              "    background-color: var(--bg-color);\n",
              "    border: none;\n",
              "    border-radius: 50%;\n",
              "    cursor: pointer;\n",
              "    display: none;\n",
              "    fill: var(--fill-color);\n",
              "    height: 32px;\n",
              "    padding: 0;\n",
              "    width: 32px;\n",
              "  }\n",
              "\n",
              "  .colab-df-quickchart:hover {\n",
              "    background-color: var(--hover-bg-color);\n",
              "    box-shadow: 0 1px 2px rgba(60, 64, 67, 0.3), 0 1px 3px 1px rgba(60, 64, 67, 0.15);\n",
              "    fill: var(--button-hover-fill-color);\n",
              "  }\n",
              "\n",
              "  .colab-df-quickchart-complete:disabled,\n",
              "  .colab-df-quickchart-complete:disabled:hover {\n",
              "    background-color: var(--disabled-bg-color);\n",
              "    fill: var(--disabled-fill-color);\n",
              "    box-shadow: none;\n",
              "  }\n",
              "\n",
              "  .colab-df-spinner {\n",
              "    border: 2px solid var(--fill-color);\n",
              "    border-color: transparent;\n",
              "    border-bottom-color: var(--fill-color);\n",
              "    animation:\n",
              "      spin 1s steps(1) infinite;\n",
              "  }\n",
              "\n",
              "  @keyframes spin {\n",
              "    0% {\n",
              "      border-color: transparent;\n",
              "      border-bottom-color: var(--fill-color);\n",
              "      border-left-color: var(--fill-color);\n",
              "    }\n",
              "    20% {\n",
              "      border-color: transparent;\n",
              "      border-left-color: var(--fill-color);\n",
              "      border-top-color: var(--fill-color);\n",
              "    }\n",
              "    30% {\n",
              "      border-color: transparent;\n",
              "      border-left-color: var(--fill-color);\n",
              "      border-top-color: var(--fill-color);\n",
              "      border-right-color: var(--fill-color);\n",
              "    }\n",
              "    40% {\n",
              "      border-color: transparent;\n",
              "      border-right-color: var(--fill-color);\n",
              "      border-top-color: var(--fill-color);\n",
              "    }\n",
              "    60% {\n",
              "      border-color: transparent;\n",
              "      border-right-color: var(--fill-color);\n",
              "    }\n",
              "    80% {\n",
              "      border-color: transparent;\n",
              "      border-right-color: var(--fill-color);\n",
              "      border-bottom-color: var(--fill-color);\n",
              "    }\n",
              "    90% {\n",
              "      border-color: transparent;\n",
              "      border-bottom-color: var(--fill-color);\n",
              "    }\n",
              "  }\n",
              "</style>\n",
              "\n",
              "  <script>\n",
              "    async function quickchart(key) {\n",
              "      const quickchartButtonEl =\n",
              "        document.querySelector('#' + key + ' button');\n",
              "      quickchartButtonEl.disabled = true;  // To prevent multiple clicks.\n",
              "      quickchartButtonEl.classList.add('colab-df-spinner');\n",
              "      try {\n",
              "        const charts = await google.colab.kernel.invokeFunction(\n",
              "            'suggestCharts', [key], {});\n",
              "      } catch (error) {\n",
              "        console.error('Error during call to suggestCharts:', error);\n",
              "      }\n",
              "      quickchartButtonEl.classList.remove('colab-df-spinner');\n",
              "      quickchartButtonEl.classList.add('colab-df-quickchart-complete');\n",
              "    }\n",
              "    (() => {\n",
              "      let quickchartButtonEl =\n",
              "        document.querySelector('#df-f8d96188-c0d8-4fdb-8ce2-195564f7f57e button');\n",
              "      quickchartButtonEl.style.display =\n",
              "        google.colab.kernel.accessAllowed ? 'block' : 'none';\n",
              "    })();\n",
              "  </script>\n",
              "</div>\n",
              "\n",
              "  <div id=\"id_74e8cb0f-a04c-4027-8a1a-c9b4f27254ab\">\n",
              "    <style>\n",
              "      .colab-df-generate {\n",
              "        background-color: #E8F0FE;\n",
              "        border: none;\n",
              "        border-radius: 50%;\n",
              "        cursor: pointer;\n",
              "        display: none;\n",
              "        fill: #1967D2;\n",
              "        height: 32px;\n",
              "        padding: 0 0 0 0;\n",
              "        width: 32px;\n",
              "      }\n",
              "\n",
              "      .colab-df-generate:hover {\n",
              "        background-color: #E2EBFA;\n",
              "        box-shadow: 0px 1px 2px rgba(60, 64, 67, 0.3), 0px 1px 3px 1px rgba(60, 64, 67, 0.15);\n",
              "        fill: #174EA6;\n",
              "      }\n",
              "\n",
              "      [theme=dark] .colab-df-generate {\n",
              "        background-color: #3B4455;\n",
              "        fill: #D2E3FC;\n",
              "      }\n",
              "\n",
              "      [theme=dark] .colab-df-generate:hover {\n",
              "        background-color: #434B5C;\n",
              "        box-shadow: 0px 1px 3px 1px rgba(0, 0, 0, 0.15);\n",
              "        filter: drop-shadow(0px 1px 2px rgba(0, 0, 0, 0.3));\n",
              "        fill: #FFFFFF;\n",
              "      }\n",
              "    </style>\n",
              "    <button class=\"colab-df-generate\" onclick=\"generateWithVariable('correlation_matrix')\"\n",
              "            title=\"Generate code using this dataframe.\"\n",
              "            style=\"display:none;\">\n",
              "\n",
              "  <svg xmlns=\"http://www.w3.org/2000/svg\" height=\"24px\"viewBox=\"0 0 24 24\"\n",
              "       width=\"24px\">\n",
              "    <path d=\"M7,19H8.4L18.45,9,17,7.55,7,17.6ZM5,21V16.75L18.45,3.32a2,2,0,0,1,2.83,0l1.4,1.43a1.91,1.91,0,0,1,.58,1.4,1.91,1.91,0,0,1-.58,1.4L9.25,21ZM18.45,9,17,7.55Zm-12,3A5.31,5.31,0,0,0,4.9,8.1,5.31,5.31,0,0,0,1,6.5,5.31,5.31,0,0,0,4.9,4.9,5.31,5.31,0,0,0,6.5,1,5.31,5.31,0,0,0,8.1,4.9,5.31,5.31,0,0,0,12,6.5,5.46,5.46,0,0,0,6.5,12Z\"/>\n",
              "  </svg>\n",
              "    </button>\n",
              "    <script>\n",
              "      (() => {\n",
              "      const buttonEl =\n",
              "        document.querySelector('#id_74e8cb0f-a04c-4027-8a1a-c9b4f27254ab button.colab-df-generate');\n",
              "      buttonEl.style.display =\n",
              "        google.colab.kernel.accessAllowed ? 'block' : 'none';\n",
              "\n",
              "      buttonEl.onclick = () => {\n",
              "        google.colab.notebook.generateWithVariable('correlation_matrix');\n",
              "      }\n",
              "      })();\n",
              "    </script>\n",
              "  </div>\n",
              "\n",
              "    </div>\n",
              "  </div>\n"
            ],
            "application/vnd.google.colaboratory.intrinsic+json": {
              "type": "dataframe",
              "variable_name": "correlation_matrix",
              "summary": "{\n  \"name\": \"correlation_matrix\",\n  \"rows\": 10,\n  \"fields\": [\n    {\n      \"column\": \"Average\",\n      \"properties\": {\n        \"dtype\": \"number\",\n        \"std\": 0.281468099610084,\n        \"min\": 0.08070701993900291,\n        \"max\": 1.0,\n        \"num_unique_values\": 10,\n        \"samples\": [\n          0.09815907581546347,\n          0.08070701993900291,\n          0.20450176247701343\n        ],\n        \"semantic_type\": \"\",\n        \"description\": \"\"\n      }\n    },\n    {\n      \"column\": \"Stock\",\n      \"properties\": {\n        \"dtype\": \"number\",\n        \"std\": 0.42505167498383345,\n        \"min\": -0.1039260502714868,\n        \"max\": 1.0,\n        \"num_unique_values\": 10,\n        \"samples\": [\n          0.004239470907268368,\n          1.0,\n          0.09402770301437643\n        ],\n        \"semantic_type\": \"\",\n        \"description\": \"\"\n      }\n    },\n    {\n      \"column\": \"StockValue\",\n      \"properties\": {\n        \"dtype\": \"number\",\n        \"std\": 0.40457035883384485,\n        \"min\": -0.05479789772832436,\n        \"max\": 1.0,\n        \"num_unique_values\": 10,\n        \"samples\": [\n          0.0715455272168832,\n          0.8343488395610178,\n          0.2461835568821964\n        ],\n        \"semantic_type\": \"\",\n        \"description\": \"\"\n      }\n    },\n    {\n      \"column\": \"70%StockValue\",\n      \"properties\": {\n        \"dtype\": \"number\",\n        \"std\": 0.40457035883462844,\n        \"min\": -0.05479789773133189,\n        \"max\": 1.0,\n        \"num_unique_values\": 10,\n        \"samples\": [\n          0.0715455272142511,\n          0.8343488395571699,\n          0.2461835568758086\n        ],\n        \"semantic_type\": \"\",\n        \"description\": \"\"\n      }\n    },\n    {\n      \"column\": \"Proceeds\",\n      \"properties\": {\n        \"dtype\": \"number\",\n        \"std\": 0.3877452278905785,\n        \"min\": -0.10450137144845449,\n        \"max\": 1.0,\n        \"num_unique_values\": 10,\n        \"samples\": [\n          0.02065808341321904,\n          0.6395288524160269,\n          0.1479967768301586\n        ],\n        \"semantic_type\": \"\",\n        \"description\": \"\"\n      }\n    },\n    {\n      \"column\": \"AdvanceBalance\",\n      \"properties\": {\n        \"dtype\": \"number\",\n        \"std\": 0.36730680746451616,\n        \"min\": 0.09402770301437643,\n        \"max\": 1.0,\n        \"num_unique_values\": 10,\n        \"samples\": [\n          0.8370710648758397,\n          0.09402770301437643,\n          1.0\n        ],\n        \"semantic_type\": \"\",\n        \"description\": \"\"\n      }\n    },\n    {\n      \"column\": \"IsOverAdvance\",\n      \"properties\": {\n        \"dtype\": \"number\",\n        \"std\": 0.40287796382969926,\n        \"min\": -0.10450137144845449,\n        \"max\": 1.0,\n        \"num_unique_values\": 10,\n        \"samples\": [\n          0.5964567133857603,\n          -0.1039260502714868,\n          0.6285563637342627\n        ],\n        \"semantic_type\": \"\",\n        \"description\": \"\"\n      }\n    },\n    {\n      \"column\": \"AdvanceInterest\",\n      \"properties\": {\n        \"dtype\": \"number\",\n        \"std\": 0.34698192709108955,\n        \"min\": 0.09004862414818135,\n        \"max\": 1.0,\n        \"num_unique_values\": 10,\n        \"samples\": [\n          0.7854005310779576,\n          0.09004862414818135,\n          0.9682031464457214\n        ],\n        \"semantic_type\": \"\",\n        \"description\": \"\"\n      }\n    },\n    {\n      \"column\": \"OverAdvanceInterest\",\n      \"properties\": {\n        \"dtype\": \"number\",\n        \"std\": 0.4322579772431708,\n        \"min\": 0.004239470907268368,\n        \"max\": 1.0,\n        \"num_unique_values\": 10,\n        \"samples\": [\n          1.0,\n          0.004239470907268368,\n          0.8370710648758397\n        ],\n        \"semantic_type\": \"\",\n        \"description\": \"\"\n      }\n    },\n    {\n      \"column\": \"OverAdvanceAmount\",\n      \"properties\": {\n        \"dtype\": \"number\",\n        \"std\": 0.43242598076490224,\n        \"min\": 0.004543306779317205,\n        \"max\": 1.0,\n        \"num_unique_values\": 10,\n        \"samples\": [\n          0.9996311311242219,\n          0.004543306779317205,\n          0.8382881025566169\n        ],\n        \"semantic_type\": \"\",\n        \"description\": \"\"\n      }\n    }\n  ]\n}"
            }
          },
          "metadata": {},
          "execution_count": 13
        }
      ]
    },
    {
      "cell_type": "markdown",
      "source": [
        "Correlation Matrix Heatmap"
      ],
      "metadata": {
        "id": "5KLIuB8_J-6G"
      }
    },
    {
      "cell_type": "code",
      "source": [
        "import pandas as pd\n",
        "import seaborn as sns\n",
        "import matplotlib.pyplot as plt\n",
        "\n",
        "correlation_matrix = df.corr()\n",
        "\n",
        "plt.figure(figsize=(10, 8))\n",
        "\n",
        "sns.heatmap(correlation_matrix, annot=True, cmap=\"magma\", fmt=\".2f\", linewidths=.5)\n",
        "\n",
        "plt.title('Correlation Matrix Heatmap', fontsize=16)\n",
        "\n",
        "plt.show()\n"
      ],
      "metadata": {
        "colab": {
          "base_uri": "https://localhost:8080/",
          "height": 889
        },
        "id": "FO-84Di1J-J7",
        "outputId": "0dbc9283-b9b7-42ca-dee0-b130811d7511"
      },
      "execution_count": 14,
      "outputs": [
        {
          "output_type": "stream",
          "name": "stderr",
          "text": [
            "<ipython-input-14-46f83da2674c>:5: FutureWarning: The default value of numeric_only in DataFrame.corr is deprecated. In a future version, it will default to False. Select only valid columns or specify the value of numeric_only to silence this warning.\n",
            "  correlation_matrix = df.corr()\n"
          ]
        },
        {
          "output_type": "display_data",
          "data": {
            "text/plain": [
              "<Figure size 1000x800 with 2 Axes>"
            ],
            "image/png": "[encoded data removed]"
          },
          "metadata": {}
        }
      ]
    },
    {
      "cell_type": "code",
      "source": [],
      "metadata": {
        "id": "rrxwEXPgJoiv"
      },
      "execution_count": null,
      "outputs": []
    },
    {
      "cell_type": "markdown",
      "source": [
        "Kaiser-Meyer-Olkin (KMO) Test\n"
      ],
      "metadata": {
        "id": "RqUud2otUtnO"
      }
    },
    {
      "cell_type": "markdown",
      "source": [
        " Kaiser-Meyer-Olkin (KMO) Test - Measures sampling adequacy for each variable in the dataset. A KMO value above 0.5 is generally considered acceptable, indicating that the data is suitable for factor analysis. It helps ensure that the variables have enough common variance for meaningful factor extraction"
      ],
      "metadata": {
        "id": "T772h_Ix_wPj"
      }
    },
    {
      "cell_type": "code",
      "source": [
        "pip install pingouin factor-analyzer\n"
      ],
      "metadata": {
        "colab": {
          "base_uri": "https://localhost:8080/"
        },
        "id": "rjxi8v_gAIKX",
        "outputId": "a239e920-e1f8-4886-a74a-b1e54ac52fef"
      },
      "execution_count": 15,
      "outputs": [
        {
          "output_type": "stream",
          "name": "stdout",
          "text": [
            "Collecting pingouin\n",
            "  Downloading pingouin-0.5.4-py2.py3-none-any.whl (198 kB)\n",
            "\u001b[?25l     \u001b[90m━━━━━━━━━━━━━━━━━━━━━━━━━━━━━━━━━━━━━━━━\u001b[0m \u001b[32m0.0/198.9 kB\u001b[0m \u001b[31m?\u001b[0m eta \u001b[36m-:--:--\u001b[0m\r\u001b[2K     \u001b[91m━━━━━━━━━━━━━━━━━━━━━━━━━━━━━━━━\u001b[0m\u001b[91m╸\u001b[0m\u001b[90m━━━━━━━\u001b[0m \u001b[32m163.8/198.9 kB\u001b[0m \u001b[31m4.6 MB/s\u001b[0m eta \u001b[36m0:00:01\u001b[0m\r\u001b[2K     \u001b[90m━━━━━━━━━━━━━━━━━━━━━━━━━━━━━━━━━━━━━━━━\u001b[0m \u001b[32m198.9/198.9 kB\u001b[0m \u001b[31m4.3 MB/s\u001b[0m eta \u001b[36m0:00:00\u001b[0m\n",
            "\u001b[?25hCollecting factor-analyzer\n",
            "  Downloading factor_analyzer-0.5.1.tar.gz (42 kB)\n",
            "\u001b[2K     \u001b[90m━━━━━━━━━━━━━━━━━━━━━━━━━━━━━━━━━━━━━━━━\u001b[0m \u001b[32m42.8/42.8 kB\u001b[0m \u001b[31m5.0 MB/s\u001b[0m eta \u001b[36m0:00:00\u001b[0m\n",
            "\u001b[?25h  Installing build dependencies ... \u001b[?25l\u001b[?25hdone\n",
            "  Getting requirements to build wheel ... \u001b[?25l\u001b[?25hdone\n",
            "  Installing backend dependencies ... \u001b[?25l\u001b[?25hdone\n",
            "  Preparing metadata (pyproject.toml) ... \u001b[?25l\u001b[?25hdone\n",
            "Requirement already satisfied: numpy in /usr/local/lib/python3.10/dist-packages (from pingouin) (1.25.2)\n",
            "Requirement already satisfied: scipy in /usr/local/lib/python3.10/dist-packages (from pingouin) (1.11.4)\n",
            "Requirement already satisfied: pandas>=1.5 in /usr/local/lib/python3.10/dist-packages (from pingouin) (1.5.3)\n",
            "Requirement already satisfied: matplotlib in /usr/local/lib/python3.10/dist-packages (from pingouin) (3.7.1)\n",
            "Requirement already satisfied: seaborn in /usr/local/lib/python3.10/dist-packages (from pingouin) (0.13.1)\n",
            "Requirement already satisfied: statsmodels in /usr/local/lib/python3.10/dist-packages (from pingouin) (0.14.1)\n",
            "Requirement already satisfied: scikit-learn in /usr/local/lib/python3.10/dist-packages (from pingouin) (1.2.2)\n",
            "Collecting pandas-flavor (from pingouin)\n",
            "  Downloading pandas_flavor-0.6.0-py3-none-any.whl (7.2 kB)\n",
            "Requirement already satisfied: tabulate in /usr/local/lib/python3.10/dist-packages (from pingouin) (0.9.0)\n",
            "Requirement already satisfied: python-dateutil>=2.8.1 in /usr/local/lib/python3.10/dist-packages (from pandas>=1.5->pingouin) (2.8.2)\n",
            "Requirement already satisfied: pytz>=2020.1 in /usr/local/lib/python3.10/dist-packages (from pandas>=1.5->pingouin) (2023.4)\n",
            "Requirement already satisfied: contourpy>=1.0.1 in /usr/local/lib/python3.10/dist-packages (from matplotlib->pingouin) (1.2.0)\n",
            "Requirement already satisfied: cycler>=0.10 in /usr/local/lib/python3.10/dist-packages (from matplotlib->pingouin) (0.12.1)\n",
            "Requirement already satisfied: fonttools>=4.22.0 in /usr/local/lib/python3.10/dist-packages (from matplotlib->pingouin) (4.50.0)\n",
            "Requirement already satisfied: kiwisolver>=1.0.1 in /usr/local/lib/python3.10/dist-packages (from matplotlib->pingouin) (1.4.5)\n",
            "Requirement already satisfied: packaging>=20.0 in /usr/local/lib/python3.10/dist-packages (from matplotlib->pingouin) (24.0)\n",
            "Requirement already satisfied: pillow>=6.2.0 in /usr/local/lib/python3.10/dist-packages (from matplotlib->pingouin) (9.4.0)\n",
            "Requirement already satisfied: pyparsing>=2.3.1 in /usr/local/lib/python3.10/dist-packages (from matplotlib->pingouin) (3.1.2)\n",
            "Requirement already satisfied: xarray in /usr/local/lib/python3.10/dist-packages (from pandas-flavor->pingouin) (2023.7.0)\n",
            "Requirement already satisfied: joblib>=1.1.1 in /usr/local/lib/python3.10/dist-packages (from scikit-learn->pingouin) (1.3.2)\n",
            "Requirement already satisfied: threadpoolctl>=2.0.0 in /usr/local/lib/python3.10/dist-packages (from scikit-learn->pingouin) (3.3.0)\n",
            "Requirement already satisfied: patsy>=0.5.4 in /usr/local/lib/python3.10/dist-packages (from statsmodels->pingouin) (0.5.6)\n",
            "Requirement already satisfied: six in /usr/local/lib/python3.10/dist-packages (from patsy>=0.5.4->statsmodels->pingouin) (1.16.0)\n",
            "Building wheels for collected packages: factor-analyzer\n",
            "  Building wheel for factor-analyzer (pyproject.toml) ... \u001b[?25l\u001b[?25hdone\n",
            "  Created wheel for factor-analyzer: filename=factor_analyzer-0.5.1-py2.py3-none-any.whl size=42564 sha256=9ca480822ff69a1ae917359fa29b0368cb1cdad3b602c0e0292500b548f2ed8c\n",
            "  Stored in directory: /root/.cache/pip/wheels/24/59/82/6493618e30ed1cb7a013b9e1b0c9e17de80b04dfcef4ba8a4d\n",
            "Successfully built factor-analyzer\n",
            "Installing collected packages: factor-analyzer, pandas-flavor, pingouin\n",
            "Successfully installed factor-analyzer-0.5.1 pandas-flavor-0.6.0 pingouin-0.5.4\n"
          ]
        }
      ]
    },
    {
      "cell_type": "code",
      "source": [
        "from factor_analyzer.factor_analyzer import calculate_kmo\n"
      ],
      "metadata": {
        "id": "FI9iQElMBH3C"
      },
      "execution_count": 16,
      "outputs": []
    },
    {
      "cell_type": "code",
      "source": [
        "kmo_all, kmo_model = calculate_kmo(df_factor_analysis)\n"
      ],
      "metadata": {
        "id": "ZgSeXuo3Kq3w"
      },
      "execution_count": 17,
      "outputs": []
    },
    {
      "cell_type": "code",
      "source": [
        "\n",
        "actual_variable_names = df_factor_analysis.columns\n",
        "\n",
        "print(f\"Overall KMO: {kmo_model:.2f}\")\n",
        "\n",
        "print(\"Overall KMO and Individual KMO values for each variable:\")\n",
        "for idx, (variable_name, kmo) in enumerate(zip(actual_variable_names, kmo_all)):\n",
        "    print(f\"{variable_name}: {kmo:.2f}\")\n"
      ],
      "metadata": {
        "colab": {
          "base_uri": "https://localhost:8080/"
        },
        "id": "5Mz_44OwKqyQ",
        "outputId": "f545fa3d-25f1-45b4-cf85-312d53fd4d53"
      },
      "execution_count": 18,
      "outputs": [
        {
          "output_type": "stream",
          "name": "stdout",
          "text": [
            "Overall KMO: 0.76\n",
            "Overall KMO and Individual KMO values for each variable:\n",
            "Average: 0.68\n",
            "Stock: 0.87\n",
            "StockValue: 0.72\n",
            "70%StockValue: 0.72\n",
            "Proceeds: 0.98\n",
            "AdvanceBalance: 0.74\n",
            "IsOverAdvance: 0.87\n",
            "AdvanceInterest: 0.73\n",
            "OverAdvanceInterest: 0.71\n",
            "OverAdvanceAmount: 0.71\n"
          ]
        }
      ]
    },
    {
      "cell_type": "markdown",
      "source": [
        "Overall KMO Value and the KMO vlaue for variables are all greater than 0.6 indicating that the data is suitable for the factor analaysis."
      ],
      "metadata": {
        "id": "bXkgvBCPWiHj"
      }
    },
    {
      "cell_type": "code",
      "source": [],
      "metadata": {
        "id": "zEpSHm9EKqps"
      },
      "execution_count": null,
      "outputs": []
    },
    {
      "cell_type": "markdown",
      "source": [
        "Bartlett's Test of Sphericity"
      ],
      "metadata": {
        "id": "F1k-BkkLWyQp"
      }
    },
    {
      "cell_type": "markdown",
      "source": [
        "Bartlett's Test of Sphericity: Tests the null hypothesis that the correlation matrix is an identity matrix. A significant result indicates that correlations between variables are not zero, justifying the use of factor analysis. It helps confirm the presence of relationships between variables before proceeding with factor extraction"
      ],
      "metadata": {
        "id": "tN2Labd-gI9U"
      }
    },
    {
      "cell_type": "markdown",
      "source": [
        "Used to asses whether the correlation matrix is an identity matrix"
      ],
      "metadata": {
        "id": "CSR5PxhI3Hcv"
      }
    },
    {
      "cell_type": "markdown",
      "source": [
        "Used in factor analysis studies where rejection of null hypothesis of identity is an indication tat the data are suitbale for the factor analysis model."
      ],
      "metadata": {
        "id": "k252fGb33YUK"
      }
    },
    {
      "cell_type": "markdown",
      "source": [
        "H0 - Correlation matrix is an identitiy matrix.\n",
        "need to reject H0 to go with factor analysis"
      ],
      "metadata": {
        "id": "YP1QsmHV533B"
      }
    },
    {
      "cell_type": "code",
      "source": [
        "# from scipy.stats import bartlett\n",
        "# import pandas as pd\n",
        "\n",
        "# # Assuming 'df_factor_analysis' is your DataFrame with the variables\n",
        "# # Extract the correlation matrix\n",
        "# correlation_matrix = df_factor_analysis.corr()\n",
        "\n",
        "# # Extract each column as a sample vector\n",
        "# samples = [correlation_matrix[col].dropna().values for col in correlation_matrix.columns]\n",
        "\n",
        "# # Perform Bartlett's Test\n",
        "# statistic, p_value = bartlett(*samples)\n",
        "\n",
        "# # Display the results\n",
        "# print(f\"Bartlett's Test Statistic: {statistic}\")\n",
        "# print(f\"P-value: {p_value}\")\n",
        "\n",
        "# # Check the significance level (e.g., 0.05) to determine whether to reject the null hypothesis\n",
        "# if p_value < 0.05:\n",
        "#     print(\"Reject the null hypothesis. The variables are not unrelated.\")\n",
        "# else:\n",
        "#     print(\"Fail to reject the null hypothesis. The variables may be unrelated.\")\n"
      ],
      "metadata": {
        "id": "50CVmPHkg1_B"
      },
      "execution_count": null,
      "outputs": []
    },
    {
      "cell_type": "code",
      "source": [
        "from factor_analyzer.factor_analyzer import calculate_bartlett_sphericity\n",
        "\n",
        "df_factor_analysis[df_factor_analysis <= 0] = np.finfo(float).eps\n",
        "\n",
        "chi2, p = calculate_bartlett_sphericity(df_factor_analysis)\n",
        "\n",
        "print(\"Bartlett's Test Statistic:\", chi2)\n",
        "print(\"P-value:\", p)\n"
      ],
      "metadata": {
        "colab": {
          "base_uri": "https://localhost:8080/"
        },
        "id": "0RsytQne7u8F",
        "outputId": "e725b611-5407-4ddf-dea9-1ec93950e625"
      },
      "execution_count": 19,
      "outputs": [
        {
          "output_type": "stream",
          "name": "stdout",
          "text": [
            "Bartlett's Test Statistic: 1682296.0387522988\n",
            "P-value: 0.0\n"
          ]
        }
      ]
    },
    {
      "cell_type": "code",
      "source": [],
      "metadata": {
        "id": "6P0zIaxJ-Hyp"
      },
      "execution_count": null,
      "outputs": []
    },
    {
      "cell_type": "markdown",
      "source": [
        "Determine the Number of Factors for Factor Analysis"
      ],
      "metadata": {
        "id": "R5ivpevbYpxd"
      }
    },
    {
      "cell_type": "code",
      "source": [
        "!pip install factor_analyzer\n"
      ],
      "metadata": {
        "colab": {
          "base_uri": "https://localhost:8080/"
        },
        "id": "VSL5btrD1Gfv",
        "outputId": "10bfbce5-0be9-4afd-95a1-964298ac7b69"
      },
      "execution_count": 20,
      "outputs": [
        {
          "output_type": "stream",
          "name": "stdout",
          "text": [
            "Requirement already satisfied: factor_analyzer in /usr/local/lib/python3.10/dist-packages (0.5.1)\n",
            "Requirement already satisfied: pandas in /usr/local/lib/python3.10/dist-packages (from factor_analyzer) (1.5.3)\n",
            "Requirement already satisfied: scipy in /usr/local/lib/python3.10/dist-packages (from factor_analyzer) (1.11.4)\n",
            "Requirement already satisfied: numpy in /usr/local/lib/python3.10/dist-packages (from factor_analyzer) (1.25.2)\n",
            "Requirement already satisfied: scikit-learn in /usr/local/lib/python3.10/dist-packages (from factor_analyzer) (1.2.2)\n",
            "Requirement already satisfied: python-dateutil>=2.8.1 in /usr/local/lib/python3.10/dist-packages (from pandas->factor_analyzer) (2.8.2)\n",
            "Requirement already satisfied: pytz>=2020.1 in /usr/local/lib/python3.10/dist-packages (from pandas->factor_analyzer) (2023.4)\n",
            "Requirement already satisfied: joblib>=1.1.1 in /usr/local/lib/python3.10/dist-packages (from scikit-learn->factor_analyzer) (1.3.2)\n",
            "Requirement already satisfied: threadpoolctl>=2.0.0 in /usr/local/lib/python3.10/dist-packages (from scikit-learn->factor_analyzer) (3.3.0)\n",
            "Requirement already satisfied: six>=1.5 in /usr/local/lib/python3.10/dist-packages (from python-dateutil>=2.8.1->pandas->factor_analyzer) (1.16.0)\n"
          ]
        }
      ]
    },
    {
      "cell_type": "markdown",
      "source": [
        "Scree Plot"
      ],
      "metadata": {
        "id": "fn4fuDGmYzyV"
      }
    },
    {
      "cell_type": "code",
      "source": [
        "from factor_analyzer import FactorAnalyzer\n",
        "import matplotlib.pyplot as plt\n",
        "\n",
        "# Create factor analyzer object\n",
        "fa = FactorAnalyzer()\n",
        "\n",
        "# Fit the model6\n",
        "fa.fit(df_factor_analysis)\n",
        "\n",
        "# Check the eigenvalues\n",
        "ev, v = fa.get_eigenvalues()\n",
        "\n",
        "# Scree plot\n",
        "plt.scatter(range(1, df_factor_analysis.shape[1]+1), ev)\n",
        "plt.plot(range(1, df_factor_analysis.shape[1]+1), ev)\n",
        "plt.title('Scree Plot')\n",
        "plt.xlabel('Factors')\n",
        "plt.ylabel('Eigenvalue')\n",
        "plt.grid()\n",
        "plt.show()"
      ],
      "metadata": {
        "colab": {
          "base_uri": "https://localhost:8080/",
          "height": 472
        },
        "id": "WHF-PuZZ1Gmv",
        "outputId": "4b2199ba-4ec1-41a2-cc4c-6dd26402398b"
      },
      "execution_count": 21,
      "outputs": [
        {
          "output_type": "display_data",
          "data": {
            "text/plain": [
              "<Figure size 640x480 with 1 Axes>"
            ],
            "image/png": "[encoded data removed]"
          },
          "metadata": {}
        }
      ]
    },
    {
      "cell_type": "code",
      "source": [
        "from factor_analyzer.factor_analyzer import calculate_bartlett_sphericity, calculate_kmo\n"
      ],
      "metadata": {
        "id": "rQ9GHCvM6Hyl"
      },
      "execution_count": 22,
      "outputs": []
    },
    {
      "cell_type": "code",
      "source": [],
      "metadata": {
        "id": "kF7xUZ_l1GrI"
      },
      "execution_count": null,
      "outputs": []
    },
    {
      "cell_type": "markdown",
      "source": [
        "Kaiser's Rule"
      ],
      "metadata": {
        "id": "KQ3pi2EKR7Ko"
      }
    },
    {
      "cell_type": "code",
      "source": [
        "eigenvalues = fa.get_eigenvalues()\n",
        "\n",
        "# Determine the number of factors using Kaiser's Rule\n",
        "n_factors_kaiser = sum(value > 1 for value in eigenvalues)\n",
        "print(\"Number of Factors (Kaiser's Rule):\", n_factors_kaiser)\n"
      ],
      "metadata": {
        "colab": {
          "base_uri": "https://localhost:8080/"
        },
        "id": "aAiu3kGT7tKd",
        "outputId": "64696201-934d-47de-a1f9-9af9ab195c8b"
      },
      "execution_count": 23,
      "outputs": [
        {
          "output_type": "stream",
          "name": "stdout",
          "text": [
            "Number of Factors (Kaiser's Rule): [2 2 0 0 0 0 0 0 0 0]\n"
          ]
        }
      ]
    },
    {
      "cell_type": "code",
      "source": [],
      "metadata": {
        "id": "fQuDYsXzbD2Q"
      },
      "execution_count": null,
      "outputs": []
    },
    {
      "cell_type": "markdown",
      "source": [
        "Parallel Analysis"
      ],
      "metadata": {
        "id": "DCMWPGipZB0b"
      }
    },
    {
      "cell_type": "code",
      "source": [
        "eigenvalues = fa.get_eigenvalues()\n",
        "\n",
        "eigenvalues_array = eigenvalues[0]\n",
        "\n",
        "# Use Parallel Analysis to automatically determine the number of factors\n",
        "n_factors_auto = sum(eigenvalues_array > eigenvalues_array.mean())\n",
        "print(\"Automatic Number of Factors (Parallel Analysis):\", n_factors_auto)\n"
      ],
      "metadata": {
        "colab": {
          "base_uri": "https://localhost:8080/"
        },
        "id": "M8H73X9C-dS5",
        "outputId": "0fbe8f93-af4f-4de2-a381-7977e27b6025"
      },
      "execution_count": null,
      "outputs": [
        {
          "output_type": "stream",
          "name": "stdout",
          "text": [
            "Automatic Number of Factors (Parallel Analysis): 2\n"
          ]
        }
      ]
    },
    {
      "cell_type": "markdown",
      "source": [
        "Both Parallel analysis and the kaiser analysis indicates that the needed factors for the factor analysis is 2.\n"
      ],
      "metadata": {
        "id": "7sQ-y3Kq89lo"
      }
    },
    {
      "cell_type": "markdown",
      "source": [
        "MAP Curve (Minimum Average Partial)"
      ],
      "metadata": {
        "id": "JCa7uDaSgYoJ"
      }
    },
    {
      "cell_type": "code",
      "source": [
        "import numpy as np\n",
        "import pandas as pd\n",
        "from factor_analyzer import FactorAnalyzer\n",
        "\n",
        "# Initialize the FactorAnalyzer object\n",
        "fa = FactorAnalyzer()\n",
        "\n",
        "# Fit the factor analyzer to your data\n",
        "fa.fit(df_factor_analysis)\n",
        "\n",
        "# Perform the MAP test\n",
        "# map_test_result = fa.get_mev()\n",
        "map_test_result = fa.get_eigenvalues()\n",
        "\n",
        "\n",
        "# Display the MAP test results\n",
        "print(\"MAP Test Results:\")\n",
        "print(map_test_result)\n"
      ],
      "metadata": {
        "colab": {
          "base_uri": "https://localhost:8080/"
        },
        "id": "y7_-7ts0gYSk",
        "outputId": "dff20c40-68b3-473d-c673-7ed7c1d76065"
      },
      "execution_count": 24,
      "outputs": [
        {
          "output_type": "stream",
          "name": "stdout",
          "text": [
            "MAP Test Results:\n",
            "(array([4.38136023e+00, 3.38341706e+00, 9.32639302e-01, 5.15288450e-01,\n",
            "       3.37316401e-01, 3.09994750e-01, 1.15901288e-01, 2.37349830e-02,\n",
            "       3.47539330e-04, 2.27440288e-16]), array([ 4.221467  ,  3.26548818,  0.71347538,  0.20381306,  0.08318779,\n",
            "       -0.01715779, -0.04091032, -0.135805  , -0.14935096, -0.16592127]))\n"
          ]
        }
      ]
    },
    {
      "cell_type": "markdown",
      "source": [
        "The eigenvalues represent the amount of variance explained by each factor. In this case, the first two factors contribute significantly, as indicated by their higher eigenvalues (4.38 and 3.38).\n",
        "The residuals array provides the difference between the observed eigenvalues and the expected eigenvalues under the assumption of no additional factors. Positive residuals suggest potential factors to retain.\n",
        "Eigenvalues greater than 1 are often considered significant in factor analysis, indicating factors that explain more variance than a single variable."
      ],
      "metadata": {
        "id": "tCZRzmzFhvIL"
      }
    },
    {
      "cell_type": "markdown",
      "source": [
        "This method also suggests the use of 2 factors"
      ],
      "metadata": {
        "id": "-3LsMSQqiCse"
      }
    },
    {
      "cell_type": "code",
      "source": [],
      "metadata": {
        "id": "5vT6Yq2RgXX_"
      },
      "execution_count": null,
      "outputs": []
    },
    {
      "cell_type": "markdown",
      "source": [
        "Perform factor analyzer using 2 factors"
      ],
      "metadata": {
        "id": "tk6A_iiTDADz"
      }
    },
    {
      "cell_type": "code",
      "source": [
        "from sklearn.preprocessing import StandardScaler"
      ],
      "metadata": {
        "id": "77eAjpy1CPsM"
      },
      "execution_count": 25,
      "outputs": []
    },
    {
      "cell_type": "code",
      "source": [
        "# Standardize the data for factor analysis\n",
        "scaler = StandardScaler()\n",
        "df_factor_analysis_standardized = scaler.fit_transform(df_factor_analysis)"
      ],
      "metadata": {
        "id": "Xcvon2IzAy7V"
      },
      "execution_count": 26,
      "outputs": []
    },
    {
      "cell_type": "code",
      "source": [
        "# Initialize FactorAnalyzer with 2 factors (as per kasier's rule and parralle analysis)\n",
        "fa = FactorAnalyzer(n_factors= 2, rotation='varimax')"
      ],
      "metadata": {
        "id": "P0278yiGAy39"
      },
      "execution_count": 27,
      "outputs": []
    },
    {
      "cell_type": "code",
      "source": [
        "# Fit the factor analyzer to your standardized data\n",
        "fa.fit(df_factor_analysis_standardized)"
      ],
      "metadata": {
        "colab": {
          "base_uri": "https://localhost:8080/",
          "height": 74
        },
        "id": "2mMevYlmAy1E",
        "outputId": "a48fe127-6941-41ef-ed94-d6bcbe557f0d"
      },
      "execution_count": 28,
      "outputs": [
        {
          "output_type": "execute_result",
          "data": {
            "text/plain": [
              "FactorAnalyzer(n_factors=2, rotation='varimax', rotation_kwargs={})"
            ],
            "text/html": [
              "<style>#sk-container-id-1 {color: black;background-color: white;}#sk-container-id-1 pre{padding: 0;}#sk-container-id-1 div.sk-toggleable {background-color: white;}#sk-container-id-1 label.sk-toggleable__label {cursor: pointer;display: block;width: 100%;margin-bottom: 0;padding: 0.3em;box-sizing: border-box;text-align: center;}#sk-container-id-1 label.sk-toggleable__label-arrow:before {content: \"▸\";float: left;margin-right: 0.25em;color: #696969;}#sk-container-id-1 label.sk-toggleable__label-arrow:hover:before {color: black;}#sk-container-id-1 div.sk-estimator:hover label.sk-toggleable__label-arrow:before {color: black;}#sk-container-id-1 div.sk-toggleable__content {max-height: 0;max-width: 0;overflow: hidden;text-align: left;background-color: #f0f8ff;}#sk-container-id-1 div.sk-toggleable__content pre {margin: 0.2em;color: black;border-radius: 0.25em;background-color: #f0f8ff;}#sk-container-id-1 input.sk-toggleable__control:checked~div.sk-toggleable__content {max-height: 200px;max-width: 100%;overflow: auto;}#sk-container-id-1 input.sk-toggleable__control:checked~label.sk-toggleable__label-arrow:before {content: \"▾\";}#sk-container-id-1 div.sk-estimator input.sk-toggleable__control:checked~label.sk-toggleable__label {background-color: #d4ebff;}#sk-container-id-1 div.sk-label input.sk-toggleable__control:checked~label.sk-toggleable__label {background-color: #d4ebff;}#sk-container-id-1 input.sk-hidden--visually {border: 0;clip: rect(1px 1px 1px 1px);clip: rect(1px, 1px, 1px, 1px);height: 1px;margin: -1px;overflow: hidden;padding: 0;position: absolute;width: 1px;}#sk-container-id-1 div.sk-estimator {font-family: monospace;background-color: #f0f8ff;border: 1px dotted black;border-radius: 0.25em;box-sizing: border-box;margin-bottom: 0.5em;}#sk-container-id-1 div.sk-estimator:hover {background-color: #d4ebff;}#sk-container-id-1 div.sk-parallel-item::after {content: \"\";width: 100%;border-bottom: 1px solid gray;flex-grow: 1;}#sk-container-id-1 div.sk-label:hover label.sk-toggleable__label {background-color: #d4ebff;}#sk-container-id-1 div.sk-serial::before {content: \"\";position: absolute;border-left: 1px solid gray;box-sizing: border-box;top: 0;bottom: 0;left: 50%;z-index: 0;}#sk-container-id-1 div.sk-serial {display: flex;flex-direction: column;align-items: center;background-color: white;padding-right: 0.2em;padding-left: 0.2em;position: relative;}#sk-container-id-1 div.sk-item {position: relative;z-index: 1;}#sk-container-id-1 div.sk-parallel {display: flex;align-items: stretch;justify-content: center;background-color: white;position: relative;}#sk-container-id-1 div.sk-item::before, #sk-container-id-1 div.sk-parallel-item::before {content: \"\";position: absolute;border-left: 1px solid gray;box-sizing: border-box;top: 0;bottom: 0;left: 50%;z-index: -1;}#sk-container-id-1 div.sk-parallel-item {display: flex;flex-direction: column;z-index: 1;position: relative;background-color: white;}#sk-container-id-1 div.sk-parallel-item:first-child::after {align-self: flex-end;width: 50%;}#sk-container-id-1 div.sk-parallel-item:last-child::after {align-self: flex-start;width: 50%;}#sk-container-id-1 div.sk-parallel-item:only-child::after {width: 0;}#sk-container-id-1 div.sk-dashed-wrapped {border: 1px dashed gray;margin: 0 0.4em 0.5em 0.4em;box-sizing: border-box;padding-bottom: 0.4em;background-color: white;}#sk-container-id-1 div.sk-label label {font-family: monospace;font-weight: bold;display: inline-block;line-height: 1.2em;}#sk-container-id-1 div.sk-label-container {text-align: center;}#sk-container-id-1 div.sk-container {/* jupyter's `normalize.less` sets `[hidden] { display: none; }` but bootstrap.min.css set `[hidden] { display: none !important; }` so we also need the `!important` here to be able to override the default hidden behavior on the sphinx rendered scikit-learn.org. See: https://github.com/scikit-learn/scikit-learn/issues/21755 */display: inline-block !important;position: relative;}#sk-container-id-1 div.sk-text-repr-fallback {display: none;}</style><div id=\"sk-container-id-1\" class=\"sk-top-container\"><div class=\"sk-text-repr-fallback\"><pre>FactorAnalyzer(n_factors=2, rotation=&#x27;varimax&#x27;, rotation_kwargs={})</pre><b>In a Jupyter environment, please rerun this cell to show the HTML representation or trust the notebook. <br />On GitHub, the HTML representation is unable to render, please try loading this page with nbviewer.org.</b></div><div class=\"sk-container\" hidden><div class=\"sk-item\"><div class=\"sk-estimator sk-toggleable\"><input class=\"sk-toggleable__control sk-hidden--visually\" id=\"sk-estimator-id-1\" type=\"checkbox\" checked><label for=\"sk-estimator-id-1\" class=\"sk-toggleable__label sk-toggleable__label-arrow\">FactorAnalyzer</label><div class=\"sk-toggleable__content\"><pre>FactorAnalyzer(n_factors=2, rotation=&#x27;varimax&#x27;, rotation_kwargs={})</pre></div></div></div></div></div>"
            ]
          },
          "metadata": {},
          "execution_count": 28
        }
      ]
    },
    {
      "cell_type": "code",
      "source": [
        "# Get factor loadings\n",
        "factor_loadings = pd.DataFrame(fa.loadings_, index=df_factor_analysis.columns, columns=[f'Factor_{i+1}' for i in range(2)])\n",
        "print(\"Factor Loadings:\")\n",
        "print(factor_loadings)"
      ],
      "metadata": {
        "colab": {
          "base_uri": "https://localhost:8080/"
        },
        "id": "pMDUe90QAyx5",
        "outputId": "97d789fe-ca10-45fd-f3f9-1152fd6ede90"
      },
      "execution_count": 29,
      "outputs": [
        {
          "output_type": "stream",
          "name": "stdout",
          "text": [
            "Factor Loadings:\n",
            "                     Factor_1  Factor_2\n",
            "Average              0.135831  0.366969\n",
            "Stock               -0.052610  0.794982\n",
            "StockValue           0.053559  1.003430\n",
            "70%StockValue        0.053559  1.003430\n",
            "Proceeds            -0.003845  0.795594\n",
            "AdvanceBalance       0.944396  0.196438\n",
            "IsOverAdvance        0.654083 -0.091910\n",
            "AdvanceInterest      0.882234  0.220908\n",
            "OverAdvanceInterest  0.938612  0.022506\n",
            "OverAdvanceAmount    0.939712  0.022445\n"
          ]
        }
      ]
    },
    {
      "cell_type": "code",
      "source": [],
      "metadata": {
        "id": "Y5jCoHBzFAnx"
      },
      "execution_count": null,
      "outputs": []
    },
    {
      "cell_type": "code",
      "source": [
        "# Determine which variables are associated with each factor\n",
        "variables_per_factor = {}\n",
        "loading_threshold = 0.5\n",
        "\n",
        "for factor_index in range(2):\n",
        "    loadings = factor_loadings[f'Factor_{factor_index + 1}']\n",
        "    significant_loadings = df_factor_analysis.columns[abs(loadings) > loading_threshold]\n",
        "    variables_per_factor[f'Factor {factor_index + 1}'] = significant_loadings\n",
        "\n",
        "# Interpretation\n",
        "print(\"\\nVariable Assignment (After Varimax Rotation):\")\n",
        "for factor, variables in variables_per_factor.items():\n",
        "    print(f\"{factor}: {', '.join(variables)}\")"
      ],
      "metadata": {
        "colab": {
          "base_uri": "https://localhost:8080/"
        },
        "id": "nLpGuW4oAypv",
        "outputId": "ffffe29e-eb82-486a-ce64-641734eee71b"
      },
      "execution_count": 31,
      "outputs": [
        {
          "output_type": "stream",
          "name": "stdout",
          "text": [
            "\n",
            "Variable Assignment (After Varimax Rotation):\n",
            "Factor 1: AdvanceBalance, IsOverAdvance, AdvanceInterest, OverAdvanceInterest, OverAdvanceAmount\n",
            "Factor 2: Stock, StockValue, 70%StockValue, Proceeds\n"
          ]
        }
      ]
    },
    {
      "cell_type": "code",
      "source": [],
      "metadata": {
        "id": "aouY5LY3Aym0"
      },
      "execution_count": null,
      "outputs": []
    },
    {
      "cell_type": "code",
      "source": [
        "import numpy as np\n",
        "import matplotlib.pyplot as plt\n",
        "from sklearn.decomposition import FactorAnalysis\n"
      ],
      "metadata": {
        "id": "6031r27rpsAm"
      },
      "execution_count": 32,
      "outputs": []
    },
    {
      "cell_type": "code",
      "source": [
        "X = df_factor_analysis_standardized\n",
        "factors = 2\n",
        "#  a list of 2 tuples containing titles for and instances of or class\n",
        "fas = [\n",
        "    (\"FA no rotation\", FactorAnalysis(n_components=factors)),\n",
        "    (\"FA varimax\", FactorAnalysis(n_components=factors, rotation=\"varimax\")),\n",
        "]\n",
        "\n",
        "#  Let's prepare some plots on one canvas (subplots)\n",
        "fig, axes = plt.subplots(ncols=len(fas), figsize=(10, 8))\n",
        "\n",
        "# Add a common title for all subplots\n",
        "fig.suptitle(\"Factor Analysis Heatmaps\", fontsize=16)\n",
        "\n",
        "'''\n",
        "And loop over the variants of our analysis `fas`, zipped with the\n",
        "plot axes `axes`\n",
        "'''\n",
        "for ax, (title, fa) in zip(axes, fas):\n",
        "    #  Fit the model to the standardized food data\n",
        "    fa = fa.fit(X)\n",
        "    #  and transpose the component (loading) matrix\n",
        "    factor_matrix = fa.components_.T\n",
        "    #  Plot the data as a heat map\n",
        "    im = ax.imshow(factor_matrix, cmap=\"RdBu_r\", vmax=1, vmin=-1)\n",
        "    #  and add the corresponding value to the center of each cell\n",
        "    for (i, j), z in np.ndenumerate(factor_matrix):\n",
        "        ax.text(j, i, str(z.round(2)), ha=\"center\", va=\"center\")\n",
        "    #  Tell matplotlib about the metadata of the plot\n",
        "    ax.set_yticks(np.arange(len(df_factor_analysis.columns)))\n",
        "    if ax.get_subplotspec().is_first_col():\n",
        "        ax.set_yticklabels(df_factor_analysis.columns)\n",
        "    else:\n",
        "        ax.set_yticklabels([])\n",
        "    # Set subplot title\n",
        "    ax.set_title(title)\n",
        "    ax.set_xticks([0, 1])\n",
        "    ax.set_xticklabels([\"Factor 1\", \"Factor 2\"])\n",
        "    #  and squeeze the axes tight, to save space\n",
        "    plt.tight_layout(rect=[0, 0, 1, 0.96])\n",
        "\n",
        "#  and add a colorbar\n",
        "cb = fig.colorbar(im, ax=axes, location='right', label=\"loadings\")\n",
        "#  show us the plot\n",
        "plt.show()\n"
      ],
      "metadata": {
        "colab": {
          "base_uri": "https://localhost:8080/",
          "height": 806
        },
        "id": "pXHZEt4HawZ4",
        "outputId": "3a49d907-52a3-485d-d194-20d6fa7aed0d"
      },
      "execution_count": 33,
      "outputs": [
        {
          "output_type": "display_data",
          "data": {
            "text/plain": [
              "<Figure size 1000x800 with 3 Axes>"
            ],
            "image/png": "[encoded data removed]"
          },
          "metadata": {}
        }
      ]
    },
    {
      "cell_type": "code",
      "source": [
        "df_factor_analysis"
      ],
      "metadata": {
        "colab": {
          "base_uri": "https://localhost:8080/",
          "height": 423
        },
        "id": "uVc_HWHtoeJT",
        "outputId": "cd972e88-68a5-4742-ee8c-88ff05f7010f"
      },
      "execution_count": 34,
      "outputs": [
        {
          "output_type": "execute_result",
          "data": {
            "text/plain": [
              "       Average         Stock    StockValue  70%StockValue      Proceeds  \\\n",
              "0       405.56  2.168100e+04  8.792943e+06   6.155060e+06  1.024872e+06   \n",
              "1       431.21  2.482300e+04  1.070382e+07   7.492677e+06  1.845832e+06   \n",
              "2       453.22  2.246100e+04  1.017979e+07   7.125851e+06  3.240725e+06   \n",
              "3       433.62  2.038600e+04  8.839715e+06   6.187800e+06  1.272360e+06   \n",
              "4       422.17  1.478200e+04  6.240461e+06   4.368323e+06  3.263007e+06   \n",
              "...        ...           ...           ...            ...           ...   \n",
              "33513   684.05  1.296000e+04  8.865296e+06   6.205707e+06  2.220446e-16   \n",
              "33514   684.05  1.500000e+04  1.026076e+07   7.182532e+06  2.220446e-16   \n",
              "33515   665.44  1.412000e+04  9.396076e+06   6.577253e+06  2.295546e+05   \n",
              "33516   656.06  5.220000e+03  3.424612e+06   2.397229e+06  3.628080e+06   \n",
              "33517   649.99  2.220446e-16  2.220446e-16   2.220446e-16  3.277814e+06   \n",
              "\n",
              "       AdvanceBalance  IsOverAdvance  AdvanceInterest  OverAdvanceInterest  \\\n",
              "0        2.220446e-16   2.220446e-16     2.220446e-16         2.220446e-16   \n",
              "1        2.220446e-16   2.220446e-16     2.220446e-16         2.220446e-16   \n",
              "2        5.476072e+05   2.220446e-16     2.850600e+02         2.220446e-16   \n",
              "3        2.220446e-16   2.220446e-16     2.220446e-16         2.220446e-16   \n",
              "4        2.220446e-16   2.220446e-16     2.220446e-16         2.220446e-16   \n",
              "...               ...            ...              ...                  ...   \n",
              "33513    2.220446e-16   2.220446e-16     2.220446e-16         2.220446e-16   \n",
              "33514    2.220446e-16   2.220446e-16     2.220446e-16         2.220446e-16   \n",
              "33515    2.220446e-16   2.220446e-16     2.220446e-16         2.220446e-16   \n",
              "33516    2.220446e-16   2.220446e-16     2.220446e-16         2.220446e-16   \n",
              "33517    2.220446e-16   2.220446e-16     2.220446e-16         2.220446e-16   \n",
              "\n",
              "       OverAdvanceAmount  \n",
              "0           2.220446e-16  \n",
              "1           2.220446e-16  \n",
              "2           2.220446e-16  \n",
              "3           2.220446e-16  \n",
              "4           2.220446e-16  \n",
              "...                  ...  \n",
              "33513       2.220446e-16  \n",
              "33514       2.220446e-16  \n",
              "33515       2.220446e-16  \n",
              "33516       2.220446e-16  \n",
              "33517       2.220446e-16  \n",
              "\n",
              "[33518 rows x 10 columns]"
            ],
            "text/html": [
              "\n",
              "  <div id=\"df-f72ef796-531e-4543-b16a-e8a72cad18d0\" class=\"colab-df-container\">\n",
              "    <div>\n",
              "<style scoped>\n",
              "    .dataframe tbody tr th:only-of-type {\n",
              "        vertical-align: middle;\n",
              "    }\n",
              "\n",
              "    .dataframe tbody tr th {\n",
              "        vertical-align: top;\n",
              "    }\n",
              "\n",
              "    .dataframe thead th {\n",
              "        text-align: right;\n",
              "    }\n",
              "</style>\n",
              "<table border=\"1\" class=\"dataframe\">\n",
              "  <thead>\n",
              "    <tr style=\"text-align: right;\">\n",
              "      <th></th>\n",
              "      <th>Average</th>\n",
              "      <th>Stock</th>\n",
              "      <th>StockValue</th>\n",
              "      <th>70%StockValue</th>\n",
              "      <th>Proceeds</th>\n",
              "      <th>AdvanceBalance</th>\n",
              "      <th>IsOverAdvance</th>\n",
              "      <th>AdvanceInterest</th>\n",
              "      <th>OverAdvanceInterest</th>\n",
              "      <th>OverAdvanceAmount</th>\n",
              "    </tr>\n",
              "  </thead>\n",
              "  <tbody>\n",
              "    <tr>\n",
              "      <th>0</th>\n",
              "      <td>405.56</td>\n",
              "      <td>2.168100e+04</td>\n",
              "      <td>8.792943e+06</td>\n",
              "      <td>6.155060e+06</td>\n",
              "      <td>1.024872e+06</td>\n",
              "      <td>2.220446e-16</td>\n",
              "      <td>2.220446e-16</td>\n",
              "      <td>2.220446e-16</td>\n",
              "      <td>2.220446e-16</td>\n",
              "      <td>2.220446e-16</td>\n",
              "    </tr>\n",
              "    <tr>\n",
              "      <th>1</th>\n",
              "      <td>431.21</td>\n",
              "      <td>2.482300e+04</td>\n",
              "      <td>1.070382e+07</td>\n",
              "      <td>7.492677e+06</td>\n",
              "      <td>1.845832e+06</td>\n",
              "      <td>2.220446e-16</td>\n",
              "      <td>2.220446e-16</td>\n",
              "      <td>2.220446e-16</td>\n",
              "      <td>2.220446e-16</td>\n",
              "      <td>2.220446e-16</td>\n",
              "    </tr>\n",
              "    <tr>\n",
              "      <th>2</th>\n",
              "      <td>453.22</td>\n",
              "      <td>2.246100e+04</td>\n",
              "      <td>1.017979e+07</td>\n",
              "      <td>7.125851e+06</td>\n",
              "      <td>3.240725e+06</td>\n",
              "      <td>5.476072e+05</td>\n",
              "      <td>2.220446e-16</td>\n",
              "      <td>2.850600e+02</td>\n",
              "      <td>2.220446e-16</td>\n",
              "      <td>2.220446e-16</td>\n",
              "    </tr>\n",
              "    <tr>\n",
              "      <th>3</th>\n",
              "      <td>433.62</td>\n",
              "      <td>2.038600e+04</td>\n",
              "      <td>8.839715e+06</td>\n",
              "      <td>6.187800e+06</td>\n",
              "      <td>1.272360e+06</td>\n",
              "      <td>2.220446e-16</td>\n",
              "      <td>2.220446e-16</td>\n",
              "      <td>2.220446e-16</td>\n",
              "      <td>2.220446e-16</td>\n",
              "      <td>2.220446e-16</td>\n",
              "    </tr>\n",
              "    <tr>\n",
              "      <th>4</th>\n",
              "      <td>422.17</td>\n",
              "      <td>1.478200e+04</td>\n",
              "      <td>6.240461e+06</td>\n",
              "      <td>4.368323e+06</td>\n",
              "      <td>3.263007e+06</td>\n",
              "      <td>2.220446e-16</td>\n",
              "      <td>2.220446e-16</td>\n",
              "      <td>2.220446e-16</td>\n",
              "      <td>2.220446e-16</td>\n",
              "      <td>2.220446e-16</td>\n",
              "    </tr>\n",
              "    <tr>\n",
              "      <th>...</th>\n",
              "      <td>...</td>\n",
              "      <td>...</td>\n",
              "      <td>...</td>\n",
              "      <td>...</td>\n",
              "      <td>...</td>\n",
              "      <td>...</td>\n",
              "      <td>...</td>\n",
              "      <td>...</td>\n",
              "      <td>...</td>\n",
              "      <td>...</td>\n",
              "    </tr>\n",
              "    <tr>\n",
              "      <th>33513</th>\n",
              "      <td>684.05</td>\n",
              "      <td>1.296000e+04</td>\n",
              "      <td>8.865296e+06</td>\n",
              "      <td>6.205707e+06</td>\n",
              "      <td>2.220446e-16</td>\n",
              "      <td>2.220446e-16</td>\n",
              "      <td>2.220446e-16</td>\n",
              "      <td>2.220446e-16</td>\n",
              "      <td>2.220446e-16</td>\n",
              "      <td>2.220446e-16</td>\n",
              "    </tr>\n",
              "    <tr>\n",
              "      <th>33514</th>\n",
              "      <td>684.05</td>\n",
              "      <td>1.500000e+04</td>\n",
              "      <td>1.026076e+07</td>\n",
              "      <td>7.182532e+06</td>\n",
              "      <td>2.220446e-16</td>\n",
              "      <td>2.220446e-16</td>\n",
              "      <td>2.220446e-16</td>\n",
              "      <td>2.220446e-16</td>\n",
              "      <td>2.220446e-16</td>\n",
              "      <td>2.220446e-16</td>\n",
              "    </tr>\n",
              "    <tr>\n",
              "      <th>33515</th>\n",
              "      <td>665.44</td>\n",
              "      <td>1.412000e+04</td>\n",
              "      <td>9.396076e+06</td>\n",
              "      <td>6.577253e+06</td>\n",
              "      <td>2.295546e+05</td>\n",
              "      <td>2.220446e-16</td>\n",
              "      <td>2.220446e-16</td>\n",
              "      <td>2.220446e-16</td>\n",
              "      <td>2.220446e-16</td>\n",
              "      <td>2.220446e-16</td>\n",
              "    </tr>\n",
              "    <tr>\n",
              "      <th>33516</th>\n",
              "      <td>656.06</td>\n",
              "      <td>5.220000e+03</td>\n",
              "      <td>3.424612e+06</td>\n",
              "      <td>2.397229e+06</td>\n",
              "      <td>3.628080e+06</td>\n",
              "      <td>2.220446e-16</td>\n",
              "      <td>2.220446e-16</td>\n",
              "      <td>2.220446e-16</td>\n",
              "      <td>2.220446e-16</td>\n",
              "      <td>2.220446e-16</td>\n",
              "    </tr>\n",
              "    <tr>\n",
              "      <th>33517</th>\n",
              "      <td>649.99</td>\n",
              "      <td>2.220446e-16</td>\n",
              "      <td>2.220446e-16</td>\n",
              "      <td>2.220446e-16</td>\n",
              "      <td>3.277814e+06</td>\n",
              "      <td>2.220446e-16</td>\n",
              "      <td>2.220446e-16</td>\n",
              "      <td>2.220446e-16</td>\n",
              "      <td>2.220446e-16</td>\n",
              "      <td>2.220446e-16</td>\n",
              "    </tr>\n",
              "  </tbody>\n",
              "</table>\n",
              "<p>33518 rows × 10 columns</p>\n",
              "</div>\n",
              "    <div class=\"colab-df-buttons\">\n",
              "\n",
              "  <div class=\"colab-df-container\">\n",
              "    <button class=\"colab-df-convert\" onclick=\"convertToInteractive('df-f72ef796-531e-4543-b16a-e8a72cad18d0')\"\n",
              "            title=\"Convert this dataframe to an interactive table.\"\n",
              "            style=\"display:none;\">\n",
              "\n",
              "  <svg xmlns=\"http://www.w3.org/2000/svg\" height=\"24px\" viewBox=\"0 -960 960 960\">\n",
              "    <path d=\"M120-120v-720h720v720H120Zm60-500h600v-160H180v160Zm220 220h160v-160H400v160Zm0 220h160v-160H400v160ZM180-400h160v-160H180v160Zm440 0h160v-160H620v160ZM180-180h160v-160H180v160Zm440 0h160v-160H620v160Z\"/>\n",
              "  </svg>\n",
              "    </button>\n",
              "\n",
              "  <style>\n",
              "    .colab-df-container {\n",
              "      display:flex;\n",
              "      gap: 12px;\n",
              "    }\n",
              "\n",
              "    .colab-df-convert {\n",
              "      background-color: #E8F0FE;\n",
              "      border: none;\n",
              "      border-radius: 50%;\n",
              "      cursor: pointer;\n",
              "      display: none;\n",
              "      fill: #1967D2;\n",
              "      height: 32px;\n",
              "      padding: 0 0 0 0;\n",
              "      width: 32px;\n",
              "    }\n",
              "\n",
              "    .colab-df-convert:hover {\n",
              "      background-color: #E2EBFA;\n",
              "      box-shadow: 0px 1px 2px rgba(60, 64, 67, 0.3), 0px 1px 3px 1px rgba(60, 64, 67, 0.15);\n",
              "      fill: #174EA6;\n",
              "    }\n",
              "\n",
              "    .colab-df-buttons div {\n",
              "      margin-bottom: 4px;\n",
              "    }\n",
              "\n",
              "    [theme=dark] .colab-df-convert {\n",
              "      background-color: #3B4455;\n",
              "      fill: #D2E3FC;\n",
              "    }\n",
              "\n",
              "    [theme=dark] .colab-df-convert:hover {\n",
              "      background-color: #434B5C;\n",
              "      box-shadow: 0px 1px 3px 1px rgba(0, 0, 0, 0.15);\n",
              "      filter: drop-shadow(0px 1px 2px rgba(0, 0, 0, 0.3));\n",
              "      fill: #FFFFFF;\n",
              "    }\n",
              "  </style>\n",
              "\n",
              "    <script>\n",
              "      const buttonEl =\n",
              "        document.querySelector('#df-f72ef796-531e-4543-b16a-e8a72cad18d0 button.colab-df-convert');\n",
              "      buttonEl.style.display =\n",
              "        google.colab.kernel.accessAllowed ? 'block' : 'none';\n",
              "\n",
              "      async function convertToInteractive(key) {\n",
              "        const element = document.querySelector('#df-f72ef796-531e-4543-b16a-e8a72cad18d0');\n",
              "        const dataTable =\n",
              "          await google.colab.kernel.invokeFunction('convertToInteractive',\n",
              "                                                    [key], {});\n",
              "        if (!dataTable) return;\n",
              "\n",
              "        const docLinkHtml = 'Like what you see? Visit the ' +\n",
              "          '<a target=\"_blank\" href=https://colab.research.google.com/notebooks/data_table.ipynb>data table notebook</a>'\n",
              "          + ' to learn more about interactive tables.';\n",
              "        element.innerHTML = '';\n",
              "        dataTable['output_type'] = 'display_data';\n",
              "        await google.colab.output.renderOutput(dataTable, element);\n",
              "        const docLink = document.createElement('div');\n",
              "        docLink.innerHTML = docLinkHtml;\n",
              "        element.appendChild(docLink);\n",
              "      }\n",
              "    </script>\n",
              "  </div>\n",
              "\n",
              "\n",
              "<div id=\"df-dc1d229f-d1db-4f01-9a45-a93f30da6038\">\n",
              "  <button class=\"colab-df-quickchart\" onclick=\"quickchart('df-dc1d229f-d1db-4f01-9a45-a93f30da6038')\"\n",
              "            title=\"Suggest charts\"\n",
              "            style=\"display:none;\">\n",
              "\n",
              "<svg xmlns=\"http://www.w3.org/2000/svg\" height=\"24px\"viewBox=\"0 0 24 24\"\n",
              "     width=\"24px\">\n",
              "    <g>\n",
              "        <path d=\"M19 3H5c-1.1 0-2 .9-2 2v14c0 1.1.9 2 2 2h14c1.1 0 2-.9 2-2V5c0-1.1-.9-2-2-2zM9 17H7v-7h2v7zm4 0h-2V7h2v10zm4 0h-2v-4h2v4z\"/>\n",
              "    </g>\n",
              "</svg>\n",
              "  </button>\n",
              "\n",
              "<style>\n",
              "  .colab-df-quickchart {\n",
              "      --bg-color: #E8F0FE;\n",
              "      --fill-color: #1967D2;\n",
              "      --hover-bg-color: #E2EBFA;\n",
              "      --hover-fill-color: #174EA6;\n",
              "      --disabled-fill-color: #AAA;\n",
              "      --disabled-bg-color: #DDD;\n",
              "  }\n",
              "\n",
              "  [theme=dark] .colab-df-quickchart {\n",
              "      --bg-color: #3B4455;\n",
              "      --fill-color: #D2E3FC;\n",
              "      --hover-bg-color: #434B5C;\n",
              "      --hover-fill-color: #FFFFFF;\n",
              "      --disabled-bg-color: #3B4455;\n",
              "      --disabled-fill-color: #666;\n",
              "  }\n",
              "\n",
              "  .colab-df-quickchart {\n",
              "    background-color: var(--bg-color);\n",
              "    border: none;\n",
              "    border-radius: 50%;\n",
              "    cursor: pointer;\n",
              "    display: none;\n",
              "    fill: var(--fill-color);\n",
              "    height: 32px;\n",
              "    padding: 0;\n",
              "    width: 32px;\n",
              "  }\n",
              "\n",
              "  .colab-df-quickchart:hover {\n",
              "    background-color: var(--hover-bg-color);\n",
              "    box-shadow: 0 1px 2px rgba(60, 64, 67, 0.3), 0 1px 3px 1px rgba(60, 64, 67, 0.15);\n",
              "    fill: var(--button-hover-fill-color);\n",
              "  }\n",
              "\n",
              "  .colab-df-quickchart-complete:disabled,\n",
              "  .colab-df-quickchart-complete:disabled:hover {\n",
              "    background-color: var(--disabled-bg-color);\n",
              "    fill: var(--disabled-fill-color);\n",
              "    box-shadow: none;\n",
              "  }\n",
              "\n",
              "  .colab-df-spinner {\n",
              "    border: 2px solid var(--fill-color);\n",
              "    border-color: transparent;\n",
              "    border-bottom-color: var(--fill-color);\n",
              "    animation:\n",
              "      spin 1s steps(1) infinite;\n",
              "  }\n",
              "\n",
              "  @keyframes spin {\n",
              "    0% {\n",
              "      border-color: transparent;\n",
              "      border-bottom-color: var(--fill-color);\n",
              "      border-left-color: var(--fill-color);\n",
              "    }\n",
              "    20% {\n",
              "      border-color: transparent;\n",
              "      border-left-color: var(--fill-color);\n",
              "      border-top-color: var(--fill-color);\n",
              "    }\n",
              "    30% {\n",
              "      border-color: transparent;\n",
              "      border-left-color: var(--fill-color);\n",
              "      border-top-color: var(--fill-color);\n",
              "      border-right-color: var(--fill-color);\n",
              "    }\n",
              "    40% {\n",
              "      border-color: transparent;\n",
              "      border-right-color: var(--fill-color);\n",
              "      border-top-color: var(--fill-color);\n",
              "    }\n",
              "    60% {\n",
              "      border-color: transparent;\n",
              "      border-right-color: var(--fill-color);\n",
              "    }\n",
              "    80% {\n",
              "      border-color: transparent;\n",
              "      border-right-color: var(--fill-color);\n",
              "      border-bottom-color: var(--fill-color);\n",
              "    }\n",
              "    90% {\n",
              "      border-color: transparent;\n",
              "      border-bottom-color: var(--fill-color);\n",
              "    }\n",
              "  }\n",
              "</style>\n",
              "\n",
              "  <script>\n",
              "    async function quickchart(key) {\n",
              "      const quickchartButtonEl =\n",
              "        document.querySelector('#' + key + ' button');\n",
              "      quickchartButtonEl.disabled = true;  // To prevent multiple clicks.\n",
              "      quickchartButtonEl.classList.add('colab-df-spinner');\n",
              "      try {\n",
              "        const charts = await google.colab.kernel.invokeFunction(\n",
              "            'suggestCharts', [key], {});\n",
              "      } catch (error) {\n",
              "        console.error('Error during call to suggestCharts:', error);\n",
              "      }\n",
              "      quickchartButtonEl.classList.remove('colab-df-spinner');\n",
              "      quickchartButtonEl.classList.add('colab-df-quickchart-complete');\n",
              "    }\n",
              "    (() => {\n",
              "      let quickchartButtonEl =\n",
              "        document.querySelector('#df-dc1d229f-d1db-4f01-9a45-a93f30da6038 button');\n",
              "      quickchartButtonEl.style.display =\n",
              "        google.colab.kernel.accessAllowed ? 'block' : 'none';\n",
              "    })();\n",
              "  </script>\n",
              "</div>\n",
              "\n",
              "  <div id=\"id_290130d2-9b4a-4bd5-820e-22a218beff7e\">\n",
              "    <style>\n",
              "      .colab-df-generate {\n",
              "        background-color: #E8F0FE;\n",
              "        border: none;\n",
              "        border-radius: 50%;\n",
              "        cursor: pointer;\n",
              "        display: none;\n",
              "        fill: #1967D2;\n",
              "        height: 32px;\n",
              "        padding: 0 0 0 0;\n",
              "        width: 32px;\n",
              "      }\n",
              "\n",
              "      .colab-df-generate:hover {\n",
              "        background-color: #E2EBFA;\n",
              "        box-shadow: 0px 1px 2px rgba(60, 64, 67, 0.3), 0px 1px 3px 1px rgba(60, 64, 67, 0.15);\n",
              "        fill: #174EA6;\n",
              "      }\n",
              "\n",
              "      [theme=dark] .colab-df-generate {\n",
              "        background-color: #3B4455;\n",
              "        fill: #D2E3FC;\n",
              "      }\n",
              "\n",
              "      [theme=dark] .colab-df-generate:hover {\n",
              "        background-color: #434B5C;\n",
              "        box-shadow: 0px 1px 3px 1px rgba(0, 0, 0, 0.15);\n",
              "        filter: drop-shadow(0px 1px 2px rgba(0, 0, 0, 0.3));\n",
              "        fill: #FFFFFF;\n",
              "      }\n",
              "    </style>\n",
              "    <button class=\"colab-df-generate\" onclick=\"generateWithVariable('df_factor_analysis')\"\n",
              "            title=\"Generate code using this dataframe.\"\n",
              "            style=\"display:none;\">\n",
              "\n",
              "  <svg xmlns=\"http://www.w3.org/2000/svg\" height=\"24px\"viewBox=\"0 0 24 24\"\n",
              "       width=\"24px\">\n",
              "    <path d=\"M7,19H8.4L18.45,9,17,7.55,7,17.6ZM5,21V16.75L18.45,3.32a2,2,0,0,1,2.83,0l1.4,1.43a1.91,1.91,0,0,1,.58,1.4,1.91,1.91,0,0,1-.58,1.4L9.25,21ZM18.45,9,17,7.55Zm-12,3A5.31,5.31,0,0,0,4.9,8.1,5.31,5.31,0,0,0,1,6.5,5.31,5.31,0,0,0,4.9,4.9,5.31,5.31,0,0,0,6.5,1,5.31,5.31,0,0,0,8.1,4.9,5.31,5.31,0,0,0,12,6.5,5.46,5.46,0,0,0,6.5,12Z\"/>\n",
              "  </svg>\n",
              "    </button>\n",
              "    <script>\n",
              "      (() => {\n",
              "      const buttonEl =\n",
              "        document.querySelector('#id_290130d2-9b4a-4bd5-820e-22a218beff7e button.colab-df-generate');\n",
              "      buttonEl.style.display =\n",
              "        google.colab.kernel.accessAllowed ? 'block' : 'none';\n",
              "\n",
              "      buttonEl.onclick = () => {\n",
              "        google.colab.notebook.generateWithVariable('df_factor_analysis');\n",
              "      }\n",
              "      })();\n",
              "    </script>\n",
              "  </div>\n",
              "\n",
              "    </div>\n",
              "  </div>\n"
            ],
            "application/vnd.google.colaboratory.intrinsic+json": {
              "type": "dataframe",
              "variable_name": "df_factor_analysis",
              "summary": "{\n  \"name\": \"df_factor_analysis\",\n  \"rows\": 33518,\n  \"fields\": [\n    {\n      \"column\": \"Average\",\n      \"properties\": {\n        \"dtype\": \"number\",\n        \"std\": 458.0202140671197,\n        \"min\": 2.220446049250313e-16,\n        \"max\": 3200.0,\n        \"num_unique_values\": 14087,\n        \"samples\": [\n          914.05,\n          623.72,\n          648.82\n        ],\n        \"semantic_type\": \"\",\n        \"description\": \"\"\n      }\n    },\n    {\n      \"column\": \"Stock\",\n      \"properties\": {\n        \"dtype\": \"number\",\n        \"std\": 36005.470289325815,\n        \"min\": 2.220446049250313e-16,\n        \"max\": 199357.0,\n        \"num_unique_values\": 13451,\n        \"samples\": [\n          27707.0,\n          46949.0,\n          16987.0\n        ],\n        \"semantic_type\": \"\",\n        \"description\": \"\"\n      }\n    },\n    {\n      \"column\": \"StockValue\",\n      \"properties\": {\n        \"dtype\": \"number\",\n        \"std\": 29266988.30780719,\n        \"min\": 2.220446049250313e-16,\n        \"max\": 252622402.5,\n        \"num_unique_values\": 15961,\n        \"samples\": [\n          13889075.84,\n          29412836.43,\n          20321951.43\n        ],\n        \"semantic_type\": \"\",\n        \"description\": \"\"\n      }\n    },\n    {\n      \"column\": \"70%StockValue\",\n      \"properties\": {\n        \"dtype\": \"number\",\n        \"std\": 20486891.81565115,\n        \"min\": 2.220446049250313e-16,\n        \"max\": 176835681.7,\n        \"num_unique_values\": 15961,\n        \"samples\": [\n          9722353.09,\n          20588985.5,\n          14225366.0\n        ],\n        \"semantic_type\": \"\",\n        \"description\": \"\"\n      }\n    },\n    {\n      \"column\": \"Proceeds\",\n      \"properties\": {\n        \"dtype\": \"number\",\n        \"std\": 9777487.398942856,\n        \"min\": 2.220446049250313e-16,\n        \"max\": 77163942.38,\n        \"num_unique_values\": 14977,\n        \"samples\": [\n          2205878.07,\n          7259812.76,\n          7145640.92\n        ],\n        \"semantic_type\": \"\",\n        \"description\": \"\"\n      }\n    },\n    {\n      \"column\": \"AdvanceBalance\",\n      \"properties\": {\n        \"dtype\": \"number\",\n        \"std\": 22991683.187808506,\n        \"min\": 2.220446049250313e-16,\n        \"max\": 298271959.7,\n        \"num_unique_values\": 5613,\n        \"samples\": [\n          11712325.35,\n          32174033.09,\n          38909213.24\n        ],\n        \"semantic_type\": \"\",\n        \"description\": \"\"\n      }\n    },\n    {\n      \"column\": \"IsOverAdvance\",\n      \"properties\": {\n        \"dtype\": \"number\",\n        \"std\": 0.3239813498844504,\n        \"min\": 2.220446049250313e-16,\n        \"max\": 1.0,\n        \"num_unique_values\": 2,\n        \"samples\": [\n          1.0,\n          2.220446049250313e-16\n        ],\n        \"semantic_type\": \"\",\n        \"description\": \"\"\n      }\n    },\n    {\n      \"column\": \"AdvanceInterest\",\n      \"properties\": {\n        \"dtype\": \"number\",\n        \"std\": 15469.820096468166,\n        \"min\": 2.220446049250313e-16,\n        \"max\": 245155.03,\n        \"num_unique_values\": 5703,\n        \"samples\": [\n          184.92,\n          2043.97\n        ],\n        \"semantic_type\": \"\",\n        \"description\": \"\"\n      }\n    },\n    {\n      \"column\": \"OverAdvanceInterest\",\n      \"properties\": {\n        \"dtype\": \"number\",\n        \"std\": 1632.386755321912,\n        \"min\": 2.220446049250313e-16,\n        \"max\": 30591.98,\n        \"num_unique_values\": 3712,\n        \"samples\": [\n          7823.78,\n          3857.26\n        ],\n        \"semantic_type\": \"\",\n        \"description\": \"\"\n      }\n    },\n    {\n      \"column\": \"OverAdvanceAmount\",\n      \"properties\": {\n        \"dtype\": \"number\",\n        \"std\": 11952654.692981862,\n        \"min\": 2.220446049250313e-16,\n        \"max\": 223321483.8,\n        \"num_unique_values\": 3724,\n        \"samples\": [\n          36507534.58,\n          675906.57\n        ],\n        \"semantic_type\": \"\",\n        \"description\": \"\"\n      }\n    }\n  ]\n}"
            }
          },
          "metadata": {},
          "execution_count": 34
        }
      ]
    },
    {
      "cell_type": "code",
      "source": [
        "from pandas import Series"
      ],
      "metadata": {
        "id": "4zDyj4mG7Qbl"
      },
      "execution_count": 35,
      "outputs": []
    },
    {
      "cell_type": "markdown",
      "source": [
        "Uniquness of the Factors"
      ],
      "metadata": {
        "id": "TqzwgSLAZ-cP"
      }
    },
    {
      "cell_type": "code",
      "source": [
        "fa = FactorAnalysis(n_components = 2, rotation=\"varimax\")\n",
        "fa.fit(df_factor_analysis_standardized)\n",
        "uniqueness = Series(fa.noise_variance_, index=df_factor_analysis.columns)\n",
        "uniqueness.plot(\n",
        "    kind=\"bar\",\n",
        "    ylabel=\"Uniqueness\"\n",
        ")\n",
        "plt.title(\"Uniqueness of Factors\", fontsize=12)\n",
        "plt.show()"
      ],
      "metadata": {
        "colab": {
          "base_uri": "https://localhost:8080/",
          "height": 586
        },
        "id": "-n7A4eTbod7t",
        "outputId": "07b0c901-f4a2-4fef-820e-892d113bf3aa"
      },
      "execution_count": 36,
      "outputs": [
        {
          "output_type": "display_data",
          "data": {
            "text/plain": [
              "<Figure size 640x480 with 1 Axes>"
            ],
            "image/png": "[encoded data removed]"
          },
          "metadata": {}
        }
      ]
    },
    {
      "cell_type": "markdown",
      "source": [
        "The uniqueness, which ranges from 0 to 1. It is, sometimes also referred to as (white) noise, corresponds to the proportion of variability that can not be explained by a linear combination of the factors.  A high uniqueness for a variable indicates that the factors do not account well for its variance."
      ],
      "metadata": {
        "id": "INxlFDvf7h6o"
      }
    },
    {
      "cell_type": "code",
      "source": [],
      "metadata": {
        "id": "SmdYqP6gqVl8"
      },
      "execution_count": null,
      "outputs": []
    },
    {
      "cell_type": "markdown",
      "source": [
        "Communality"
      ],
      "metadata": {
        "id": "LeU_uyL7aE04"
      }
    },
    {
      "cell_type": "code",
      "source": [
        "# Communality\n",
        "communality = Series(np.square(fa.components_.T).sum(axis=1), index=df_factor_analysis.columns)\n",
        "communality.plot(\n",
        "    kind=\"bar\",\n",
        "    ylabel=\"communality\"\n",
        ")"
      ],
      "metadata": {
        "colab": {
          "base_uri": "https://localhost:8080/",
          "height": 581
        },
        "id": "te8FYV4jodws",
        "outputId": "8192da4a-49fb-434d-cd36-8e7a4381c42a"
      },
      "execution_count": 37,
      "outputs": [
        {
          "output_type": "execute_result",
          "data": {
            "text/plain": [
              "<Axes: ylabel='communality'>"
            ]
          },
          "metadata": {},
          "execution_count": 37
        },
        {
          "output_type": "display_data",
          "data": {
            "text/plain": [
              "<Figure size 640x480 with 1 Axes>"
            ],
            "image/png": "[encoded data removed]"
          },
          "metadata": {}
        }
      ]
    },
    {
      "cell_type": "markdown",
      "source": [
        "By squaring the loading we can compute the fraction of the variable’s total variance explained by the factors (Teetor 2011{target=\"_blank\"}). This proportion of the variability is denoted as communality."
      ],
      "metadata": {
        "id": "7A6ljfU_8B00"
      }
    },
    {
      "cell_type": "markdown",
      "source": [
        "A way way to calculate the the uniqueness, when you already computed the communlity is to subtract it from 1. An appropriate factor model results in low values for uniqueness and high values for communality. So if we see bad results for our model, we could try a different number of underlying factors (latent variables)."
      ],
      "metadata": {
        "id": "ibdsddOj9cNw"
      }
    },
    {
      "cell_type": "code",
      "source": [],
      "metadata": {
        "id": "7bhUkeh79Yxq"
      },
      "execution_count": null,
      "outputs": []
    },
    {
      "cell_type": "markdown",
      "source": [
        "Residual Matrix for Factor Analysis"
      ],
      "metadata": {
        "id": "dXpuVwM0aPbr"
      }
    },
    {
      "cell_type": "code",
      "source": [
        "# the word 'lambda' is reserved for a python-operator, so we use the underscore at the end\n",
        "lambda_ = fa.components_\n",
        "psi = np.diag(uniqueness)\n",
        "s = np.corrcoef(np.transpose(X))\n",
        "sigma = np.matmul(lambda_.T, lambda_) + psi\n",
        "residuals = (s - sigma)"
      ],
      "metadata": {
        "id": "aDl1X-fe9Z9h"
      },
      "execution_count": 38,
      "outputs": []
    },
    {
      "cell_type": "code",
      "source": [
        "import matplotlib.pyplot as plt\n",
        "\n",
        "# Initialize the plot axes\n",
        "fig, ax = plt.subplots()\n",
        "\n",
        "# Plot the heatmap\n",
        "im = ax.imshow(residuals, cmap=\"RdBu_r\", vmin=-1, vmax=1)\n",
        "\n",
        "# Adjust tick parameters for x-axis\n",
        "ax.tick_params(axis=\"x\", bottom=False, labelbottom=False, top=True, labeltop=True, rotation=90)\n",
        "\n",
        "# Set tick positions and labels for x-axis\n",
        "ax.set_xticks(range(10))\n",
        "ax.set_xticklabels(df_factor_analysis.columns, fontsize=10)\n",
        "\n",
        "# Set tick positions and labels for y-axis\n",
        "ax.set_yticks(range(10))\n",
        "ax.set_yticklabels(df_factor_analysis.columns)\n",
        "\n",
        "# Add text annotations to each cell of the heatmap\n",
        "for (i, j), z in np.ndenumerate(residuals):\n",
        "    ax.text(j, i, str(z.round(3)), ha=\"center\", va=\"center\")\n",
        "\n",
        "# Add colorbar\n",
        "fig.colorbar(im, ax=ax, location='right')\n",
        "\n",
        "ax.set_title(\"FA Residual Matrix\")\n",
        "\n",
        "plt.tight_layout()\n",
        "\n",
        "plt.gcf().set_size_inches(10, 10)\n",
        "ax.set_title(\"FA residual matrix\")\n",
        "plt.show()\n"
      ],
      "metadata": {
        "colab": {
          "base_uri": "https://localhost:8080/",
          "height": 770
        },
        "id": "9pjxYP7sS48C",
        "outputId": "0ceba986-fbce-4ba5-a49b-da86200ade16"
      },
      "execution_count": 39,
      "outputs": [
        {
          "output_type": "display_data",
          "data": {
            "text/plain": [
              "<Figure size 1000x1000 with 2 Axes>"
            ],
            "image/png": "[encoded data removed]"
          },
          "metadata": {}
        }
      ]
    },
    {
      "cell_type": "code",
      "source": [],
      "metadata": {
        "id": "FkwgO9Y5S4XI"
      },
      "execution_count": null,
      "outputs": []
    },
    {
      "cell_type": "code",
      "source": [
        "methods = [\n",
        "    (\"FA No rotation\", FactorAnalysis(2,)),\n",
        "    (\"FA Varimax\", FactorAnalysis(2, rotation=\"varimax\")),\n",
        "    (\"FA Quartimax\", FactorAnalysis(2, rotation=\"quartimax\")),\n",
        "]\n",
        "fig, axes = plt.subplots(ncols=3, figsize=(10, 8), sharex=True, sharey=True)\n",
        "\n",
        "for ax, (method, fa) in zip(axes, methods):\n",
        "    fa = fa.fit(X)\n",
        "\n",
        "    components = fa.components_\n",
        "\n",
        "    vmax = np.abs(components).max()\n",
        "    ax.scatter(components[0,:], components[1, :])\n",
        "    ax.axhline(0, -1, 1, color='k')\n",
        "    ax.axvline(0, -1, 1, color='k')\n",
        "    for i,j, z in zip(components[0, :], components[1, :], df_factor_analysis.columns):\n",
        "        ax.text(i+.02, j+.02, str(z), ha=\"center\")\n",
        "    ax.set_title(str(method))\n",
        "    if ax.get_subplotspec().is_first_col():\n",
        "        ax.set_ylabel(\"Factor 1\")\n",
        "    ax.set_xlabel(\"Factor 2\")\n",
        "\n",
        "plt.tight_layout()\n",
        "plt.show()"
      ],
      "metadata": {
        "colab": {
          "base_uri": "https://localhost:8080/",
          "height": 807
        },
        "id": "uyQyPFQV_dMJ",
        "outputId": "5f5dab88-06b9-48db-e5d2-e8cfefe05509"
      },
      "execution_count": 40,
      "outputs": [
        {
          "output_type": "display_data",
          "data": {
            "text/plain": [
              "<Figure size 1000x800 with 3 Axes>"
            ],
            "image/png": "[encoded data removed]"
          },
          "metadata": {}
        }
      ]
    },
    {
      "cell_type": "markdown",
      "source": [
        "If two variables have loadings further away from 0 for the same factor, we know they are related\n"
      ],
      "metadata": {
        "id": "pHRFY1OEAVTS"
      }
    },
    {
      "cell_type": "code",
      "source": [],
      "metadata": {
        "id": "3WCLn31p_coI"
      },
      "execution_count": null,
      "outputs": []
    },
    {
      "cell_type": "markdown",
      "source": [
        "Get factor loadings"
      ],
      "metadata": {
        "id": "23H6to-mD26w"
      }
    },
    {
      "cell_type": "code",
      "source": [
        "# # Identify Variables for Each Factor\n",
        "# variables_per_factor = {}\n",
        "\n",
        "# # Iterate through each factor\n",
        "# for factor_index in range(n_factors_auto):\n",
        "#     # Get loadings for the current factor\n",
        "#     loadings = factor_loadings[:, factor_index]\n",
        "\n",
        "#     # Create a boolean index based on the condition\n",
        "#     bool_index = abs(loadings) > loading_threshold\n",
        "\n",
        "#     # Ensure the boolean index has the correct length\n",
        "#     bool_index = np.append(bool_index, False)\n",
        "\n",
        "#     # Get column names that satisfy the condition\n",
        "#     significant_loadings = df_factor_analysis.columns[bool_index]\n",
        "\n",
        "#     # Store the result in the dictionary\n",
        "#     variables_per_factor[f'Factor {factor_index + 1}'] = significant_loadings\n",
        "\n",
        "# # Print the results\n",
        "# print(\"\\nVariable Assignment (After Factor Analysis):\")\n",
        "# for factor, variables in variables_per_factor.items():\n",
        "#     print(f\"{factor}: {', '.join(variables)}\")\n"
      ],
      "metadata": {
        "id": "0oxvd650IpVO"
      },
      "execution_count": null,
      "outputs": []
    },
    {
      "cell_type": "markdown",
      "source": [
        "When variables load onto more than one factor, it suggests that these variables are influenced by multiple underlying latent factors. This is known as cross-loading."
      ],
      "metadata": {
        "id": "PkHRwqqRhoZa"
      }
    },
    {
      "cell_type": "code",
      "source": [],
      "metadata": {
        "id": "qlDv8pjrILTW"
      },
      "execution_count": null,
      "outputs": []
    },
    {
      "cell_type": "markdown",
      "source": [
        "To create a single variable using the factors obtained from factor analysis, you can use factor scores. Factor scores represent the contribution of each observation to each factor."
      ],
      "metadata": {
        "id": "VGY_5D4_GjmA"
      }
    },
    {
      "cell_type": "markdown",
      "source": [
        "Use FactorAnalyzer to Extract Factor Scores:"
      ],
      "metadata": {
        "id": "pTNkQxjpJRz3"
      }
    },
    {
      "cell_type": "code",
      "source": [
        "from factor_analyzer import FactorAnalyzer\n",
        "factor_scores = fa.transform(df_factor_analysis_standardized)\n",
        "factor_scores"
      ],
      "metadata": {
        "id": "gW6M86d6nvXL"
      },
      "execution_count": null,
      "outputs": []
    },
    {
      "cell_type": "code",
      "source": [
        "factor_scores"
      ],
      "metadata": {
        "colab": {
          "base_uri": "https://localhost:8080/"
        },
        "id": "72KiGrMznvjo",
        "outputId": "c3dbb12f-3d03-45d3-f38f-2da81761e120"
      },
      "execution_count": 42,
      "outputs": [
        {
          "output_type": "execute_result",
          "data": {
            "text/plain": [
              "array([[-0.6719377 , -0.22242583],\n",
              "       [-0.606477  , -0.22219017],\n",
              "       [-0.62443045, -0.22223362],\n",
              "       ...,\n",
              "       [-0.65127767, -0.22233321],\n",
              "       [-0.85584041, -0.22307795],\n",
              "       [-0.9731567 , -0.22350121]])"
            ]
          },
          "metadata": {},
          "execution_count": 42
        }
      ]
    },
    {
      "cell_type": "code",
      "source": [],
      "metadata": {
        "id": "EWwZbEdbnvmQ"
      },
      "execution_count": null,
      "outputs": []
    },
    {
      "cell_type": "markdown",
      "source": [
        "Combine Factor Scores into a Single Variable:"
      ],
      "metadata": {
        "id": "jG4jkH8PJWzM"
      }
    },
    {
      "cell_type": "code",
      "source": [
        "# Assuming you have 3 factors, adjust accordingly\n",
        "df['Composite_Variable'] = factor_scores[:, 0] + factor_scores[:, 1] + factor_scores[:, 2]\n"
      ],
      "metadata": {
        "id": "RCe4np5MnvpM",
        "colab": {
          "base_uri": "https://localhost:8080/",
          "height": 158
        },
        "outputId": "2a458bdb-aa63-44b6-8418-85c6af69b1f2"
      },
      "execution_count": 43,
      "outputs": [
        {
          "output_type": "error",
          "ename": "IndexError",
          "evalue": "index 2 is out of bounds for axis 1 with size 2",
          "traceback": [
            "\u001b[0;31m---------------------------------------------------------------------------\u001b[0m",
            "\u001b[0;31mIndexError\u001b[0m                                Traceback (most recent call last)",
            "\u001b[0;32m<ipython-input-43-aa2ec9e6c7f2>\u001b[0m in \u001b[0;36m<cell line: 2>\u001b[0;34m()\u001b[0m\n\u001b[1;32m      1\u001b[0m \u001b[0;31m# Assuming you have 3 factors, adjust accordingly\u001b[0m\u001b[0;34m\u001b[0m\u001b[0;34m\u001b[0m\u001b[0m\n\u001b[0;32m----> 2\u001b[0;31m \u001b[0mdf\u001b[0m\u001b[0;34m[\u001b[0m\u001b[0;34m'Composite_Variable'\u001b[0m\u001b[0;34m]\u001b[0m \u001b[0;34m=\u001b[0m \u001b[0mfactor_scores\u001b[0m\u001b[0;34m[\u001b[0m\u001b[0;34m:\u001b[0m\u001b[0;34m,\u001b[0m \u001b[0;36m0\u001b[0m\u001b[0;34m]\u001b[0m \u001b[0;34m+\u001b[0m \u001b[0mfactor_scores\u001b[0m\u001b[0;34m[\u001b[0m\u001b[0;34m:\u001b[0m\u001b[0;34m,\u001b[0m \u001b[0;36m1\u001b[0m\u001b[0;34m]\u001b[0m \u001b[0;34m+\u001b[0m \u001b[0mfactor_scores\u001b[0m\u001b[0;34m[\u001b[0m\u001b[0;34m:\u001b[0m\u001b[0;34m,\u001b[0m \u001b[0;36m2\u001b[0m\u001b[0;34m]\u001b[0m\u001b[0;34m\u001b[0m\u001b[0;34m\u001b[0m\u001b[0m\n\u001b[0m",
            "\u001b[0;31mIndexError\u001b[0m: index 2 is out of bounds for axis 1 with size 2"
          ]
        }
      ]
    },
    {
      "cell_type": "code",
      "source": [],
      "metadata": {
        "id": "TX9iY_Munvsl"
      },
      "execution_count": null,
      "outputs": []
    },
    {
      "cell_type": "markdown",
      "source": [
        "Combine Factor Scores into a Single Variable using Sigmoid Function:"
      ],
      "metadata": {
        "id": "nX5QKyMmLPal"
      }
    },
    {
      "cell_type": "code",
      "source": [
        "import numpy as np\n",
        "\n",
        "composite_variable = np.sum(factor_scores, axis=1)\n",
        "df['Composite_Variable_Sigmoid'] = 1 / (1 + np.exp(-composite_variable))\n"
      ],
      "metadata": {
        "id": "pYuLfJ5dJNcD"
      },
      "execution_count": 44,
      "outputs": []
    },
    {
      "cell_type": "code",
      "source": [
        "composite_variable = np.sum(factor_scores, axis=1)\n",
        "df['Composite_Variable_Sigmoid'] = 1 / (1 + np.exp(-composite_variable))"
      ],
      "metadata": {
        "id": "WgN5yi8HwUTL"
      },
      "execution_count": 45,
      "outputs": []
    },
    {
      "cell_type": "code",
      "source": [
        "df.head()"
      ],
      "metadata": {
        "colab": {
          "base_uri": "https://localhost:8080/",
          "height": 313
        },
        "id": "CZx8tV4VJNfQ",
        "outputId": "c1273b4c-6e5e-466f-ca8a-48d9f7eee16b"
      },
      "execution_count": 46,
      "outputs": [
        {
          "output_type": "execute_result",
          "data": {
            "text/plain": [
              "    TCode  Average    Stock   StockValue  70%StockValue    Proceeds  \\\n",
              "0  BF0111   405.56  21681.0   8792943.00     6155060.10  1024871.67   \n",
              "1  BF0111   431.21  24823.0  10703823.61     7492676.53  1845832.24   \n",
              "2  BF0111   453.22  22461.0  10179786.44     7125850.51  3240724.52   \n",
              "3  BF0111   433.62  20386.0   8839714.59     6187800.21  1272360.23   \n",
              "4  BF0111   422.17  14782.0   6240460.96     4368322.67  3263006.68   \n",
              "\n",
              "   AdvanceBalance  IsOverAdvance  AdvanceInterest  OverAdvanceInterest  \\\n",
              "0            0.00              0             0.00                  0.0   \n",
              "1            0.00              0             0.00                  0.0   \n",
              "2       547607.19              0           285.06                  0.0   \n",
              "3            0.00              0             0.00                  0.0   \n",
              "4            0.00              0             0.00                  0.0   \n",
              "\n",
              "   OverAdvanceAmount TransferDate               FactoryName Elevation  \\\n",
              "0                0.0   2019-01-03  Pilimatalawa Tea Factory       Low   \n",
              "1                0.0   2019-01-10  Pilimatalawa Tea Factory       Low   \n",
              "2                0.0   2019-01-17  Pilimatalawa Tea Factory       Low   \n",
              "3                0.0   2019-01-24  Pilimatalawa Tea Factory       Low   \n",
              "4                0.0   2019-01-31  Pilimatalawa Tea Factory       Low   \n",
              "\n",
              "   Composite_Variable_Sigmoid  \n",
              "0                    0.290210  \n",
              "1                    0.303927  \n",
              "2                    0.300133  \n",
              "3                    0.290542  \n",
              "4                    0.272471  "
            ],
            "text/html": [
              "\n",
              "  <div id=\"df-ff80ff8e-8f43-4655-84c4-5ad510007fe8\" class=\"colab-df-container\">\n",
              "    <div>\n",
              "<style scoped>\n",
              "    .dataframe tbody tr th:only-of-type {\n",
              "        vertical-align: middle;\n",
              "    }\n",
              "\n",
              "    .dataframe tbody tr th {\n",
              "        vertical-align: top;\n",
              "    }\n",
              "\n",
              "    .dataframe thead th {\n",
              "        text-align: right;\n",
              "    }\n",
              "</style>\n",
              "<table border=\"1\" class=\"dataframe\">\n",
              "  <thead>\n",
              "    <tr style=\"text-align: right;\">\n",
              "      <th></th>\n",
              "      <th>TCode</th>\n",
              "      <th>Average</th>\n",
              "      <th>Stock</th>\n",
              "      <th>StockValue</th>\n",
              "      <th>70%StockValue</th>\n",
              "      <th>Proceeds</th>\n",
              "      <th>AdvanceBalance</th>\n",
              "      <th>IsOverAdvance</th>\n",
              "      <th>AdvanceInterest</th>\n",
              "      <th>OverAdvanceInterest</th>\n",
              "      <th>OverAdvanceAmount</th>\n",
              "      <th>TransferDate</th>\n",
              "      <th>FactoryName</th>\n",
              "      <th>Elevation</th>\n",
              "      <th>Composite_Variable_Sigmoid</th>\n",
              "    </tr>\n",
              "  </thead>\n",
              "  <tbody>\n",
              "    <tr>\n",
              "      <th>0</th>\n",
              "      <td>BF0111</td>\n",
              "      <td>405.56</td>\n",
              "      <td>21681.0</td>\n",
              "      <td>8792943.00</td>\n",
              "      <td>6155060.10</td>\n",
              "      <td>1024871.67</td>\n",
              "      <td>0.00</td>\n",
              "      <td>0</td>\n",
              "      <td>0.00</td>\n",
              "      <td>0.0</td>\n",
              "      <td>0.0</td>\n",
              "      <td>2019-01-03</td>\n",
              "      <td>Pilimatalawa Tea Factory</td>\n",
              "      <td>Low</td>\n",
              "      <td>0.290210</td>\n",
              "    </tr>\n",
              "    <tr>\n",
              "      <th>1</th>\n",
              "      <td>BF0111</td>\n",
              "      <td>431.21</td>\n",
              "      <td>24823.0</td>\n",
              "      <td>10703823.61</td>\n",
              "      <td>7492676.53</td>\n",
              "      <td>1845832.24</td>\n",
              "      <td>0.00</td>\n",
              "      <td>0</td>\n",
              "      <td>0.00</td>\n",
              "      <td>0.0</td>\n",
              "      <td>0.0</td>\n",
              "      <td>2019-01-10</td>\n",
              "      <td>Pilimatalawa Tea Factory</td>\n",
              "      <td>Low</td>\n",
              "      <td>0.303927</td>\n",
              "    </tr>\n",
              "    <tr>\n",
              "      <th>2</th>\n",
              "      <td>BF0111</td>\n",
              "      <td>453.22</td>\n",
              "      <td>22461.0</td>\n",
              "      <td>10179786.44</td>\n",
              "      <td>7125850.51</td>\n",
              "      <td>3240724.52</td>\n",
              "      <td>547607.19</td>\n",
              "      <td>0</td>\n",
              "      <td>285.06</td>\n",
              "      <td>0.0</td>\n",
              "      <td>0.0</td>\n",
              "      <td>2019-01-17</td>\n",
              "      <td>Pilimatalawa Tea Factory</td>\n",
              "      <td>Low</td>\n",
              "      <td>0.300133</td>\n",
              "    </tr>\n",
              "    <tr>\n",
              "      <th>3</th>\n",
              "      <td>BF0111</td>\n",
              "      <td>433.62</td>\n",
              "      <td>20386.0</td>\n",
              "      <td>8839714.59</td>\n",
              "      <td>6187800.21</td>\n",
              "      <td>1272360.23</td>\n",
              "      <td>0.00</td>\n",
              "      <td>0</td>\n",
              "      <td>0.00</td>\n",
              "      <td>0.0</td>\n",
              "      <td>0.0</td>\n",
              "      <td>2019-01-24</td>\n",
              "      <td>Pilimatalawa Tea Factory</td>\n",
              "      <td>Low</td>\n",
              "      <td>0.290542</td>\n",
              "    </tr>\n",
              "    <tr>\n",
              "      <th>4</th>\n",
              "      <td>BF0111</td>\n",
              "      <td>422.17</td>\n",
              "      <td>14782.0</td>\n",
              "      <td>6240460.96</td>\n",
              "      <td>4368322.67</td>\n",
              "      <td>3263006.68</td>\n",
              "      <td>0.00</td>\n",
              "      <td>0</td>\n",
              "      <td>0.00</td>\n",
              "      <td>0.0</td>\n",
              "      <td>0.0</td>\n",
              "      <td>2019-01-31</td>\n",
              "      <td>Pilimatalawa Tea Factory</td>\n",
              "      <td>Low</td>\n",
              "      <td>0.272471</td>\n",
              "    </tr>\n",
              "  </tbody>\n",
              "</table>\n",
              "</div>\n",
              "    <div class=\"colab-df-buttons\">\n",
              "\n",
              "  <div class=\"colab-df-container\">\n",
              "    <button class=\"colab-df-convert\" onclick=\"convertToInteractive('df-ff80ff8e-8f43-4655-84c4-5ad510007fe8')\"\n",
              "            title=\"Convert this dataframe to an interactive table.\"\n",
              "            style=\"display:none;\">\n",
              "\n",
              "  <svg xmlns=\"http://www.w3.org/2000/svg\" height=\"24px\" viewBox=\"0 -960 960 960\">\n",
              "    <path d=\"M120-120v-720h720v720H120Zm60-500h600v-160H180v160Zm220 220h160v-160H400v160Zm0 220h160v-160H400v160ZM180-400h160v-160H180v160Zm440 0h160v-160H620v160ZM180-180h160v-160H180v160Zm440 0h160v-160H620v160Z\"/>\n",
              "  </svg>\n",
              "    </button>\n",
              "\n",
              "  <style>\n",
              "    .colab-df-container {\n",
              "      display:flex;\n",
              "      gap: 12px;\n",
              "    }\n",
              "\n",
              "    .colab-df-convert {\n",
              "      background-color: #E8F0FE;\n",
              "      border: none;\n",
              "      border-radius: 50%;\n",
              "      cursor: pointer;\n",
              "      display: none;\n",
              "      fill: #1967D2;\n",
              "      height: 32px;\n",
              "      padding: 0 0 0 0;\n",
              "      width: 32px;\n",
              "    }\n",
              "\n",
              "    .colab-df-convert:hover {\n",
              "      background-color: #E2EBFA;\n",
              "      box-shadow: 0px 1px 2px rgba(60, 64, 67, 0.3), 0px 1px 3px 1px rgba(60, 64, 67, 0.15);\n",
              "      fill: #174EA6;\n",
              "    }\n",
              "\n",
              "    .colab-df-buttons div {\n",
              "      margin-bottom: 4px;\n",
              "    }\n",
              "\n",
              "    [theme=dark] .colab-df-convert {\n",
              "      background-color: #3B4455;\n",
              "      fill: #D2E3FC;\n",
              "    }\n",
              "\n",
              "    [theme=dark] .colab-df-convert:hover {\n",
              "      background-color: #434B5C;\n",
              "      box-shadow: 0px 1px 3px 1px rgba(0, 0, 0, 0.15);\n",
              "      filter: drop-shadow(0px 1px 2px rgba(0, 0, 0, 0.3));\n",
              "      fill: #FFFFFF;\n",
              "    }\n",
              "  </style>\n",
              "\n",
              "    <script>\n",
              "      const buttonEl =\n",
              "        document.querySelector('#df-ff80ff8e-8f43-4655-84c4-5ad510007fe8 button.colab-df-convert');\n",
              "      buttonEl.style.display =\n",
              "        google.colab.kernel.accessAllowed ? 'block' : 'none';\n",
              "\n",
              "      async function convertToInteractive(key) {\n",
              "        const element = document.querySelector('#df-ff80ff8e-8f43-4655-84c4-5ad510007fe8');\n",
              "        const dataTable =\n",
              "          await google.colab.kernel.invokeFunction('convertToInteractive',\n",
              "                                                    [key], {});\n",
              "        if (!dataTable) return;\n",
              "\n",
              "        const docLinkHtml = 'Like what you see? Visit the ' +\n",
              "          '<a target=\"_blank\" href=https://colab.research.google.com/notebooks/data_table.ipynb>data table notebook</a>'\n",
              "          + ' to learn more about interactive tables.';\n",
              "        element.innerHTML = '';\n",
              "        dataTable['output_type'] = 'display_data';\n",
              "        await google.colab.output.renderOutput(dataTable, element);\n",
              "        const docLink = document.createElement('div');\n",
              "        docLink.innerHTML = docLinkHtml;\n",
              "        element.appendChild(docLink);\n",
              "      }\n",
              "    </script>\n",
              "  </div>\n",
              "\n",
              "\n",
              "<div id=\"df-4ccc5be2-48dc-4fb4-8aee-616bfa424a11\">\n",
              "  <button class=\"colab-df-quickchart\" onclick=\"quickchart('df-4ccc5be2-48dc-4fb4-8aee-616bfa424a11')\"\n",
              "            title=\"Suggest charts\"\n",
              "            style=\"display:none;\">\n",
              "\n",
              "<svg xmlns=\"http://www.w3.org/2000/svg\" height=\"24px\"viewBox=\"0 0 24 24\"\n",
              "     width=\"24px\">\n",
              "    <g>\n",
              "        <path d=\"M19 3H5c-1.1 0-2 .9-2 2v14c0 1.1.9 2 2 2h14c1.1 0 2-.9 2-2V5c0-1.1-.9-2-2-2zM9 17H7v-7h2v7zm4 0h-2V7h2v10zm4 0h-2v-4h2v4z\"/>\n",
              "    </g>\n",
              "</svg>\n",
              "  </button>\n",
              "\n",
              "<style>\n",
              "  .colab-df-quickchart {\n",
              "      --bg-color: #E8F0FE;\n",
              "      --fill-color: #1967D2;\n",
              "      --hover-bg-color: #E2EBFA;\n",
              "      --hover-fill-color: #174EA6;\n",
              "      --disabled-fill-color: #AAA;\n",
              "      --disabled-bg-color: #DDD;\n",
              "  }\n",
              "\n",
              "  [theme=dark] .colab-df-quickchart {\n",
              "      --bg-color: #3B4455;\n",
              "      --fill-color: #D2E3FC;\n",
              "      --hover-bg-color: #434B5C;\n",
              "      --hover-fill-color: #FFFFFF;\n",
              "      --disabled-bg-color: #3B4455;\n",
              "      --disabled-fill-color: #666;\n",
              "  }\n",
              "\n",
              "  .colab-df-quickchart {\n",
              "    background-color: var(--bg-color);\n",
              "    border: none;\n",
              "    border-radius: 50%;\n",
              "    cursor: pointer;\n",
              "    display: none;\n",
              "    fill: var(--fill-color);\n",
              "    height: 32px;\n",
              "    padding: 0;\n",
              "    width: 32px;\n",
              "  }\n",
              "\n",
              "  .colab-df-quickchart:hover {\n",
              "    background-color: var(--hover-bg-color);\n",
              "    box-shadow: 0 1px 2px rgba(60, 64, 67, 0.3), 0 1px 3px 1px rgba(60, 64, 67, 0.15);\n",
              "    fill: var(--button-hover-fill-color);\n",
              "  }\n",
              "\n",
              "  .colab-df-quickchart-complete:disabled,\n",
              "  .colab-df-quickchart-complete:disabled:hover {\n",
              "    background-color: var(--disabled-bg-color);\n",
              "    fill: var(--disabled-fill-color);\n",
              "    box-shadow: none;\n",
              "  }\n",
              "\n",
              "  .colab-df-spinner {\n",
              "    border: 2px solid var(--fill-color);\n",
              "    border-color: transparent;\n",
              "    border-bottom-color: var(--fill-color);\n",
              "    animation:\n",
              "      spin 1s steps(1) infinite;\n",
              "  }\n",
              "\n",
              "  @keyframes spin {\n",
              "    0% {\n",
              "      border-color: transparent;\n",
              "      border-bottom-color: var(--fill-color);\n",
              "      border-left-color: var(--fill-color);\n",
              "    }\n",
              "    20% {\n",
              "      border-color: transparent;\n",
              "      border-left-color: var(--fill-color);\n",
              "      border-top-color: var(--fill-color);\n",
              "    }\n",
              "    30% {\n",
              "      border-color: transparent;\n",
              "      border-left-color: var(--fill-color);\n",
              "      border-top-color: var(--fill-color);\n",
              "      border-right-color: var(--fill-color);\n",
              "    }\n",
              "    40% {\n",
              "      border-color: transparent;\n",
              "      border-right-color: var(--fill-color);\n",
              "      border-top-color: var(--fill-color);\n",
              "    }\n",
              "    60% {\n",
              "      border-color: transparent;\n",
              "      border-right-color: var(--fill-color);\n",
              "    }\n",
              "    80% {\n",
              "      border-color: transparent;\n",
              "      border-right-color: var(--fill-color);\n",
              "      border-bottom-color: var(--fill-color);\n",
              "    }\n",
              "    90% {\n",
              "      border-color: transparent;\n",
              "      border-bottom-color: var(--fill-color);\n",
              "    }\n",
              "  }\n",
              "</style>\n",
              "\n",
              "  <script>\n",
              "    async function quickchart(key) {\n",
              "      const quickchartButtonEl =\n",
              "        document.querySelector('#' + key + ' button');\n",
              "      quickchartButtonEl.disabled = true;  // To prevent multiple clicks.\n",
              "      quickchartButtonEl.classList.add('colab-df-spinner');\n",
              "      try {\n",
              "        const charts = await google.colab.kernel.invokeFunction(\n",
              "            'suggestCharts', [key], {});\n",
              "      } catch (error) {\n",
              "        console.error('Error during call to suggestCharts:', error);\n",
              "      }\n",
              "      quickchartButtonEl.classList.remove('colab-df-spinner');\n",
              "      quickchartButtonEl.classList.add('colab-df-quickchart-complete');\n",
              "    }\n",
              "    (() => {\n",
              "      let quickchartButtonEl =\n",
              "        document.querySelector('#df-4ccc5be2-48dc-4fb4-8aee-616bfa424a11 button');\n",
              "      quickchartButtonEl.style.display =\n",
              "        google.colab.kernel.accessAllowed ? 'block' : 'none';\n",
              "    })();\n",
              "  </script>\n",
              "</div>\n",
              "\n",
              "    </div>\n",
              "  </div>\n"
            ],
            "application/vnd.google.colaboratory.intrinsic+json": {
              "type": "dataframe",
              "variable_name": "df",
              "summary": "{\n  \"name\": \"df\",\n  \"rows\": 33518,\n  \"fields\": [\n    {\n      \"column\": \"TCode\",\n      \"properties\": {\n        \"dtype\": \"category\",\n        \"num_unique_values\": 107,\n        \"samples\": [\n          \"MF1504\",\n          \"MF0024\",\n          \"BF0188\"\n        ],\n        \"semantic_type\": \"\",\n        \"description\": \"\"\n      }\n    },\n    {\n      \"column\": \"Average\",\n      \"properties\": {\n        \"dtype\": \"number\",\n        \"std\": 458.0202140671197,\n        \"min\": 0.0,\n        \"max\": 3200.0,\n        \"num_unique_values\": 14087,\n        \"samples\": [\n          914.05,\n          623.72,\n          648.82\n        ],\n        \"semantic_type\": \"\",\n        \"description\": \"\"\n      }\n    },\n    {\n      \"column\": \"Stock\",\n      \"properties\": {\n        \"dtype\": \"number\",\n        \"std\": 36005.47653582628,\n        \"min\": -45.0,\n        \"max\": 199357.0,\n        \"num_unique_values\": 13456,\n        \"samples\": [\n          22094.0,\n          31837.0,\n          47641.0\n        ],\n        \"semantic_type\": \"\",\n        \"description\": \"\"\n      }\n    },\n    {\n      \"column\": \"StockValue\",\n      \"properties\": {\n        \"dtype\": \"number\",\n        \"std\": 29266988.73461818,\n        \"min\": -3000.0,\n        \"max\": 252622402.5,\n        \"num_unique_values\": 15963,\n        \"samples\": [\n          13889075.84,\n          29412836.43,\n          8713568.5\n        ],\n        \"semantic_type\": \"\",\n        \"description\": \"\"\n      }\n    },\n    {\n      \"column\": \"70%StockValue\",\n      \"properties\": {\n        \"dtype\": \"number\",\n        \"std\": 20486892.114418842,\n        \"min\": -2100.0,\n        \"max\": 176835681.7,\n        \"num_unique_values\": 15963,\n        \"samples\": [\n          9722353.09,\n          20588985.5,\n          6099497.95\n        ],\n        \"semantic_type\": \"\",\n        \"description\": \"\"\n      }\n    },\n    {\n      \"column\": \"Proceeds\",\n      \"properties\": {\n        \"dtype\": \"number\",\n        \"std\": 9777507.807250924,\n        \"min\": -51550.76,\n        \"max\": 77163942.38,\n        \"num_unique_values\": 15088,\n        \"samples\": [\n          6263714.67,\n          4659296.26,\n          3304944.12\n        ],\n        \"semantic_type\": \"\",\n        \"description\": \"\"\n      }\n    },\n    {\n      \"column\": \"AdvanceBalance\",\n      \"properties\": {\n        \"dtype\": \"number\",\n        \"std\": 22991915.092515662,\n        \"min\": -4000000.0,\n        \"max\": 298271959.7,\n        \"num_unique_values\": 5627,\n        \"samples\": [\n          21547593.69,\n          35071992.88,\n          4176958.35\n        ],\n        \"semantic_type\": \"\",\n        \"description\": \"\"\n      }\n    },\n    {\n      \"column\": \"IsOverAdvance\",\n      \"properties\": {\n        \"dtype\": \"number\",\n        \"std\": 0,\n        \"min\": 0,\n        \"max\": 1,\n        \"num_unique_values\": 2,\n        \"samples\": [\n          1,\n          0\n        ],\n        \"semantic_type\": \"\",\n        \"description\": \"\"\n      }\n    },\n    {\n      \"column\": \"AdvanceInterest\",\n      \"properties\": {\n        \"dtype\": \"number\",\n        \"std\": 15469.820096468166,\n        \"min\": 0.0,\n        \"max\": 245155.03,\n        \"num_unique_values\": 5703,\n        \"samples\": [\n          184.92,\n          2043.97\n        ],\n        \"semantic_type\": \"\",\n        \"description\": \"\"\n      }\n    },\n    {\n      \"column\": \"OverAdvanceInterest\",\n      \"properties\": {\n        \"dtype\": \"number\",\n        \"std\": 1632.386755321912,\n        \"min\": 0.0,\n        \"max\": 30591.98,\n        \"num_unique_values\": 3712,\n        \"samples\": [\n          7823.78,\n          3857.26\n        ],\n        \"semantic_type\": \"\",\n        \"description\": \"\"\n      }\n    },\n    {\n      \"column\": \"OverAdvanceAmount\",\n      \"properties\": {\n        \"dtype\": \"number\",\n        \"std\": 11952654.692981862,\n        \"min\": 0.0,\n        \"max\": 223321483.8,\n        \"num_unique_values\": 3724,\n        \"samples\": [\n          36507534.58,\n          675906.57\n        ],\n        \"semantic_type\": \"\",\n        \"description\": \"\"\n      }\n    },\n    {\n      \"column\": \"TransferDate\",\n      \"properties\": {\n        \"dtype\": \"object\",\n        \"num_unique_values\": 265,\n        \"samples\": [\n          \"2022-06-09\",\n          \"2021-03-18\"\n        ],\n        \"semantic_type\": \"\",\n        \"description\": \"\"\n      }\n    },\n    {\n      \"column\": \"FactoryName\",\n      \"properties\": {\n        \"dtype\": \"category\",\n        \"num_unique_values\": 153,\n        \"samples\": [\n          \"Thalgampola Tea Factory\",\n          \"Lumbini Tea Factory\"\n        ],\n        \"semantic_type\": \"\",\n        \"description\": \"\"\n      }\n    },\n    {\n      \"column\": \"Elevation\",\n      \"properties\": {\n        \"dtype\": \"category\",\n        \"num_unique_values\": 5,\n        \"samples\": [\n          \"Western Medium\",\n          \"Western High\"\n        ],\n        \"semantic_type\": \"\",\n        \"description\": \"\"\n      }\n    },\n    {\n      \"column\": \"Composite_Variable_Sigmoid\",\n      \"properties\": {\n        \"dtype\": \"number\",\n        \"std\": 0.21316260519523808,\n        \"min\": 0.23205939887285704,\n        \"max\": 0.9999999932801282,\n        \"num_unique_values\": 17224,\n        \"samples\": [\n          0.5549878930256898,\n          0.8739237185553446\n        ],\n        \"semantic_type\": \"\",\n        \"description\": \"\"\n      }\n    }\n  ]\n}"
            }
          },
          "metadata": {},
          "execution_count": 46
        }
      ]
    },
    {
      "cell_type": "markdown",
      "source": [
        "Mapping to Probability Range:\n",
        "\n",
        "The sigmoid function, also known as the logistic function, maps real values into the range (0, 1).\n",
        "It is commonly used in logistic regression to model the probability of an event occurring.\n",
        "Interpretability:\n",
        "\n",
        "The sigmoid function provides a natural interpretation as probabilities, making it suitable when you want the composite variable to represent a probability-like score.\n",
        "Context of Factor Analysis:\n",
        "\n",
        "Factor analysis often deals with latent constructs or factors that might be associated with underlying probabilities or likelihoods.\n",
        "In contrast, min-max scaling simply normalizes values to the range (0, 1) without considering their distribution or interpretation as probabilities.\n",
        "\n",
        "Ultimately, the choice between the sigmoid function and min-max scaling depends on the context and the specific requirements of your analysis. If the goal is to map factor scores to a probability-like scale, the sigmoid function is a meaningful choice."
      ],
      "metadata": {
        "id": "xqQdpM3sL2Y-"
      }
    },
    {
      "cell_type": "code",
      "source": [],
      "metadata": {
        "id": "oNrSkSgJLYzk"
      },
      "execution_count": null,
      "outputs": []
    },
    {
      "cell_type": "markdown",
      "source": [
        "Min max Scaler"
      ],
      "metadata": {
        "id": "hwl8MJM9M__f"
      }
    },
    {
      "cell_type": "code",
      "source": [
        "from sklearn.preprocessing import MinMaxScaler"
      ],
      "metadata": {
        "id": "yxTu7OU2NLvK"
      },
      "execution_count": 47,
      "outputs": []
    },
    {
      "cell_type": "code",
      "source": [
        "# Min-Max Scaling to map values to the range (0, 1)\n",
        "scaler = MinMaxScaler()\n",
        "df['Composite_Variable_MinMax'] = scaler.fit_transform(composite_variable.reshape(-1, 1))"
      ],
      "metadata": {
        "id": "AS3HykCnLZEr"
      },
      "execution_count": 48,
      "outputs": []
    },
    {
      "cell_type": "code",
      "source": [
        "df.head()"
      ],
      "metadata": {
        "colab": {
          "base_uri": "https://localhost:8080/",
          "height": 313
        },
        "id": "VDeaiWDYNNy3",
        "outputId": "29961118-3115-4276-c051-8da9ef4e96fc"
      },
      "execution_count": 49,
      "outputs": [
        {
          "output_type": "execute_result",
          "data": {
            "text/plain": [
              "    TCode  Average    Stock   StockValue  70%StockValue    Proceeds  \\\n",
              "0  BF0111   405.56  21681.0   8792943.00     6155060.10  1024871.67   \n",
              "1  BF0111   431.21  24823.0  10703823.61     7492676.53  1845832.24   \n",
              "2  BF0111   453.22  22461.0  10179786.44     7125850.51  3240724.52   \n",
              "3  BF0111   433.62  20386.0   8839714.59     6187800.21  1272360.23   \n",
              "4  BF0111   422.17  14782.0   6240460.96     4368322.67  3263006.68   \n",
              "\n",
              "   AdvanceBalance  IsOverAdvance  AdvanceInterest  OverAdvanceInterest  \\\n",
              "0            0.00              0             0.00                  0.0   \n",
              "1            0.00              0             0.00                  0.0   \n",
              "2       547607.19              0           285.06                  0.0   \n",
              "3            0.00              0             0.00                  0.0   \n",
              "4            0.00              0             0.00                  0.0   \n",
              "\n",
              "   OverAdvanceAmount TransferDate               FactoryName Elevation  \\\n",
              "0                0.0   2019-01-03  Pilimatalawa Tea Factory       Low   \n",
              "1                0.0   2019-01-10  Pilimatalawa Tea Factory       Low   \n",
              "2                0.0   2019-01-17  Pilimatalawa Tea Factory       Low   \n",
              "3                0.0   2019-01-24  Pilimatalawa Tea Factory       Low   \n",
              "4                0.0   2019-01-31  Pilimatalawa Tea Factory       Low   \n",
              "\n",
              "   Composite_Variable_Sigmoid  Composite_Variable_MinMax  \n",
              "0                    0.290210                   0.015107  \n",
              "1                    0.303927                   0.018389  \n",
              "2                    0.300133                   0.017490  \n",
              "3                    0.290542                   0.015187  \n",
              "4                    0.272471                   0.010722  "
            ],
            "text/html": [
              "\n",
              "  <div id=\"df-437e0077-8601-4c9e-8cb3-d5df844f679e\" class=\"colab-df-container\">\n",
              "    <div>\n",
              "<style scoped>\n",
              "    .dataframe tbody tr th:only-of-type {\n",
              "        vertical-align: middle;\n",
              "    }\n",
              "\n",
              "    .dataframe tbody tr th {\n",
              "        vertical-align: top;\n",
              "    }\n",
              "\n",
              "    .dataframe thead th {\n",
              "        text-align: right;\n",
              "    }\n",
              "</style>\n",
              "<table border=\"1\" class=\"dataframe\">\n",
              "  <thead>\n",
              "    <tr style=\"text-align: right;\">\n",
              "      <th></th>\n",
              "      <th>TCode</th>\n",
              "      <th>Average</th>\n",
              "      <th>Stock</th>\n",
              "      <th>StockValue</th>\n",
              "      <th>70%StockValue</th>\n",
              "      <th>Proceeds</th>\n",
              "      <th>AdvanceBalance</th>\n",
              "      <th>IsOverAdvance</th>\n",
              "      <th>AdvanceInterest</th>\n",
              "      <th>OverAdvanceInterest</th>\n",
              "      <th>OverAdvanceAmount</th>\n",
              "      <th>TransferDate</th>\n",
              "      <th>FactoryName</th>\n",
              "      <th>Elevation</th>\n",
              "      <th>Composite_Variable_Sigmoid</th>\n",
              "      <th>Composite_Variable_MinMax</th>\n",
              "    </tr>\n",
              "  </thead>\n",
              "  <tbody>\n",
              "    <tr>\n",
              "      <th>0</th>\n",
              "      <td>BF0111</td>\n",
              "      <td>405.56</td>\n",
              "      <td>21681.0</td>\n",
              "      <td>8792943.00</td>\n",
              "      <td>6155060.10</td>\n",
              "      <td>1024871.67</td>\n",
              "      <td>0.00</td>\n",
              "      <td>0</td>\n",
              "      <td>0.00</td>\n",
              "      <td>0.0</td>\n",
              "      <td>0.0</td>\n",
              "      <td>2019-01-03</td>\n",
              "      <td>Pilimatalawa Tea Factory</td>\n",
              "      <td>Low</td>\n",
              "      <td>0.290210</td>\n",
              "      <td>0.015107</td>\n",
              "    </tr>\n",
              "    <tr>\n",
              "      <th>1</th>\n",
              "      <td>BF0111</td>\n",
              "      <td>431.21</td>\n",
              "      <td>24823.0</td>\n",
              "      <td>10703823.61</td>\n",
              "      <td>7492676.53</td>\n",
              "      <td>1845832.24</td>\n",
              "      <td>0.00</td>\n",
              "      <td>0</td>\n",
              "      <td>0.00</td>\n",
              "      <td>0.0</td>\n",
              "      <td>0.0</td>\n",
              "      <td>2019-01-10</td>\n",
              "      <td>Pilimatalawa Tea Factory</td>\n",
              "      <td>Low</td>\n",
              "      <td>0.303927</td>\n",
              "      <td>0.018389</td>\n",
              "    </tr>\n",
              "    <tr>\n",
              "      <th>2</th>\n",
              "      <td>BF0111</td>\n",
              "      <td>453.22</td>\n",
              "      <td>22461.0</td>\n",
              "      <td>10179786.44</td>\n",
              "      <td>7125850.51</td>\n",
              "      <td>3240724.52</td>\n",
              "      <td>547607.19</td>\n",
              "      <td>0</td>\n",
              "      <td>285.06</td>\n",
              "      <td>0.0</td>\n",
              "      <td>0.0</td>\n",
              "      <td>2019-01-17</td>\n",
              "      <td>Pilimatalawa Tea Factory</td>\n",
              "      <td>Low</td>\n",
              "      <td>0.300133</td>\n",
              "      <td>0.017490</td>\n",
              "    </tr>\n",
              "    <tr>\n",
              "      <th>3</th>\n",
              "      <td>BF0111</td>\n",
              "      <td>433.62</td>\n",
              "      <td>20386.0</td>\n",
              "      <td>8839714.59</td>\n",
              "      <td>6187800.21</td>\n",
              "      <td>1272360.23</td>\n",
              "      <td>0.00</td>\n",
              "      <td>0</td>\n",
              "      <td>0.00</td>\n",
              "      <td>0.0</td>\n",
              "      <td>0.0</td>\n",
              "      <td>2019-01-24</td>\n",
              "      <td>Pilimatalawa Tea Factory</td>\n",
              "      <td>Low</td>\n",
              "      <td>0.290542</td>\n",
              "      <td>0.015187</td>\n",
              "    </tr>\n",
              "    <tr>\n",
              "      <th>4</th>\n",
              "      <td>BF0111</td>\n",
              "      <td>422.17</td>\n",
              "      <td>14782.0</td>\n",
              "      <td>6240460.96</td>\n",
              "      <td>4368322.67</td>\n",
              "      <td>3263006.68</td>\n",
              "      <td>0.00</td>\n",
              "      <td>0</td>\n",
              "      <td>0.00</td>\n",
              "      <td>0.0</td>\n",
              "      <td>0.0</td>\n",
              "      <td>2019-01-31</td>\n",
              "      <td>Pilimatalawa Tea Factory</td>\n",
              "      <td>Low</td>\n",
              "      <td>0.272471</td>\n",
              "      <td>0.010722</td>\n",
              "    </tr>\n",
              "  </tbody>\n",
              "</table>\n",
              "</div>\n",
              "    <div class=\"colab-df-buttons\">\n",
              "\n",
              "  <div class=\"colab-df-container\">\n",
              "    <button class=\"colab-df-convert\" onclick=\"convertToInteractive('df-437e0077-8601-4c9e-8cb3-d5df844f679e')\"\n",
              "            title=\"Convert this dataframe to an interactive table.\"\n",
              "            style=\"display:none;\">\n",
              "\n",
              "  <svg xmlns=\"http://www.w3.org/2000/svg\" height=\"24px\" viewBox=\"0 -960 960 960\">\n",
              "    <path d=\"M120-120v-720h720v720H120Zm60-500h600v-160H180v160Zm220 220h160v-160H400v160Zm0 220h160v-160H400v160ZM180-400h160v-160H180v160Zm440 0h160v-160H620v160ZM180-180h160v-160H180v160Zm440 0h160v-160H620v160Z\"/>\n",
              "  </svg>\n",
              "    </button>\n",
              "\n",
              "  <style>\n",
              "    .colab-df-container {\n",
              "      display:flex;\n",
              "      gap: 12px;\n",
              "    }\n",
              "\n",
              "    .colab-df-convert {\n",
              "      background-color: #E8F0FE;\n",
              "      border: none;\n",
              "      border-radius: 50%;\n",
              "      cursor: pointer;\n",
              "      display: none;\n",
              "      fill: #1967D2;\n",
              "      height: 32px;\n",
              "      padding: 0 0 0 0;\n",
              "      width: 32px;\n",
              "    }\n",
              "\n",
              "    .colab-df-convert:hover {\n",
              "      background-color: #E2EBFA;\n",
              "      box-shadow: 0px 1px 2px rgba(60, 64, 67, 0.3), 0px 1px 3px 1px rgba(60, 64, 67, 0.15);\n",
              "      fill: #174EA6;\n",
              "    }\n",
              "\n",
              "    .colab-df-buttons div {\n",
              "      margin-bottom: 4px;\n",
              "    }\n",
              "\n",
              "    [theme=dark] .colab-df-convert {\n",
              "      background-color: #3B4455;\n",
              "      fill: #D2E3FC;\n",
              "    }\n",
              "\n",
              "    [theme=dark] .colab-df-convert:hover {\n",
              "      background-color: #434B5C;\n",
              "      box-shadow: 0px 1px 3px 1px rgba(0, 0, 0, 0.15);\n",
              "      filter: drop-shadow(0px 1px 2px rgba(0, 0, 0, 0.3));\n",
              "      fill: #FFFFFF;\n",
              "    }\n",
              "  </style>\n",
              "\n",
              "    <script>\n",
              "      const buttonEl =\n",
              "        document.querySelector('#df-437e0077-8601-4c9e-8cb3-d5df844f679e button.colab-df-convert');\n",
              "      buttonEl.style.display =\n",
              "        google.colab.kernel.accessAllowed ? 'block' : 'none';\n",
              "\n",
              "      async function convertToInteractive(key) {\n",
              "        const element = document.querySelector('#df-437e0077-8601-4c9e-8cb3-d5df844f679e');\n",
              "        const dataTable =\n",
              "          await google.colab.kernel.invokeFunction('convertToInteractive',\n",
              "                                                    [key], {});\n",
              "        if (!dataTable) return;\n",
              "\n",
              "        const docLinkHtml = 'Like what you see? Visit the ' +\n",
              "          '<a target=\"_blank\" href=https://colab.research.google.com/notebooks/data_table.ipynb>data table notebook</a>'\n",
              "          + ' to learn more about interactive tables.';\n",
              "        element.innerHTML = '';\n",
              "        dataTable['output_type'] = 'display_data';\n",
              "        await google.colab.output.renderOutput(dataTable, element);\n",
              "        const docLink = document.createElement('div');\n",
              "        docLink.innerHTML = docLinkHtml;\n",
              "        element.appendChild(docLink);\n",
              "      }\n",
              "    </script>\n",
              "  </div>\n",
              "\n",
              "\n",
              "<div id=\"df-590cfadc-7671-453e-85a3-01eb47e6c134\">\n",
              "  <button class=\"colab-df-quickchart\" onclick=\"quickchart('df-590cfadc-7671-453e-85a3-01eb47e6c134')\"\n",
              "            title=\"Suggest charts\"\n",
              "            style=\"display:none;\">\n",
              "\n",
              "<svg xmlns=\"http://www.w3.org/2000/svg\" height=\"24px\"viewBox=\"0 0 24 24\"\n",
              "     width=\"24px\">\n",
              "    <g>\n",
              "        <path d=\"M19 3H5c-1.1 0-2 .9-2 2v14c0 1.1.9 2 2 2h14c1.1 0 2-.9 2-2V5c0-1.1-.9-2-2-2zM9 17H7v-7h2v7zm4 0h-2V7h2v10zm4 0h-2v-4h2v4z\"/>\n",
              "    </g>\n",
              "</svg>\n",
              "  </button>\n",
              "\n",
              "<style>\n",
              "  .colab-df-quickchart {\n",
              "      --bg-color: #E8F0FE;\n",
              "      --fill-color: #1967D2;\n",
              "      --hover-bg-color: #E2EBFA;\n",
              "      --hover-fill-color: #174EA6;\n",
              "      --disabled-fill-color: #AAA;\n",
              "      --disabled-bg-color: #DDD;\n",
              "  }\n",
              "\n",
              "  [theme=dark] .colab-df-quickchart {\n",
              "      --bg-color: #3B4455;\n",
              "      --fill-color: #D2E3FC;\n",
              "      --hover-bg-color: #434B5C;\n",
              "      --hover-fill-color: #FFFFFF;\n",
              "      --disabled-bg-color: #3B4455;\n",
              "      --disabled-fill-color: #666;\n",
              "  }\n",
              "\n",
              "  .colab-df-quickchart {\n",
              "    background-color: var(--bg-color);\n",
              "    border: none;\n",
              "    border-radius: 50%;\n",
              "    cursor: pointer;\n",
              "    display: none;\n",
              "    fill: var(--fill-color);\n",
              "    height: 32px;\n",
              "    padding: 0;\n",
              "    width: 32px;\n",
              "  }\n",
              "\n",
              "  .colab-df-quickchart:hover {\n",
              "    background-color: var(--hover-bg-color);\n",
              "    box-shadow: 0 1px 2px rgba(60, 64, 67, 0.3), 0 1px 3px 1px rgba(60, 64, 67, 0.15);\n",
              "    fill: var(--button-hover-fill-color);\n",
              "  }\n",
              "\n",
              "  .colab-df-quickchart-complete:disabled,\n",
              "  .colab-df-quickchart-complete:disabled:hover {\n",
              "    background-color: var(--disabled-bg-color);\n",
              "    fill: var(--disabled-fill-color);\n",
              "    box-shadow: none;\n",
              "  }\n",
              "\n",
              "  .colab-df-spinner {\n",
              "    border: 2px solid var(--fill-color);\n",
              "    border-color: transparent;\n",
              "    border-bottom-color: var(--fill-color);\n",
              "    animation:\n",
              "      spin 1s steps(1) infinite;\n",
              "  }\n",
              "\n",
              "  @keyframes spin {\n",
              "    0% {\n",
              "      border-color: transparent;\n",
              "      border-bottom-color: var(--fill-color);\n",
              "      border-left-color: var(--fill-color);\n",
              "    }\n",
              "    20% {\n",
              "      border-color: transparent;\n",
              "      border-left-color: var(--fill-color);\n",
              "      border-top-color: var(--fill-color);\n",
              "    }\n",
              "    30% {\n",
              "      border-color: transparent;\n",
              "      border-left-color: var(--fill-color);\n",
              "      border-top-color: var(--fill-color);\n",
              "      border-right-color: var(--fill-color);\n",
              "    }\n",
              "    40% {\n",
              "      border-color: transparent;\n",
              "      border-right-color: var(--fill-color);\n",
              "      border-top-color: var(--fill-color);\n",
              "    }\n",
              "    60% {\n",
              "      border-color: transparent;\n",
              "      border-right-color: var(--fill-color);\n",
              "    }\n",
              "    80% {\n",
              "      border-color: transparent;\n",
              "      border-right-color: var(--fill-color);\n",
              "      border-bottom-color: var(--fill-color);\n",
              "    }\n",
              "    90% {\n",
              "      border-color: transparent;\n",
              "      border-bottom-color: var(--fill-color);\n",
              "    }\n",
              "  }\n",
              "</style>\n",
              "\n",
              "  <script>\n",
              "    async function quickchart(key) {\n",
              "      const quickchartButtonEl =\n",
              "        document.querySelector('#' + key + ' button');\n",
              "      quickchartButtonEl.disabled = true;  // To prevent multiple clicks.\n",
              "      quickchartButtonEl.classList.add('colab-df-spinner');\n",
              "      try {\n",
              "        const charts = await google.colab.kernel.invokeFunction(\n",
              "            'suggestCharts', [key], {});\n",
              "      } catch (error) {\n",
              "        console.error('Error during call to suggestCharts:', error);\n",
              "      }\n",
              "      quickchartButtonEl.classList.remove('colab-df-spinner');\n",
              "      quickchartButtonEl.classList.add('colab-df-quickchart-complete');\n",
              "    }\n",
              "    (() => {\n",
              "      let quickchartButtonEl =\n",
              "        document.querySelector('#df-590cfadc-7671-453e-85a3-01eb47e6c134 button');\n",
              "      quickchartButtonEl.style.display =\n",
              "        google.colab.kernel.accessAllowed ? 'block' : 'none';\n",
              "    })();\n",
              "  </script>\n",
              "</div>\n",
              "\n",
              "    </div>\n",
              "  </div>\n"
            ],
            "application/vnd.google.colaboratory.intrinsic+json": {
              "type": "dataframe",
              "variable_name": "df",
              "summary": "{\n  \"name\": \"df\",\n  \"rows\": 33518,\n  \"fields\": [\n    {\n      \"column\": \"TCode\",\n      \"properties\": {\n        \"dtype\": \"category\",\n        \"num_unique_values\": 107,\n        \"samples\": [\n          \"MF1504\",\n          \"MF0024\",\n          \"BF0188\"\n        ],\n        \"semantic_type\": \"\",\n        \"description\": \"\"\n      }\n    },\n    {\n      \"column\": \"Average\",\n      \"properties\": {\n        \"dtype\": \"number\",\n        \"std\": 458.0202140671197,\n        \"min\": 0.0,\n        \"max\": 3200.0,\n        \"num_unique_values\": 14087,\n        \"samples\": [\n          914.05,\n          623.72,\n          648.82\n        ],\n        \"semantic_type\": \"\",\n        \"description\": \"\"\n      }\n    },\n    {\n      \"column\": \"Stock\",\n      \"properties\": {\n        \"dtype\": \"number\",\n        \"std\": 36005.47653582628,\n        \"min\": -45.0,\n        \"max\": 199357.0,\n        \"num_unique_values\": 13456,\n        \"samples\": [\n          22094.0,\n          31837.0,\n          47641.0\n        ],\n        \"semantic_type\": \"\",\n        \"description\": \"\"\n      }\n    },\n    {\n      \"column\": \"StockValue\",\n      \"properties\": {\n        \"dtype\": \"number\",\n        \"std\": 29266988.73461818,\n        \"min\": -3000.0,\n        \"max\": 252622402.5,\n        \"num_unique_values\": 15963,\n        \"samples\": [\n          13889075.84,\n          29412836.43,\n          8713568.5\n        ],\n        \"semantic_type\": \"\",\n        \"description\": \"\"\n      }\n    },\n    {\n      \"column\": \"70%StockValue\",\n      \"properties\": {\n        \"dtype\": \"number\",\n        \"std\": 20486892.114418842,\n        \"min\": -2100.0,\n        \"max\": 176835681.7,\n        \"num_unique_values\": 15963,\n        \"samples\": [\n          9722353.09,\n          20588985.5,\n          6099497.95\n        ],\n        \"semantic_type\": \"\",\n        \"description\": \"\"\n      }\n    },\n    {\n      \"column\": \"Proceeds\",\n      \"properties\": {\n        \"dtype\": \"number\",\n        \"std\": 9777507.807250924,\n        \"min\": -51550.76,\n        \"max\": 77163942.38,\n        \"num_unique_values\": 15088,\n        \"samples\": [\n          6263714.67,\n          4659296.26,\n          3304944.12\n        ],\n        \"semantic_type\": \"\",\n        \"description\": \"\"\n      }\n    },\n    {\n      \"column\": \"AdvanceBalance\",\n      \"properties\": {\n        \"dtype\": \"number\",\n        \"std\": 22991915.092515662,\n        \"min\": -4000000.0,\n        \"max\": 298271959.7,\n        \"num_unique_values\": 5627,\n        \"samples\": [\n          21547593.69,\n          35071992.88,\n          4176958.35\n        ],\n        \"semantic_type\": \"\",\n        \"description\": \"\"\n      }\n    },\n    {\n      \"column\": \"IsOverAdvance\",\n      \"properties\": {\n        \"dtype\": \"number\",\n        \"std\": 0,\n        \"min\": 0,\n        \"max\": 1,\n        \"num_unique_values\": 2,\n        \"samples\": [\n          1,\n          0\n        ],\n        \"semantic_type\": \"\",\n        \"description\": \"\"\n      }\n    },\n    {\n      \"column\": \"AdvanceInterest\",\n      \"properties\": {\n        \"dtype\": \"number\",\n        \"std\": 15469.820096468166,\n        \"min\": 0.0,\n        \"max\": 245155.03,\n        \"num_unique_values\": 5703,\n        \"samples\": [\n          184.92,\n          2043.97\n        ],\n        \"semantic_type\": \"\",\n        \"description\": \"\"\n      }\n    },\n    {\n      \"column\": \"OverAdvanceInterest\",\n      \"properties\": {\n        \"dtype\": \"number\",\n        \"std\": 1632.386755321912,\n        \"min\": 0.0,\n        \"max\": 30591.98,\n        \"num_unique_values\": 3712,\n        \"samples\": [\n          7823.78,\n          3857.26\n        ],\n        \"semantic_type\": \"\",\n        \"description\": \"\"\n      }\n    },\n    {\n      \"column\": \"OverAdvanceAmount\",\n      \"properties\": {\n        \"dtype\": \"number\",\n        \"std\": 11952654.692981862,\n        \"min\": 0.0,\n        \"max\": 223321483.8,\n        \"num_unique_values\": 3724,\n        \"samples\": [\n          36507534.58,\n          675906.57\n        ],\n        \"semantic_type\": \"\",\n        \"description\": \"\"\n      }\n    },\n    {\n      \"column\": \"TransferDate\",\n      \"properties\": {\n        \"dtype\": \"object\",\n        \"num_unique_values\": 265,\n        \"samples\": [\n          \"2022-06-09\",\n          \"2021-03-18\"\n        ],\n        \"semantic_type\": \"\",\n        \"description\": \"\"\n      }\n    },\n    {\n      \"column\": \"FactoryName\",\n      \"properties\": {\n        \"dtype\": \"category\",\n        \"num_unique_values\": 153,\n        \"samples\": [\n          \"Thalgampola Tea Factory\",\n          \"Lumbini Tea Factory\"\n        ],\n        \"semantic_type\": \"\",\n        \"description\": \"\"\n      }\n    },\n    {\n      \"column\": \"Elevation\",\n      \"properties\": {\n        \"dtype\": \"category\",\n        \"num_unique_values\": 5,\n        \"samples\": [\n          \"Western Medium\",\n          \"Western High\"\n        ],\n        \"semantic_type\": \"\",\n        \"description\": \"\"\n      }\n    },\n    {\n      \"column\": \"Composite_Variable_Sigmoid\",\n      \"properties\": {\n        \"dtype\": \"number\",\n        \"std\": 0.21316260519523808,\n        \"min\": 0.23205939887285704,\n        \"max\": 0.9999999932801282,\n        \"num_unique_values\": 17224,\n        \"samples\": [\n          0.5549878930256898,\n          0.8739237185553446\n        ],\n        \"semantic_type\": \"\",\n        \"description\": \"\"\n      }\n    },\n    {\n      \"column\": \"Composite_Variable_MinMax\",\n      \"properties\": {\n        \"dtype\": \"number\",\n        \"std\": 0.07065626605272704,\n        \"min\": 0.0,\n        \"max\": 0.9999999999999999,\n        \"num_unique_values\": 17224,\n        \"samples\": [\n          0.07082537073778986,\n          0.15652451481187046\n        ],\n        \"semantic_type\": \"\",\n        \"description\": \"\"\n      }\n    }\n  ]\n}"
            }
          },
          "metadata": {},
          "execution_count": 49
        }
      ]
    },
    {
      "cell_type": "code",
      "source": [],
      "metadata": {
        "id": "Hmq_p7W5NN-m"
      },
      "execution_count": null,
      "outputs": []
    },
    {
      "cell_type": "code",
      "source": [
        "output_csv_file = \"/content/drive/MyDrive/Asia Siyaka/Final_02_FactorAnalysis.csv\"\n",
        "df.to_csv(output_csv_file, index=False)"
      ],
      "metadata": {
        "id": "7zFwjL84NOEu"
      },
      "execution_count": null,
      "outputs": []
    },
    {
      "cell_type": "code",
      "source": [],
      "metadata": {
        "id": "xVihSQGKNOI0"
      },
      "execution_count": null,
      "outputs": []
    },
    {
      "cell_type": "code",
      "source": [],
      "metadata": {
        "id": "ZCKTZihmNOMX"
      },
      "execution_count": null,
      "outputs": []
    }
  ]
}